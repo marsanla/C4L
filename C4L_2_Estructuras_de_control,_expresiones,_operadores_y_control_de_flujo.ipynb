{
  "nbformat": 4,
  "nbformat_minor": 0,
  "metadata": {
    "colab": {
      "provenance": [],
      "collapsed_sections": [
        "AQVGk2uf4GZX",
        "CBYu96EC4T8w",
        "0_bAkZxxxhmV",
        "pySmlcNk1O-8",
        "RAFlxBRTxmZJ",
        "JVqtWIDWxp3i",
        "-4RIbc-U8q52",
        "VEgYCvrt8xiF"
      ],
      "authorship_tag": "ABX9TyMYrJZcxREiU47fAyBRa4LG",
      "include_colab_link": true
    },
    "kernelspec": {
      "name": "python3",
      "display_name": "Python 3"
    },
    "language_info": {
      "name": "python"
    }
  },
  "cells": [
    {
      "cell_type": "markdown",
      "metadata": {
        "id": "view-in-github",
        "colab_type": "text"
      },
      "source": [
        "<a href=\"https://colab.research.google.com/github/marsanla/C4L/blob/main/C4L_2_Estructuras_de_control%2C_expresiones%2C_operadores_y_control_de_flujo.ipynb\" target=\"_parent\"><img src=\"https://colab.research.google.com/assets/colab-badge.svg\" alt=\"Open In Colab\"/></a>"
      ]
    },
    {
      "cell_type": "markdown",
      "source": [
        "# Estructuras de control, expresiones, operadores y control de flujo\n",
        "\n"
      ],
      "metadata": {
        "id": "K1KlQoOs2EvZ"
      }
    },
    {
      "cell_type": "markdown",
      "source": [
        "\n",
        "\n",
        "## 1.   Objetivos del día\n",
        "\n"
      ],
      "metadata": {
        "id": "AQVGk2uf4GZX"
      }
    },
    {
      "cell_type": "markdown",
      "source": [
        "### ¿Qué esperar hoy?\n",
        "\n",
        "Profundizaremos en cómo Python puede ser utilizado para manejar decisiones lógicas y repetición de tareas, elementos cruciales en la automatización de procesos legales. El objetivo de hoy es dotaros con las herramientas necesarias para escribir programas que puedan tomar decisiones y ejecutar operaciones repetitivas de forma eficiente.\n",
        "\n",
        "### ¿Qué cubriremos?\n",
        "\n",
        "- **Expresiones y operadores**: Exploraremos los diferentes tipos de operadores en Python, incluyendo aritméticos, de comparación, lógicos, y de asignación. Comprenderemos cómo estas herramientas permiten realizar cálculos y evaluar condiciones dentro del código.\n",
        "\n",
        "- **Estructuras de Control**: Aprenderemos a usar estructuras de control como `if`, `else`, y `elif` para tomar decisiones en nuestros programas. Estas estructuras son fundamentales para desarrollar scripts que puedan adaptarse a diferentes condiciones y datos.\n",
        "\n",
        "- **Control de Flujo con Bucles**: Nos enfocaremos en los bucles `for` y `while`, que son esenciales para automatizar tareas repetitivas, como procesar listas de casos, documentos, o realizar cálculos legales que requieren iteración.\n",
        "\n",
        "¡Empecemos!"
      ],
      "metadata": {
        "id": "qiiRFF9C42cw"
      }
    },
    {
      "cell_type": "markdown",
      "source": [
        "## 2.   Sección de teoría\n"
      ],
      "metadata": {
        "id": "CBYu96EC4T8w"
      }
    },
    {
      "cell_type": "markdown",
      "source": [
        "### 2.1 Expresiones y operadores"
      ],
      "metadata": {
        "id": "0_bAkZxxxhmV"
      }
    },
    {
      "cell_type": "markdown",
      "source": [
        "En el ámbito de la programación, una **expresión** es una combinación de valores, variables y operadores que, al ser evaluada, produce otro valor. De manera similar a como los sustantivos forman la base de las oraciones en el lenguaje humano, **las expresiones son los componentes fundamentales de las instrucciones en un programa de ordenador**.\n",
        "\n",
        "| Ejemplo de Larry | Ejemplo real |\n",
        "| ---------------- | ------------ |\n",
        "| mover **derecha**    | **4 + 1**    |\n",
        "| mover **derecha**    | **x / 2**    |\n",
        "| mover **abajo**      |              |\n",
        "\n",
        "**Un operador es un símbolo que le dice al compilador o al intérprete que realice una operación específica**, como matemática, comparación o lógica. Los operadores permiten modificar los valores de las variables y dirigir el flujo del programa basándose en condiciones.\n",
        "\n",
        "| Ejemplo de Larry | Ejemplo real |\n",
        "| ---------------- | ------------ |\n",
        "| **mover derecha**    | **x = 4 + 1**    |\n",
        "| **mover derecha**    | **if( ( x / 2 ) > 15 )**    |\n",
        "| **mover abajo**      |              |\n"
      ],
      "metadata": {
        "id": "n2F7mbVxoieY"
      }
    },
    {
      "cell_type": "markdown",
      "source": [
        "\n",
        "En programación el orden es importante. Usamos “(“ o “)” para gestionar conflictos y expresiones ambiguas.\n",
        "\n",
        "No es lo mismo decir:\n",
        "\n",
        "`mientras ( no esté encima del juzgado ) y ( no esté al lado del sitio de construcción ) .`\n",
        "\n",
        "que\n",
        "\n",
        "`mientras no ( esté encima del juzgado y no esté al lado del sitio de construcción ) .`"
      ],
      "metadata": {
        "id": "Md-qK21wpZD5"
      }
    },
    {
      "cell_type": "markdown",
      "source": [
        "El uso de paréntesis en Python es crucial para controlar el orden de las operaciones dentro de las expresiones, asegurando que operaciones prioritarias se ejecuten primero. Esto es especialmente importante cuando se combinan diferentes tipos de operadores que podrían llevar a ambigüedades o errores en los cálculos."
      ],
      "metadata": {
        "id": "ex4ABlRu1jZt"
      }
    },
    {
      "cell_type": "code",
      "source": [
        "# Cálculo de una compensación con varios factores, asegurando la prioridad en las operaciones\n",
        "\n",
        "salario_base = 2500\n",
        "dias_extra_trabajados = 5\n",
        "tarifa_por_dia_extra = 200\n",
        "deducciones = 300\n",
        "\n",
        "# Uso de paréntesis para asegurar el cálculo correcto de la compensación\n",
        "\n",
        "compensacion_total = (salario_base + (dias_extra_trabajados * tarifa_por_dia_extra)) - deducciones\n",
        "print(f\"Compensación total calculada: {compensacion_total}€\")\n"
      ],
      "metadata": {
        "id": "_HoQRhNE1lsY"
      },
      "execution_count": null,
      "outputs": []
    },
    {
      "cell_type": "markdown",
      "source": [
        "### 2.2 Operadores aritméticos"
      ],
      "metadata": {
        "id": "pySmlcNk1O-8"
      }
    },
    {
      "cell_type": "markdown",
      "source": [
        "Los operadores aritméticos permiten realizar operaciones matemáticas básicas, esenciales en casi cualquier programa, incluyendo aquellos utilizados en aplicaciones legales:\n",
        "\n",
        "- `+`: Suma dos operandos. Ejemplo: `total = precio + impuesto`.\n",
        "- `-`: Resta el segundo operando del primero. Ejemplo: `diferencia = ingresos - gastos`.\n",
        "- `*`: Multiplica ambos operandos. Ejemplo: `total_multa = dias * tarifa_diaria`.\n",
        "- `/`: Divide el numerador por el denominador. Ejemplo: `promedio = total / cantidad`.\n",
        "- `%`: Devuelve el resto de una división entera. Ejemplo: `resto = total_dias % 365`.\n"
      ],
      "metadata": {
        "id": "SOw9Cu7H1V_r"
      }
    },
    {
      "cell_type": "code",
      "source": [
        "# Calculando un interés simple para una suma de dinero en un caso legal\n",
        "\n",
        "principal = 1000  # capital\n",
        "tasa_interes = 5  # tasa de interés anual en porcentaje\n",
        "tiempo = 3        # tiempo en años\n",
        "interes_simple = (principal * tasa_interes * tiempo) / 100\n",
        "print(\"El interés simple es:\", interes_simple)"
      ],
      "metadata": {
        "id": "KB5nXfp9s2Vv"
      },
      "execution_count": null,
      "outputs": []
    },
    {
      "cell_type": "markdown",
      "source": [
        "### 2.3 Operadores de comparación\n",
        "\n",
        "\n"
      ],
      "metadata": {
        "id": "RAFlxBRTxmZJ"
      }
    },
    {
      "cell_type": "markdown",
      "source": [
        "Estos operadores son utilizados para comparar valores, fundamental para tomar decisiones lógicas en el flujo del programa:\n",
        "\n",
        "* **==** Verifica si dos valores son iguales.\n",
        "* **!=** Verifica si dos valores no son iguales.\n",
        "* **>** Mayor que.\n",
        "* **>=** Mayor o igual que.\n",
        "* **<** Menor que.\n",
        "* **<=** Menor o igual que.\n"
      ],
      "metadata": {
        "id": "NOTmuMDU7Sbj"
      }
    },
    {
      "cell_type": "code",
      "source": [
        "edad_minima = 18\n",
        "edad_cliente = 20\n",
        "\n",
        "print('==', edad_cliente == edad_minima)\n",
        "print('!=', edad_cliente != edad_minima)\n",
        "print('>', edad_cliente > edad_minima)\n",
        "print('>=', edad_cliente >= edad_minima)\n",
        "print('<', edad_cliente < edad_minima)\n",
        "print('<=', edad_cliente <= edad_minima)"
      ],
      "metadata": {
        "id": "3cTZBaxMt_Xd"
      },
      "execution_count": null,
      "outputs": []
    },
    {
      "cell_type": "markdown",
      "source": [
        "### 2.4 Operadores lógicos y de concatenación\n"
      ],
      "metadata": {
        "id": "JVqtWIDWxp3i"
      }
    },
    {
      "cell_type": "markdown",
      "source": [
        "Operador lógico NOT, que invierte el estado lógico de su operando.\n",
        "\n",
        "`not`\n",
        "\n",
        "| Expresión | Resultado |\n",
        "| ---------------- | ------------ |\n",
        "| true    | false   |\n",
        "| false    | true      |"
      ],
      "metadata": {
        "id": "X2nNzg6ouwpV"
      }
    },
    {
      "cell_type": "code",
      "source": [
        "# Uso del operador lógico NOT\n",
        "\n",
        "condicion = True\n",
        "print(\"El valor original de la condición es:\", condicion)\n",
        "print(\"El valor invertido de la condición es:\", not condicion)"
      ],
      "metadata": {
        "id": "h7cNC6Ivxkat"
      },
      "execution_count": null,
      "outputs": []
    },
    {
      "cell_type": "markdown",
      "source": [
        "Operador lógico AND, verdadero si ambos operandos son verdaderos.\n",
        "\n",
        "`and`\n",
        "\n",
        "| Expresión 1 | Expresión 2 | Resultado |\n",
        "| ---------------- | ---------------- | ------------ |\n",
        "| true    | true    | true   |\n",
        "| true  | false    | false      |\n",
        "| false  | true    | false      |\n",
        "| false  | false    | false      |"
      ],
      "metadata": {
        "id": "SZjuYLEgvUWn"
      }
    },
    {
      "cell_type": "code",
      "source": [
        "# Uso del operador lógico AND\n",
        "\n",
        "condicion1 = True\n",
        "condicion2 = False\n",
        "print(\"El resultado de condicion1 AND condicion2 es:\", condicion1 and condicion2)"
      ],
      "metadata": {
        "id": "aqGDRYnWxwzK"
      },
      "execution_count": null,
      "outputs": []
    },
    {
      "cell_type": "markdown",
      "source": [
        "Operador lógico OR, verdadero si al menos uno de los operandos es verdadero.\n",
        "\n",
        "`or`\n",
        "\n",
        "| Expresión 1 | Expresión 2 | Resultado |\n",
        "| ---------------- | ---------------- | ------------ |\n",
        "| true    | true    | true   |\n",
        "| true  | false    | true      |\n",
        "| false  | true    | true      |\n",
        "| false  | false    | false      |"
      ],
      "metadata": {
        "id": "MKL6oJryv5Qe"
      }
    },
    {
      "cell_type": "code",
      "source": [
        "# Uso del operador lógico OR\n",
        "\n",
        "condicion1 = True\n",
        "condicion2 = False\n",
        "print(\"El resultado de condicion1 OR condicion2 es:\", condicion1 or condicion2)"
      ],
      "metadata": {
        "id": "WfgTyZVrx3Dq"
      },
      "execution_count": null,
      "outputs": []
    },
    {
      "cell_type": "markdown",
      "source": [
        "Operadores de incremento y decremento que ajustan el valor de una variable en uno.\n",
        "\n",
        "`+=`, `-=`\n",
        "\n",
        "| Expresión |  Resultado |\n",
        "| ---------------- |  ------------ |\n",
        "| variable += 1    |  variable = variable + 1    |\n",
        "| variable -= 1  |  variable = variable - 1      |"
      ],
      "metadata": {
        "id": "xdEpgPOawQRw"
      }
    },
    {
      "cell_type": "code",
      "source": [
        "# Incrementando un valor\n",
        "\n",
        "contador = 0\n",
        "contador += 1  # Equivalente a contador = contador + 1\n",
        "print(\"El valor incrementado de contador es:\", contador)\n",
        "\n",
        "# Decrementando un valor\n",
        "\n",
        "contador -= 1  # Equivalente a contador = contador - 1\n",
        "print(\"El valor decrementado de contador es:\", contador)"
      ],
      "metadata": {
        "id": "462C3Ivfx_ed"
      },
      "execution_count": null,
      "outputs": []
    },
    {
      "cell_type": "markdown",
      "source": [
        "### 2.5 Control de flujo\n",
        "\n",
        "\n"
      ],
      "metadata": {
        "id": "-4RIbc-U8q52"
      }
    },
    {
      "cell_type": "markdown",
      "source": [
        "El control de flujo en la programación se refiere al orden en el que se ejecutan las instrucciones dentro de un programa. Este orden puede ser manipulado utilizando operadores de comparación, lógicos y estructuras de control como condicionales y bucles.\n",
        "\n",
        "En el ámbito legal, por ejemplo, el control de flujo puede ser esencial para automatizar decisiones que dependen de múltiples factores y criterios definidos, permitiendo ejecutar diferentes acciones basadas en diversas condiciones legales."
      ],
      "metadata": {
        "id": "iTscB4KqzqjG"
      }
    },
    {
      "cell_type": "markdown",
      "source": [
        "Por ejemplo, un sistema automatizado puede evaluar si un caso debe proceder a juicio basándose en la comparación de costes legales frente a potenciales beneficios, riesgos asociados y precedentes legales."
      ],
      "metadata": {
        "id": "2VbgSjWu0Pdp"
      }
    },
    {
      "cell_type": "code",
      "source": [
        "def decidir_ir_a_juicio(costos_legales, beneficio_potencial, riesgo_asociado, hay_precedentes):\n",
        "    # Evaluar los precedentes legales\n",
        "    if hay_precedentes:\n",
        "        print(\"Hay precedentes favorables, considerar otros factores.\")\n",
        "    else:\n",
        "        print(\"No hay precedentes favorables, riesgo elevado.\")\n",
        "        return False\n",
        "\n",
        "    # Comparar los costes legales frente a los beneficios potenciales\n",
        "    if costes_legales >= beneficio_potencial:\n",
        "        print(\"Los costes legales superan o igualan los beneficios potenciales.\")\n",
        "        return False\n",
        "    else:\n",
        "        print(\"Los beneficios potenciales superan los costes legales.\")\n",
        "\n",
        "    # Evaluar los riesgos asociados\n",
        "    if riesgo_asociado > 50:  # Supongamos que el riesgo está en una escala de 0 a 100\n",
        "        print(\"El riesgo asociado es alto, no proceder a juicio.\")\n",
        "        return False\n",
        "    else:\n",
        "        print(\"El riesgo asociado es manejable.\")\n",
        "\n",
        "    # Si todas las condiciones son favorables, proceder a juicio\n",
        "    return True\n",
        "\n",
        "# Ejemplo de uso de la función\n",
        "costes_legales = 1000\n",
        "beneficio_potencial = 5000\n",
        "riesgo_asociado = 30\n",
        "hay_precedentes = True\n",
        "\n",
        "decision = decidir_ir_a_juicio(costes_legales, beneficio_potencial, riesgo_asociado, hay_precedentes)\n",
        "print(\"Decisión final: Proceder a juicio\" if decision else \"Decisión final: No proceder a juicio\")\n"
      ],
      "metadata": {
        "id": "aIdrvMs_0Uy9"
      },
      "execution_count": null,
      "outputs": []
    },
    {
      "cell_type": "markdown",
      "source": [
        "#### Condicionales: if, elif, y else\n",
        "\n",
        "Los condicionales permiten que un programa ejecute diferentes acciones según si una condición específica es verdadera o falsa. Estos son esenciales para la toma de decisiones en el código."
      ],
      "metadata": {
        "id": "VEgYCvrt8xiF"
      }
    },
    {
      "cell_type": "markdown",
      "source": [
        "* **if**: La declaración `if` evalúa una condición. Si la condición es verdadera, el bloque de código que sigue se ejecuta. Si la condición es falsa, se salta el bloque de código.\n",
        "* **elif**: Abreviatura de `elif`. Se usa después de un if inicial para evaluar condiciones adicionales si las anteriores no eran verdaderas.\n",
        "* **else**: Se usa después de un if o elif para definir un bloque de código que se ejecuta si todas las condiciones anteriores son falsas."
      ],
      "metadata": {
        "id": "ErNtOfAA3Anj"
      }
    },
    {
      "cell_type": "code",
      "source": [
        "edad = 20\n",
        "\n",
        "if edad < 18:\n",
        "    print(\"Menor de edad\")\n",
        "elif edad >= 18 and edad < 65:\n",
        "    print(\"Adulto\")\n",
        "else:\n",
        "    print(\"Senior\")\n"
      ],
      "metadata": {
        "id": "jL2Mj5Zf3gKk"
      },
      "execution_count": null,
      "outputs": []
    },
    {
      "cell_type": "markdown",
      "source": [
        "#### Bucles: for y while\n",
        "\n",
        "Los bucles permiten ejecutar un bloque de código repetidamente bajo ciertas condiciones, facilitando la realización de tareas repetitivas sin necesidad de escribir el mismo código muchas veces."
      ],
      "metadata": {
        "id": "sq7g0ov99hB-"
      }
    },
    {
      "cell_type": "markdown",
      "source": [
        "* **for**: Este bucle itera sobre una secuencia (que puede ser una lista, una tupla, un diccionario, un conjunto o una cadena). Con cada iteración, la variable definida en el bucle `for` toma el valor del siguiente elemento en la secuencia."
      ],
      "metadata": {
        "id": "3VIJaH9F36fK"
      }
    },
    {
      "cell_type": "code",
      "source": [
        "# Iteración sobre una lista\n",
        "\n",
        "nombres = [\"Ana\", \"Juan\", \"Diana\"]\n",
        "\n",
        "for nombre in nombres:\n",
        "    print(f\"Hola, {nombre}\")\n"
      ],
      "metadata": {
        "id": "96xWKqpq4FtI"
      },
      "execution_count": null,
      "outputs": []
    },
    {
      "cell_type": "code",
      "source": [
        "# Iteración sobre una tupla\n",
        "\n",
        "dimensiones = (200, 50, 100)  # dimensiones de una caja en cm\n",
        "for dimension in dimensiones:\n",
        "    print(f\"La dimensión es: {dimension} cm\")\n"
      ],
      "metadata": {
        "id": "qK_NtPBq49ng"
      },
      "execution_count": null,
      "outputs": []
    },
    {
      "cell_type": "code",
      "source": [
        "# Iteración sobre un diccionario\n",
        "\n",
        "usuario = {\n",
        "    \"nombre\": \"Elena\",\n",
        "    \"edad\": 32,\n",
        "    \"profesion\": \"Ingeniera\"\n",
        "}\n",
        "for clave, valor in usuario.items():\n",
        "    print(f\"{clave}: {valor}\")\n"
      ],
      "metadata": {
        "id": "528Fs5gT5CLc"
      },
      "execution_count": null,
      "outputs": []
    },
    {
      "cell_type": "code",
      "source": [
        "# Iteración sobre un conjunto\n",
        "\n",
        "numeros = {1, 2, 3, 4, 5}\n",
        "for numero in numeros:\n",
        "    print(numero)\n"
      ],
      "metadata": {
        "id": "4hNqKDPs5gLT"
      },
      "execution_count": null,
      "outputs": []
    },
    {
      "cell_type": "code",
      "source": [
        "# Iteración sobre una cadena de texto\n",
        "\n",
        "saludo = \"Hola mundo\"\n",
        "for caracter in saludo:\n",
        "    print(caracter)\n"
      ],
      "metadata": {
        "id": "jf3Ux0en5miX"
      },
      "execution_count": null,
      "outputs": []
    },
    {
      "cell_type": "markdown",
      "source": [
        "* **while**: Ejecuta un bloque de código mientras una condición específica es verdadera. Es útil cuando no se sabe cuántas veces será necesario ejecutar el bucle."
      ],
      "metadata": {
        "id": "75N2OsL44N2e"
      }
    },
    {
      "cell_type": "code",
      "source": [
        "contador = 0\n",
        "\n",
        "while contador < 5:\n",
        "    print(f\"El contador es {contador}\")\n",
        "    contador += 1\n"
      ],
      "metadata": {
        "id": "RjJ3DMx74SQP"
      },
      "execution_count": null,
      "outputs": []
    },
    {
      "cell_type": "markdown",
      "source": [
        "#### Otros elementos"
      ],
      "metadata": {
        "id": "xI5yAS-G4nXk"
      }
    },
    {
      "cell_type": "markdown",
      "source": [
        "* **break**: Se utiliza para salir de un bucle antes de que se haya completado naturalmente.\n",
        "* **continue**: Omite el resto del código dentro de un bucle para esta iteración y pasa directamente a la siguiente iteración.\n",
        "* **pass**: Es una operación nula; nada sucede cuando se ejecuta. Se utiliza cuando una declaración es requerida sintácticamente pero no se desea ejecutar ningún código."
      ],
      "metadata": {
        "id": "PEaOY3un56yI"
      }
    },
    {
      "cell_type": "code",
      "source": [
        "# Ejemplo con break\n",
        "\n",
        "casos_legales = [\n",
        "    {\"nombre\": \"Caso A\", \"tiempo_en_meses\": 10},\n",
        "    {\"nombre\": \"Caso B\", \"tiempo_en_meses\": 24},\n",
        "    {\"nombre\": \"Caso C\", \"tiempo_en_meses\": 18}\n",
        "]\n",
        "\n",
        "limite_tiempo = 20  # Límite de tiempo en meses\n",
        "\n",
        "for caso in casos_legales:\n",
        "    if caso[\"tiempo_en_meses\"] > limite_tiempo:\n",
        "        print(f\"Alerta: {caso['nombre']} ha excedido el límite de tiempo.\")\n",
        "        break  # Salir del bucle después de encontrar el primer caso que excede el límite\n"
      ],
      "metadata": {
        "id": "sEtj0LRC4yLf"
      },
      "execution_count": null,
      "outputs": []
    },
    {
      "cell_type": "code",
      "source": [
        "# Ejemplo con continue\n",
        "\n",
        "documentos = [\n",
        "    {\"nombre\": \"Documento 1\", \"revisado\": False},\n",
        "    {\"nombre\": \"Documento 2\", \"revisado\": True},\n",
        "    {\"nombre\": \"Documento 3\", \"revisado\": False}\n",
        "]\n",
        "\n",
        "for documento in documentos:\n",
        "    if documento[\"revisado\"]:\n",
        "        continue  # Omite los documentos ya revisados\n",
        "    print(f\"Revisando {documento['nombre']}...\")\n",
        "    # Código para procesar el documento\n"
      ],
      "metadata": {
        "id": "DBbRC0Rh6zHU"
      },
      "execution_count": null,
      "outputs": []
    },
    {
      "cell_type": "code",
      "source": [
        "# Ejemplo con pass\n",
        "\n",
        "alertas = [\n",
        "    {\"tipo\": \"Infracción de marca\", \"activa\": True},\n",
        "    {\"tipo\": \"Violación de patente\", \"activa\": False},\n",
        "    {\"tipo\": \"Incumplimiento de contrato\", \"activa\": True}\n",
        "]\n",
        "\n",
        "for alerta in alertas:\n",
        "    if alerta[\"tipo\"] == \"Violación de patente\":\n",
        "        pass  # No hacer nada por ahora\n",
        "    elif alerta[\"activa\"]:\n",
        "        print(f\"Generando alerta para: {alerta['tipo']}\")\n",
        "        # Código para manejar la generación de la alerta\n"
      ],
      "metadata": {
        "id": "JhgkgDJ267oe"
      },
      "execution_count": null,
      "outputs": []
    },
    {
      "cell_type": "markdown",
      "source": [
        "## 3. Sección de ejercicios prácticos"
      ],
      "metadata": {
        "id": "uZYTTE3_7zpU"
      }
    },
    {
      "cell_type": "markdown",
      "source": [
        "### 3.1 Ejercicios de expresiones y operadores"
      ],
      "metadata": {
        "id": "BiNkvkGC8UkI"
      }
    },
    {
      "cell_type": "code",
      "source": [
        "# Calcula el resultado de sumar dos números.\n"
      ],
      "metadata": {
        "id": "3Fly5Rrd80Cx"
      },
      "execution_count": null,
      "outputs": []
    },
    {
      "cell_type": "code",
      "source": [
        "# Multiplica dos números y muestra el resultado.\n"
      ],
      "metadata": {
        "id": "28fXttI-8346"
      },
      "execution_count": null,
      "outputs": []
    },
    {
      "cell_type": "code",
      "source": [
        "# Divide dos números y maneja la situación donde el divisor es cero usando condicionales.\n"
      ],
      "metadata": {
        "id": "hn3H-Hu088tv"
      },
      "execution_count": null,
      "outputs": []
    },
    {
      "cell_type": "code",
      "source": [
        "# Usa operadores de comparación para determinar si dos nombres son iguales.\n"
      ],
      "metadata": {
        "id": "lMHMGDpF9Adm"
      },
      "execution_count": null,
      "outputs": []
    },
    {
      "cell_type": "code",
      "source": [
        "# Determina si un número es par o impar utilizando el operador módulo.\n"
      ],
      "metadata": {
        "id": "XzP2n3Of9GAB"
      },
      "execution_count": null,
      "outputs": []
    },
    {
      "cell_type": "code",
      "source": [
        "# Utiliza operadores lógicos para determinar si un número está entre 10 y 20.\n"
      ],
      "metadata": {
        "id": "En69xohn9MYF"
      },
      "execution_count": null,
      "outputs": []
    },
    {
      "cell_type": "code",
      "source": [
        "# Incrementa un valor de deuda en un 10% usando operadores de asignación.\n"
      ],
      "metadata": {
        "id": "827Imuq09QTZ"
      },
      "execution_count": null,
      "outputs": []
    },
    {
      "cell_type": "code",
      "source": [
        "# Calcula el resultado de una operación aritmética compleja con uso correcto de paréntesis.\n"
      ],
      "metadata": {
        "id": "vZOYfrqR9Vdm"
      },
      "execution_count": null,
      "outputs": []
    },
    {
      "cell_type": "code",
      "source": [
        "# Compara dos cadenas para ver si son iguales, ignorando mayúsculas y minúsculas.\n"
      ],
      "metadata": {
        "id": "3HBeH3Mg9hUw"
      },
      "execution_count": null,
      "outputs": []
    },
    {
      "cell_type": "code",
      "source": [
        "# Evalúa la verdad de \"si un número es positivo y par al mismo tiempo\".\n"
      ],
      "metadata": {
        "id": "Zg000fjV9jUn"
      },
      "execution_count": null,
      "outputs": []
    },
    {
      "cell_type": "markdown",
      "source": [
        "### 3.2 Ejercicios estructuras de control"
      ],
      "metadata": {
        "id": "1aS2iLyD8nud"
      }
    },
    {
      "cell_type": "code",
      "source": [
        "# Escribe un programa que imprima \"Adulto\" si la edad es mayor o igual a 18, de lo contrario imprima \"Menor\".\n"
      ],
      "metadata": {
        "id": "Z38dGjsz8wR4"
      },
      "execution_count": null,
      "outputs": []
    },
    {
      "cell_type": "code",
      "source": [
        "# Usa if, elif, y else para imprimir la clasificación de una película basada en la edad.\n"
      ],
      "metadata": {
        "id": "wztqGq6h85oI"
      },
      "execution_count": null,
      "outputs": []
    },
    {
      "cell_type": "code",
      "source": [
        "# Determina el mayor de tres números usando condicionales.\n"
      ],
      "metadata": {
        "id": "-TDNG97089p2"
      },
      "execution_count": null,
      "outputs": []
    },
    {
      "cell_type": "code",
      "source": [
        "# Escribe un programa que verifique si un número es positivo, negativo o cero.\n"
      ],
      "metadata": {
        "id": "XbCFYU2V9dZM"
      },
      "execution_count": null,
      "outputs": []
    },
    {
      "cell_type": "markdown",
      "source": [
        "### 3.3 Ejercicios de bucles"
      ],
      "metadata": {
        "id": "7TvpRUUtA5iX"
      }
    },
    {
      "cell_type": "code",
      "source": [
        "# Utiliza un bucle for para imprimir los números del 1 al 10.\n"
      ],
      "metadata": {
        "id": "Q7z8pN5UA9kk"
      },
      "execution_count": null,
      "outputs": []
    },
    {
      "cell_type": "code",
      "source": [
        "# Utiliza un bucle while para encontrar el primer múltiplo de 5 en una lista.\n"
      ],
      "metadata": {
        "id": "8H988v2EBFrn"
      },
      "execution_count": null,
      "outputs": []
    },
    {
      "cell_type": "code",
      "source": [
        "# Escribe un bucle for que itere sobre una lista de clientes y muestre sus nombres.\n"
      ],
      "metadata": {
        "id": "5Rwc9slvBHzA"
      },
      "execution_count": null,
      "outputs": []
    },
    {
      "cell_type": "code",
      "source": [
        "# Usa un bucle for para sumar todos los números en una lista.\n"
      ],
      "metadata": {
        "id": "qk_nxHBNBJvO"
      },
      "execution_count": null,
      "outputs": []
    },
    {
      "cell_type": "markdown",
      "source": [
        "### 3.3 Ejercicios de combinaciones de estructuras de control y bucles"
      ],
      "metadata": {
        "id": "5twpgG2f9kI4"
      }
    },
    {
      "cell_type": "code",
      "source": [
        "# Encontrar el mínimo de facturas pendientes:\n",
        "# Crea un programa que use un bucle y condicionales para encontrar la factura\n",
        "# con el menor importe pendiente de una lista.\n"
      ],
      "metadata": {
        "id": "zZ0Eqwau9x_E"
      },
      "execution_count": null,
      "outputs": []
    },
    {
      "cell_type": "code",
      "source": [
        "# Filtrar y mostrar casos mayores a un valor específico:\n",
        "# Utiliza un bucle for con un if para imprimir todos los casos cuyo valor de\n",
        "# disputa sea mayor que 10,000 EUR.\n"
      ],
      "metadata": {
        "id": "J0nhwdzA-WYx"
      },
      "execution_count": null,
      "outputs": []
    },
    {
      "cell_type": "code",
      "source": [
        "# Detección temprana de casos negativos:\n",
        "# Implementa un bucle while con break para detener la ejecución cuando se\n",
        "# encuentre el primer caso con resultado negativo en una lista de casos pasados.\n"
      ],
      "metadata": {
        "id": "xlJJ5-2L-eXM"
      },
      "execution_count": null,
      "outputs": []
    },
    {
      "cell_type": "code",
      "source": [
        "# Omitir archivos revisados:\n",
        "# Escribe un programa que utilice continue para omitir documentos ya revisados\n",
        "# durante un bucle de procesamiento.\n"
      ],
      "metadata": {
        "id": "eW7pIsnl-kxP"
      },
      "execution_count": null,
      "outputs": []
    },
    {
      "cell_type": "code",
      "source": [
        "# Suma condicional de sanciones:\n",
        "# Usa un bucle for para calcular la suma de todas las sanciones impuestas,\n",
        "# excepto aquellas que fueron revocadas.\n"
      ],
      "metadata": {
        "id": "0f61p2BK-o9y"
      },
      "execution_count": null,
      "outputs": []
    },
    {
      "cell_type": "markdown",
      "source": [
        "### 3.4 Uso avanzado de bucles y ondicionales"
      ],
      "metadata": {
        "id": "_g0ty3KS-AGV"
      }
    },
    {
      "cell_type": "code",
      "source": [
        "# Contador de términos legales en documentos:\n",
        "# Implementa un contador de frecuencia de términos legales específicos en una\n",
        "# serie de documentos usando un bucle for.\n"
      ],
      "metadata": {
        "id": "-RFxY_FH_Biu"
      },
      "execution_count": null,
      "outputs": []
    },
    {
      "cell_type": "code",
      "source": [
        "# Potencias de interés:\n",
        "# Escribe un programa que calcule y muestre las primeras 10 potencias de una\n",
        "# tasa de interés del 2%.\n"
      ],
      "metadata": {
        "id": "ojscP4oX_FFT"
      },
      "execution_count": null,
      "outputs": []
    },
    {
      "cell_type": "code",
      "source": [
        "# Duplicados en registros de casos:\n",
        "# Crea un programa que detecte si un número de caso se ha registrado más de una\n",
        "# vez en la base de datos (lista).\n"
      ],
      "metadata": {
        "id": "H3rT2vfN_eNt"
      },
      "execution_count": null,
      "outputs": []
    },
    {
      "cell_type": "code",
      "source": [
        "# Simulación de negociación de un acuerdo:\n",
        "# Desarrolla una simulación de un juego de adivinar un número, representando la\n",
        "# negociación de un acuerdo, en el que un \"agente automático\" tiene un número\n",
        "# limitado de intentos para llegar al número objetivo a través de ofertas\n",
        "# generadas aleatoriamente.\n"
      ],
      "metadata": {
        "id": "DSfUhxpJ_h3h"
      },
      "execution_count": null,
      "outputs": []
    },
    {
      "cell_type": "markdown",
      "source": [
        "### 3.5 Proyectos de integración"
      ],
      "metadata": {
        "id": "PbF5tg9K_pmy"
      }
    },
    {
      "cell_type": "code",
      "source": [
        "# Cálculo de interés compuesto para indemnizaciones:\n",
        "# Diseña un programa que calcule el interés compuesto para una indemnización\n",
        "# con entradas del usuario para cantidad inicial, tasa de interés anual y años.\n"
      ],
      "metadata": {
        "id": "DyQYJz_H_xF_"
      },
      "execution_count": null,
      "outputs": []
    },
    {
      "cell_type": "code",
      "source": [
        "# Registro de elegibilidad para representación gratuita:\n",
        "# Implementa un sistema de registro donde los abogados pueden ingresar si sus\n",
        "# clientes son elegibles para representación legal gratuita basada en su ingreso anual.\n"
      ],
      "metadata": {
        "id": "y4V0kxjy_xC3"
      },
      "execution_count": null,
      "outputs": []
    },
    {
      "cell_type": "code",
      "source": [
        "# Gestión de tiempos de audiencias en un tribunal:\n",
        "# Crea un programa que gestione los tiempos de las audiencias en un tribunal,\n",
        "# asegurándose de que ninguna audiencia se solape con otra.\n"
      ],
      "metadata": {
        "id": "3O2lEgIo_wmv"
      },
      "execution_count": null,
      "outputs": []
    },
    {
      "cell_type": "code",
      "source": [
        "# Cálculo de costes legales totales:\n",
        "# Desarrolla un sistema para calcular el coste total de servicios legales\n",
        "# consumidos por un cliente, incluyendo impuestos y tarifas adicionales.\n"
      ],
      "metadata": {
        "id": "Qw8IbhUjACY2"
      },
      "execution_count": null,
      "outputs": []
    },
    {
      "cell_type": "code",
      "source": [
        "# Cálculo de días desde la presentación de casos:\n",
        "# Desarrolla un sistema que permita al usuario introducir fechas de presentación\n",
        "# de casos y determine cuántos días han pasado desde entonces.\n"
      ],
      "metadata": {
        "id": "Az6wr-1mAJSs"
      },
      "execution_count": null,
      "outputs": []
    },
    {
      "cell_type": "code",
      "source": [
        "# Simulación de evaluación de estrategias legales:\n",
        "# Desarrolla un sistema que permita a los usuarios evaluar diferentes estrategias\n",
        "# legales basadas en variables de entrada como tipo de caso, jurisdicción y valor disputado.\n"
      ],
      "metadata": {
        "id": "YBgay82LAQyc"
      },
      "execution_count": null,
      "outputs": []
    }
  ]
}