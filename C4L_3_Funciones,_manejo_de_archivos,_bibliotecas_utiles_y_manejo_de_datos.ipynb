{
  "nbformat": 4,
  "nbformat_minor": 0,
  "metadata": {
    "colab": {
      "provenance": [],
      "collapsed_sections": [
        "nQ6gbD4Olali",
        "Ovbh5vhWmNl1",
        "t7sHax29o-5N",
        "Wju3bSXKtDRP",
        "ScWw8NzVvFuj",
        "ZA-EfEl_wCvL",
        "Gb9iugA6xJ4e",
        "eOskPm2bx-L5",
        "44TRaxA_1LJV",
        "jqmkjl5L1zgp",
        "6waEhXBd6Ts2",
        "IpPE8C4O6zJG"
      ],
      "authorship_tag": "ABX9TyMTpxYgl0iicSVP5pzFTVky",
      "include_colab_link": true
    },
    "kernelspec": {
      "name": "python3",
      "display_name": "Python 3"
    },
    "language_info": {
      "name": "python"
    }
  },
  "cells": [
    {
      "cell_type": "markdown",
      "metadata": {
        "id": "view-in-github",
        "colab_type": "text"
      },
      "source": [
        "<a href=\"https://colab.research.google.com/github/marsanla/C4L/blob/main/C4L_3_Funciones%2C_manejo_de_archivos%2C_bibliotecas_utiles_y_manejo_de_datos.ipynb\" target=\"_parent\"><img src=\"https://colab.research.google.com/assets/colab-badge.svg\" alt=\"Open In Colab\"/></a>"
      ]
    },
    {
      "cell_type": "markdown",
      "source": [
        "# Funciones, manejo de archivos, bibliotecas útiles y manejo de datos"
      ],
      "metadata": {
        "id": "GYHiRK4mlS5q"
      }
    },
    {
      "cell_type": "markdown",
      "source": [
        "## 1.   Objetivos del día"
      ],
      "metadata": {
        "id": "nQ6gbD4Olali"
      }
    },
    {
      "cell_type": "markdown",
      "source": [
        "### ¿Qué esperar hoy?\n",
        "\n",
        "Hoy vamos a profundizar en algunas de las herramientas más poderosas que Python tiene para ofrecer: funciones, manejo de archivos, y bibliotecas útiles para manejar datos. Estos conceptos son esenciales para desarrollar aplicaciones robustas y eficientes en el ámbito legal y más allá.\n",
        "\n",
        "### ¿Qué cubriremos?\n",
        "\n",
        "1. **Funciones:**\n",
        "   - Comprenderemos cómo definir y utilizar funciones en Python.\n",
        "   - Aprenderemos sobre la importancia de las funciones para organizar y reutilizar código.\n",
        "   - Veremos cómo las funciones pueden hacer nuestro código más claro, más mantenible y más testable.\n",
        "\n",
        "2. **Manejo de archivos:**\n",
        "   - Aprenderemos cómo leer y escribir archivos utilizando Python.\n",
        "   - Exploraremos diferentes formatos de archivo como texto plano, CSV y JSON.\n",
        "   - Discutiremos las mejores prácticas para manejar archivos, lo que es crucial para la gestión de datos legales.\n",
        "\n",
        "3. **Bibliotecas útiles:**\n",
        "   - Introduciremos algunas de las bibliotecas más populares y útiles en Python como `pandas` para manejo de datos, `numpy` para cálculos numéricos y `matplotlib` para visualización de datos.\n",
        "   - Veremos ejemplos prácticos de cómo estas bibliotecas pueden ser utilizadas para analizar y visualizar datos legales.\n",
        "\n",
        "4. **Manejo de datos:**\n",
        "   - Abordaremos cómo manipular y procesar conjuntos de datos utilizando Python.\n",
        "   - Discutiremos estructuras de datos avanzadas y técnicas de manipulación de datos para preparar y analizar información legal eficientemente.\n",
        "\n",
        "\n",
        "¡Empecemos!"
      ],
      "metadata": {
        "id": "jzx942kGlfu8"
      }
    },
    {
      "cell_type": "markdown",
      "source": [
        "## 2. Sección de teoría"
      ],
      "metadata": {
        "id": "r6sItR0YmHTd"
      }
    },
    {
      "cell_type": "markdown",
      "source": [
        "### 2.1 Funciones"
      ],
      "metadata": {
        "id": "Ovbh5vhWmNl1"
      }
    },
    {
      "cell_type": "markdown",
      "source": [
        "Las funciones son uno de los bloques de construcción fundamentales en cualquier lenguaje de programación. En Python, una función es un conjunto de sentencias que se ejecutan cuando se llama a la función. Las funciones son esenciales porque permiten la modularidad, la reutilización del código y una organización clara, lo que hace que los programas sean más fáciles de escribir, leer, probar y corregir.\n",
        "\n",
        "Para definir una función en Python, utilizamos la palabra clave `def`, seguida del nombre de la función y paréntesis que pueden incluir parámetros. El cuerpo de la función comienza en la línea siguiente, **IDENTADO**.\n"
      ],
      "metadata": {
        "id": "lmHyZHnDmy_y"
      }
    },
    {
      "cell_type": "code",
      "execution_count": null,
      "metadata": {
        "id": "j4kdxZfukguv"
      },
      "outputs": [],
      "source": [
        "#Ejemplo de una función simple:\n",
        "\n",
        "def saludar():\n",
        "    print(\"Hola, bienvenido al curso de LegalTech!\")"
      ]
    },
    {
      "cell_type": "code",
      "source": [
        "# Para llamar a la función, simplemente usamos su nombre seguido de paréntesis:\n",
        "\n",
        "saludar()"
      ],
      "metadata": {
        "id": "CI3-I_danUCS"
      },
      "execution_count": null,
      "outputs": []
    },
    {
      "cell_type": "markdown",
      "source": [
        "#### Parámetros y argumentos\n",
        "\n",
        "Las funciones pueden tener parámetros, que son valores que se pasan a la función para influir en su comportamiento o en los resultados que produce."
      ],
      "metadata": {
        "id": "oJ4b7iLHndQ7"
      }
    },
    {
      "cell_type": "code",
      "source": [
        "def imprimir_mensaje(usuario):\n",
        "    print(f\"Hola, {usuario}, ¡sigue aprendiendo Python!\")"
      ],
      "metadata": {
        "id": "E2f-dhjlnoNP"
      },
      "execution_count": null,
      "outputs": []
    },
    {
      "cell_type": "code",
      "source": [
        "# Puedes llamar a esta función pasándole el nombre del usuario como argumento:\n",
        "\n",
        "imprimir_mensaje('Ana')"
      ],
      "metadata": {
        "id": "sUi_Au3_nq-U"
      },
      "execution_count": null,
      "outputs": []
    },
    {
      "cell_type": "markdown",
      "source": [
        "#### Importancia de las funciones para organizar y reutilizar código\n",
        "\n",
        "Usar funciones permite dividir programas complejos en partes más pequeñas y manejables.\n",
        "\n",
        "Una vez que se escribe una función, se puede reutilizar en diferentes partes del programa o incluso en diferentes programas."
      ],
      "metadata": {
        "id": "0UNAXCdJnzjB"
      }
    },
    {
      "cell_type": "code",
      "source": [
        "def calcular_total(articulos):\n",
        "    return sum(articulos)\n",
        "\n",
        "# Uso de la función en diferentes contextos\n",
        "compra1 = calcular_total([100, 200, 300])\n",
        "compra2 = calcular_total([75, 125, 250, 350])\n",
        "\n",
        "print(f\"Compra 1: {compra1}\")\n",
        "print(f\"Compra 2: {compra2}\")\n",
        "\n",
        "total = calcular_total([compra1, compra2])\n",
        "\n",
        "print(f\"Compra total: {total}\")"
      ],
      "metadata": {
        "id": "bTYRJx-en0SH"
      },
      "execution_count": null,
      "outputs": []
    },
    {
      "cell_type": "markdown",
      "source": [
        "#### Claridad, mantenimiento y pruebas\n",
        "\n",
        "Las funciones ayudan a que el código sea más claro al proporcionar nombres descriptivos para bloques de código. Esto hace que el programa sea más fácil de entender y mantener. Además, las funciones pueden ser probadas individualmente, lo que simplifica la detección y corrección de errores."
      ],
      "metadata": {
        "id": "XoxC8Rg6obow"
      }
    },
    {
      "cell_type": "code",
      "source": [
        "def sumar(a, b):\n",
        "    return a + b\n"
      ],
      "metadata": {
        "id": "r_LefbXKoipL"
      },
      "execution_count": null,
      "outputs": []
    },
    {
      "cell_type": "code",
      "source": [
        "# Prueba de la función: OK\n",
        "assert sumar(2, 3) == 5\n",
        "assert sumar(-1, 1) == 0"
      ],
      "metadata": {
        "id": "hPxUwcVloqfh"
      },
      "execution_count": null,
      "outputs": []
    },
    {
      "cell_type": "markdown",
      "source": [
        "### 2.2 Manejo de archivos"
      ],
      "metadata": {
        "id": "t7sHax29o-5N"
      }
    },
    {
      "cell_type": "markdown",
      "source": [
        "El manejo eficiente de archivos es fundamental en muchos campos, incluido el legal, donde los documentos y datos deben ser procesados, almacenados y recuperados de manera segura y eficaz.\n",
        "\n",
        "Python proporciona varias herramientas integradas que facilitan la lectura y escritura de archivos en diversos formatos."
      ],
      "metadata": {
        "id": "4gEmgLZ0pchy"
      }
    },
    {
      "cell_type": "markdown",
      "source": [
        "#### Leer y escribir archivos de texto\n",
        "\n",
        "Python hace que la lectura y escritura de archivos de texto sea sencilla con funciones integradas como `open`, `read`, `write` y `close`.\n"
      ],
      "metadata": {
        "id": "OyB-_R1rpksc"
      }
    },
    {
      "cell_type": "code",
      "source": [
        "# Ejemplo de escritura a un archivo de texto:\n",
        "\n",
        "with open('ejemplo.txt', 'w') as archivo:\n",
        "    archivo.write(\"Hola, mundo del LegalTech!\\n\")"
      ],
      "metadata": {
        "id": "TvYzHTGepswG"
      },
      "execution_count": null,
      "outputs": []
    },
    {
      "cell_type": "code",
      "source": [
        "# Ejemplo de lectura de un archivo de texto:\n",
        "\n",
        "with open('ejemplo.txt', 'r') as archivo:\n",
        "    contenido = archivo.read()\n",
        "    print(contenido)"
      ],
      "metadata": {
        "id": "IBvPrs-up5VQ"
      },
      "execution_count": null,
      "outputs": []
    },
    {
      "cell_type": "markdown",
      "source": [
        "#### Trabajar con formatos de archivo CSV y JSON\n",
        "\n",
        "Los formatos CSV y JSON son comunes en el manejo de datos, y Python proporciona bibliotecas específicas como csv y json para trabajar con estos formatos de manera efectiva.\n",
        "\n",
        "1. **CSV**. *Comma-Separated Values* es un tipo de archivo de texto plano que utiliza una coma para separar los valores. Cada línea del archivo corresponde a un registro de datos, y cada registro consiste en campos o atributos separados por comas. Este formato es ampliamente utilizado debido a su simplicidad y compatibilidad con muchas aplicaciones, incluidas hojas de cálculo y bases de datos. Los archivos CSV son especialmente útiles para exportar e importar grandes cantidades de datos de forma sencilla y estructurada.\n",
        "\n",
        "```csv\n",
        "Nombre,Edad,Profesión\n",
        "Ana,30,Abogada\n",
        "Juan,45,Juez\n",
        "```"
      ],
      "metadata": {
        "id": "KYgqfdxHqDnE"
      }
    },
    {
      "cell_type": "code",
      "source": [
        "# Ejemplo de manejo de archivos CSV:\n",
        "\n",
        "# Primero importamos la librería\n",
        "import csv"
      ],
      "metadata": {
        "id": "GALORw7srNbe"
      },
      "execution_count": null,
      "outputs": []
    },
    {
      "cell_type": "code",
      "source": [
        "# Escribir a un archivo CSV\n",
        "\n",
        "with open('datos.csv', 'w', newline='') as file:\n",
        "    writer = csv.writer(file)\n",
        "    writer.writerow([\"Nombre\", \"Edad\", \"Profesión\"])\n",
        "    writer.writerow([\"Ana\", \"30\", \"Abogada\"])"
      ],
      "metadata": {
        "id": "C2U98V73rT9k"
      },
      "execution_count": null,
      "outputs": []
    },
    {
      "cell_type": "code",
      "source": [
        "# Leer de un archivo CSV\n",
        "\n",
        "with open('datos.csv', 'r') as file:\n",
        "    reader = csv.reader(file)\n",
        "    for row in reader:\n",
        "        print(row)"
      ],
      "metadata": {
        "id": "Ls3-1exsrVSS"
      },
      "execution_count": null,
      "outputs": []
    },
    {
      "cell_type": "markdown",
      "source": [
        "2. JSON. **JavaScript Object Notation** es un formato de intercambio de datos ligero que es fácil de leer y escribir para los humanos, y fácil de parsear y generar para las máquinas. JSON utiliza una estructura de pares clave-valor y es ampliamente utilizado en la programación web y aplicaciones modernas porque es independiente del lenguaje de programación. Los archivos JSON son ideales para manejar datos estructurados y son comúnmente utilizados en API web y configuraciones de aplicaciones debido a su flexibilidad y capacidad de representar estructuras de datos complejas.\n",
        "\n",
        "```json\n",
        "{\n",
        "  \"Nombre\": \"Carlos\",\n",
        "  \"Edad\": 40,\n",
        "  \"Profesión\": \"Abogado\"\n",
        "}\n",
        "```"
      ],
      "metadata": {
        "id": "TtMHM0gYrn9U"
      }
    },
    {
      "cell_type": "code",
      "source": [
        "# Ejemplo de manejo de archivos JSON:\n",
        "\n",
        "# Primero importamos la librería\n",
        "import json"
      ],
      "metadata": {
        "id": "FHPjL53PrsAK"
      },
      "execution_count": null,
      "outputs": []
    },
    {
      "cell_type": "code",
      "source": [
        "# Escribir datos a un archivo JSON\n",
        "datos = {\"nombre\": \"Carlos\", \"edad\": 40, \"profesión\": \"Abogado\"}\n",
        "with open('datos.json', 'w') as file:\n",
        "    json.dump(datos, file)"
      ],
      "metadata": {
        "id": "ItyJZvHPryzL"
      },
      "execution_count": null,
      "outputs": []
    },
    {
      "cell_type": "code",
      "source": [
        "\n",
        "# Leer datos de un archivo JSON\n",
        "with open('datos.json', 'r') as file:\n",
        "    datos_leidos = json.load(file)\n",
        "    print(datos_leidos)"
      ],
      "metadata": {
        "id": "uQ4uARyor0K1"
      },
      "execution_count": null,
      "outputs": []
    },
    {
      "cell_type": "markdown",
      "source": [
        "Ambos formatos tienen sus ventajas específicas y son elegidos según las necesidades del proyecto, siendo el CSV ideal para datos tabulares simples y el JSON para estructuras de datos más complejas y jerárquicas."
      ],
      "metadata": {
        "id": "JTBhr5bYrq0Z"
      }
    },
    {
      "cell_type": "markdown",
      "source": [
        "#### Mejores prácticas para el manejo de archivos\n",
        "\n",
        "1. **Uso de `with` para la gestión de recursos**: Siempre usa el bloque with cuando trabajes con archivos. Esto asegura que el archivo se cierre automáticamente después de que su contenido ya no sea necesario, lo que ayuda a prevenir errores de archivo no cerrado o fugas de recursos."
      ],
      "metadata": {
        "id": "2Bd8hnONsIMC"
      }
    },
    {
      "cell_type": "code",
      "source": [
        "# Correcto\n",
        "with open('ejemplo.txt', 'w') as archivo:\n",
        "    archivo.write(\"Este es un ejemplo de manejo seguro de archivos.\")\n",
        "\n",
        "# Incorrecto\n",
        "archivo = open('ejemplo.txt', 'w')\n",
        "archivo.write(\"Este método no es el ideal para manejar archivos.\")\n",
        "archivo.close()\n"
      ],
      "metadata": {
        "id": "zRdjUg43sDgk"
      },
      "execution_count": null,
      "outputs": []
    },
    {
      "cell_type": "markdown",
      "source": [
        "2. **Manejo de errores**: Utiliza bloques `try-except` para manejar excepciones que puedan surgir al trabajar con archivos, como problemas de permisos o archivos que no existen."
      ],
      "metadata": {
        "id": "wi4MOszgsm3l"
      }
    },
    {
      "cell_type": "code",
      "source": [
        "try:\n",
        "    with open('archivo_inexistente.txt', 'r') as archivo:\n",
        "        contenido = archivo.read()\n",
        "except FileNotFoundError:\n",
        "    print(\"El archivo no existe.\")\n",
        "except IOError:\n",
        "    print(\"Error al leer el archivo.\")\n"
      ],
      "metadata": {
        "id": "D6MABgnwsrn9"
      },
      "execution_count": null,
      "outputs": []
    },
    {
      "cell_type": "markdown",
      "source": [
        "3. **Seguridad de datos**: Cuando manejes datos legales sensibles, asegúrate de considerar la seguridad de los datos, como el cifrado de archivos y el acceso seguro a los mismos."
      ],
      "metadata": {
        "id": "XKVlUTjKso2n"
      }
    },
    {
      "cell_type": "markdown",
      "source": [
        "### 2.3 Bibliotecas útiles"
      ],
      "metadata": {
        "id": "Wju3bSXKtDRP"
      }
    },
    {
      "cell_type": "markdown",
      "source": [
        "Python es conocido por su robusta comunidad que contribuye con una gran variedad de bibliotecas que amplían la funcionalidad del lenguaje básico. Para profesionales en el ámbito legal, ciertas bibliotecas son especialmente útiles para el manejo de datos, cálculos numéricos y visualización de datos.\n"
      ],
      "metadata": {
        "id": "lT4jrJ9AtWoi"
      }
    },
    {
      "cell_type": "markdown",
      "source": [
        "#### Pandas (Manejo de datos)\n",
        "\n",
        "`pandas` es una biblioteca de Python que proporciona estructuras de datos flexibles y herramientas diseñadas para trabajar con datos \"relacionales\" o \"etiquetados\" de manera intuitiva. Es ideal para manejar y analizar datos de entrada en formatos diferentes, incluyendo CSV, Excel y bases de datos SQL.\n",
        "\n",
        "[Documentación](https://pandas.pydata.org/docs/user_guide/index.html)"
      ],
      "metadata": {
        "id": "24Tdw7rCtfvp"
      }
    },
    {
      "cell_type": "code",
      "source": [
        "# Empezamos por importar la libreria\n",
        "\n",
        "import pandas as pd"
      ],
      "metadata": {
        "id": "7ar2vPAvtqul"
      },
      "execution_count": null,
      "outputs": []
    },
    {
      "cell_type": "code",
      "source": [
        "# Con este código estamos creando un archivo de ejemplo con diferentes datos para analizar con pandas\n",
        "\n",
        "# Definir los datos\n",
        "datos = {\n",
        "    'CasoID': [1, 2, 3, 4, 5],\n",
        "    'TipoCaso': ['Civil', 'Penal', 'Civil', 'Penal', 'Civil'],\n",
        "    'ValorDisputa': [50000, 200000, 75000, 50000, 120000],\n",
        "    'Resuelto': [False, True, False, None, False]\n",
        "}\n",
        "\n",
        "# Crear DataFrame\n",
        "df = pd.DataFrame(datos)\n",
        "\n",
        "# Guardar DataFrame en un archivo CSV\n",
        "csv_path = \"datos_casos_legales.csv\"\n",
        "df.to_csv(csv_path, index=False)"
      ],
      "metadata": {
        "id": "c7pz3rFruams"
      },
      "execution_count": null,
      "outputs": []
    },
    {
      "cell_type": "code",
      "source": [
        "# Cargar datos desde un archivo CSV\n",
        "data = pd.read_csv('datos_casos_legales.csv')\n",
        "\n",
        "# Ver las primeras filas del DataFrame\n",
        "print(data.head())"
      ],
      "metadata": {
        "id": "RMzFfbtVtwUp"
      },
      "execution_count": null,
      "outputs": []
    },
    {
      "cell_type": "code",
      "source": [
        "# Filtrar casos con más de 100,000 EUR en disputa\n",
        "casos_grandes = data[data['ValorDisputa'] > 100000]\n",
        "\n",
        "print(casos_grandes)"
      ],
      "metadata": {
        "id": "UkkA9nNAtymA"
      },
      "execution_count": null,
      "outputs": []
    },
    {
      "cell_type": "markdown",
      "source": [
        "#### Numpy (Cálculos numéricos)\n",
        "\n",
        "`numpy` es la biblioteca central para cálculos numéricos en Python. Proporciona un objeto de matriz multidimensional de alto rendimiento y herramientas para trabajar con estas matrices. Es muy útil para realizar cálculos matemáticos complejos y extensivos, como puede ser necesario en análisis financiero o estadístico en el derecho.\n",
        "\n",
        "[Documentación](https://numpy.org/doc/stable/user/index.html)"
      ],
      "metadata": {
        "id": "ScWw8NzVvFuj"
      }
    },
    {
      "cell_type": "code",
      "source": [
        "# Empezamos por importar la libreria\n",
        "\n",
        "import numpy as np"
      ],
      "metadata": {
        "id": "2-zkKmJWvTdt"
      },
      "execution_count": null,
      "outputs": []
    },
    {
      "cell_type": "code",
      "source": [
        "# Crear un array de numpy\n",
        "valores = np.array([100000, 200000, 160000])"
      ],
      "metadata": {
        "id": "ZWBWnR6hvWyL"
      },
      "execution_count": null,
      "outputs": []
    },
    {
      "cell_type": "code",
      "source": [
        "# Calcular el promedio de los valores\n",
        "promedio = np.mean(valores)\n",
        "\n",
        "print(f\"El promedio es: {promedio}\")"
      ],
      "metadata": {
        "id": "xU43nmeIvXtR"
      },
      "execution_count": null,
      "outputs": []
    },
    {
      "cell_type": "markdown",
      "source": [
        "#### Matplot (Visualización de datos)\n",
        "\n",
        "`matplotlib` es una biblioteca de visualización en Python que permite crear gráficos estáticos, animados e interactivos. Es extremadamente útil para visualizar tendencias, patrones y anomalías en datos legales, lo que puede ayudar en la toma de decisiones y presentaciones.\n",
        "\n",
        "[Documentación](https://matplotlib.org/stable/users/index.html)"
      ],
      "metadata": {
        "id": "ZA-EfEl_wCvL"
      }
    },
    {
      "cell_type": "code",
      "source": [
        "# Empezamos por importar la libreria\n",
        "\n",
        "import matplotlib.pyplot as plt"
      ],
      "metadata": {
        "id": "FJDRS4RbwRCO"
      },
      "execution_count": null,
      "outputs": []
    },
    {
      "cell_type": "code",
      "source": [
        "# Datos de ejemplo\n",
        "anos = [2020, 2021, 2022, 2023, 2024]\n",
        "valores = [100000, 110000, 105000, 120000, 125000]\n",
        "\n",
        "# Crear un gráfico de línea\n",
        "plt.plot(anos, valores, marker='o')\n",
        "plt.title('Valor en Disputa a lo Largo de los Años')\n",
        "plt.xlabel('Año')\n",
        "plt.ylabel('Valor en Disputa (EUR)')\n",
        "plt.grid(True)\n",
        "plt.show()"
      ],
      "metadata": {
        "id": "eis9EbkZwiEF"
      },
      "execution_count": null,
      "outputs": []
    },
    {
      "cell_type": "markdown",
      "source": [
        "### 2.4 Manejo de datos"
      ],
      "metadata": {
        "id": "Gb9iugA6xJ4e"
      }
    },
    {
      "cell_type": "markdown",
      "source": [
        "El manejo eficiente de datos es crucial en cualquier campo que dependa de la precisión y accesibilidad de la información. En el ámbito legal, esto es especialmente crítico, ya que los datos bien gestionados pueden influir en decisiones judiciales, estrategias de litigio y en la organización interna."
      ],
      "metadata": {
        "id": "__WZFr7UxPgZ"
      }
    },
    {
      "cell_type": "markdown",
      "source": [
        "#### Manipulación y procesamiento de conjuntos de datos\n",
        "\n",
        "Como hemos visto en el punto anterior, Python ofrece una gama de herramientas y bibliotecas que facilitan la manipulación de datos. Las bibliotecas como `pandas` permiten realizar tareas complejas de manejo de datos con relativa facilidad y eficiencia.\n"
      ],
      "metadata": {
        "id": "ZANEei35xqIi"
      }
    },
    {
      "cell_type": "markdown",
      "source": [
        "#### Estructuras de datos avanzadas\n",
        "\n",
        "Para manejar datos complejos, Python ofrece varias estructuras de datos avanzadas como listas, diccionarios, sets y tuplas, que se pueden integrar y manipular para adecuarse a las necesidades específicas."
      ],
      "metadata": {
        "id": "eOskPm2bx-L5"
      }
    },
    {
      "cell_type": "code",
      "source": [
        "# Crear un diccionario para almacenar información detallada de un caso\n",
        "caso = {\n",
        "    'id': 101,\n",
        "    'tipo': 'Civil',\n",
        "    'estado': 'Abierto',\n",
        "    'detalles': {'parte_demandante': 'Individuo A', 'parte_demandada': 'Empresa B'}\n",
        "}\n",
        "\n",
        "# Acceder a detalles específicos del caso\n",
        "print(caso['detalles']['parte_demandante'])\n"
      ],
      "metadata": {
        "id": "v3HfyJqpzOdY"
      },
      "execution_count": null,
      "outputs": []
    },
    {
      "cell_type": "markdown",
      "source": [
        "#### Técnicas de manipulación de datos\n",
        "\n",
        "Las técnicas avanzadas de manipulación de datos incluyen la limpieza de datos, la transformación de tipos de datos y la combinación de diferentes fuentes de datos."
      ],
      "metadata": {
        "id": "14bi9CMyyP1X"
      }
    },
    {
      "cell_type": "code",
      "source": [
        "# Cargamos el archivo que utilizaremos para manipular los datos\n",
        "\n",
        "import pandas as pd\n",
        "\n",
        "datos = pd.read_csv('datos_casos_legales.csv')\n",
        "\n",
        "print(data.head())"
      ],
      "metadata": {
        "id": "Beuh8vvjygcl"
      },
      "execution_count": null,
      "outputs": []
    },
    {
      "cell_type": "code",
      "source": [
        "# Ejemplo de limpieza y transformación de datos:\n",
        "\n",
        "# Supongamos que 'datos' es un DataFrame de pandas cargado previamente\n",
        "# Convertir tipo de dato de una columna\n",
        "datos['ValorDisputa'] = datos['ValorDisputa'].astype(float)\n",
        "\n",
        "# Llenar valores faltantes en la columna 'Resuelto' con False\n",
        "datos['Resuelto'].fillna(False, inplace=True)\n",
        "\n",
        "print(datos.head())"
      ],
      "metadata": {
        "id": "FeTWI7idyWAU"
      },
      "execution_count": null,
      "outputs": []
    },
    {
      "cell_type": "code",
      "source": [
        "# Ejemplo de combinación de datos de diferentes fuentes:\n",
        "\n",
        "# Suponer que tenemos otro DataFrame 'detalles_casos'\n",
        "detalles_casos = pd.DataFrame({\n",
        "    'CasoID': [1, 2, 3],\n",
        "    'descripcion': ['Disputa contractual', 'Infracción de patente', 'Disputa laboral']\n",
        "})\n",
        "\n",
        "# Combinar 'datos' con 'detalles_casos' usando un merge (fusión)\n",
        "datos_completos = pd.merge(datos, detalles_casos, on='CasoID', how='left')\n",
        "\n",
        "print(datos_completos.head())\n"
      ],
      "metadata": {
        "id": "AgST3VFHzUwy"
      },
      "execution_count": null,
      "outputs": []
    },
    {
      "cell_type": "markdown",
      "source": [
        "## 3. Sección de ejercicios prácticos"
      ],
      "metadata": {
        "id": "vVhOcMnimLvk"
      }
    },
    {
      "cell_type": "markdown",
      "source": [
        "### 3.1 Ejercicios sobre funciones"
      ],
      "metadata": {
        "id": "44TRaxA_1LJV"
      }
    },
    {
      "cell_type": "code",
      "source": [
        "# Escribe una función llamada calcular_total que acepte una lista de números y devuelva su suma.\n",
        "# Utiliza esta función para calcular el total de varias listas de pagos legales.\n",
        "\n",
        "\n",
        "\n",
        "# Ejemplo de uso para calcular_total\n",
        "pagos_legales_1 = [100, 200, 300]\n",
        "pagos_legales_2 = [400, 500, 600]\n",
        "total_1 = calcular_total(pagos_legales_1)\n",
        "total_2 = calcular_total(pagos_legales_2)\n",
        "print(\"Total de pagos 1:\", total_1)\n",
        "print(\"Total de pagos 2:\", total_2)"
      ],
      "metadata": {
        "id": "74dQ7cv41PFr"
      },
      "execution_count": null,
      "outputs": []
    },
    {
      "cell_type": "code",
      "source": [
        "# Crea una función crear_informe que acepte el nombre de un cliente, una lista de facturas\n",
        "# y un booleano pagado que indique si las facturas están pagadas o no. La función debe imprimir un informe adecuado.\n",
        "\n",
        "\n",
        "\n",
        "reporte = crear_informe(\"Juan Pérez\", [150, 450, 200], False)\n",
        "print(reporte)"
      ],
      "metadata": {
        "id": "R72JnVQe1Tgw"
      },
      "execution_count": null,
      "outputs": []
    },
    {
      "cell_type": "code",
      "source": [
        "# Desarrolla una función validar_caso que tome un número de caso y verifique si\n",
        "# cumple con ciertos criterios (e.g., número válido, caso no cerrado). La función debe retornar True o False.\n",
        "\n",
        "\n",
        "\n",
        "print(\"Validación de caso 500:\", validar_caso(500, True))\n",
        "print(\"Validación de caso -10:\", validar_caso(-10, True))"
      ],
      "metadata": {
        "id": "R1j20rIx1dAm"
      },
      "execution_count": null,
      "outputs": []
    },
    {
      "cell_type": "code",
      "source": [
        "# Implementa una función asignar_abogado que reciba un tipo de caso y la urgencia del mismo.\n",
        "# Dependiendo de estos parámetros, la función debe retornar el nombre de un abogado especializado.\n",
        "\n",
        "\n",
        "\n",
        "\n",
        "abogado_asignado = asignar_abogado(\"civil\", \"alta\")\n",
        "print(\"Abogado asignado:\", abogado_asignado)"
      ],
      "metadata": {
        "id": "gfW9-4Wj1dsj"
      },
      "execution_count": null,
      "outputs": []
    },
    {
      "cell_type": "code",
      "source": [
        "# Escribe una función dividir que realice la división de dos números y maneje las\n",
        "# excepciones para la división por cero.\n",
        "\n",
        "\n",
        "\n",
        "# Ejemplo de uso para dividir y pruebas unitarias\n",
        "resultado_division = dividir(10, 2)\n",
        "print(\"Resultado de dividir 10 entre 2:\", resultado_division)\n",
        "resultado_division_cero = dividir(10, 0)\n",
        "print(\"Resultado de dividir 10 entre 0:\", resultado_division_cero)"
      ],
      "metadata": {
        "id": "Bxcsn7gT1nLV"
      },
      "execution_count": null,
      "outputs": []
    },
    {
      "cell_type": "code",
      "source": [
        "# A continuación, escribe pruebas unitarias que verifiquen su correcto funcionamiento.\n",
        "\n"
      ],
      "metadata": {
        "id": "i1VuxUeA5_xV"
      },
      "execution_count": null,
      "outputs": []
    },
    {
      "cell_type": "markdown",
      "source": [
        "### 3.2 Ejercicios sobre manjeno de archivos"
      ],
      "metadata": {
        "id": "jqmkjl5L1zgp"
      }
    },
    {
      "cell_type": "code",
      "source": [
        "import csv\n",
        "import json"
      ],
      "metadata": {
        "id": "IshSIXqtEaRV"
      },
      "execution_count": null,
      "outputs": []
    },
    {
      "cell_type": "code",
      "source": [
        "# Crea un funcion que coja una lista de diccionarios que representan casos legales\n",
        "# (cada uno con 'nombre', 'fecha', y 'resultado') y los escriba en un archivo CSV.\n",
        "\n",
        "def escribir_csv(datos, nombre_archivo):\n",
        "\n",
        "\n",
        "\n",
        "datos_casos = [\n",
        "    {'nombre': 'Caso 1', 'fecha': '2021-01-01', 'resultado': 'Ganado'},\n",
        "    {'nombre': 'Caso 2', 'fecha': '2021-02-01', 'resultado': 'Perdido'}\n",
        "]\n",
        "escribir_csv(datos_casos, 'casos.csv')"
      ],
      "metadata": {
        "id": "JMnb0bSJ2CKG"
      },
      "execution_count": null,
      "outputs": []
    },
    {
      "cell_type": "code",
      "source": [
        "# Escribe un script en Python que lea un archivo de texto que contenga nombres de casos\n",
        "# y sus detalles, imprimiendo cada línea en la consola.\n",
        "\n",
        "def leer_archivo_texto(nombre_archivo):\n",
        "\n",
        "\n",
        "leer_archivo_texto('casos.csv')"
      ],
      "metadata": {
        "id": "1usjeGaO1-Mw"
      },
      "execution_count": null,
      "outputs": []
    },
    {
      "cell_type": "code",
      "source": [
        "# Desarrolla una herramienta que convierta datos de un archivo CSV a JSON,\n",
        "# preservando la estructura de los datos.\n",
        "\n",
        "def csv_a_json(nombre_archivo_csv, nombre_archivo_json):\n",
        "\n",
        "\n",
        "csv_a_json('casos.csv', 'casos.json')"
      ],
      "metadata": {
        "id": "kqE--iIy2HXO"
      },
      "execution_count": null,
      "outputs": []
    },
    {
      "cell_type": "code",
      "source": [
        "# Escribe un programa que lea un archivo JSON que contenga datos de casos y\n",
        "# extraiga información específica como el nombre y el resultado de cada caso.\n",
        "\n",
        "def leer_json(nombre_archivo):\n",
        "\n",
        "\n",
        "\n",
        "leer_json('casos.json')"
      ],
      "metadata": {
        "id": "6cfu1IgE2Dpe"
      },
      "execution_count": null,
      "outputs": []
    },
    {
      "cell_type": "markdown",
      "source": [
        "### 3.3 Ejercicios sobre bibliotecas útiles"
      ],
      "metadata": {
        "id": "6waEhXBd6Ts2"
      }
    },
    {
      "cell_type": "code",
      "source": [
        "import pandas as pd\n",
        "import numpy as np\n",
        "import matplotlib.pyplot as plt\n",
        "\n",
        "datos = {\n",
        "    'CasoID': [1, 2, 3, 4, 5],\n",
        "    'TipoCaso': ['Civil', 'Penal', 'Civil', 'Penal', 'Civil'],\n",
        "    'ValorDisputa': [50000, 200000, 75000, 50000, -120000],\n",
        "    'Resuelto': [False, True, False, True, False],\n",
        "    'FechaCaso': [\"2022/01/12\",\"2023/11/09\", \"2022/02/1\", \"2024/01/12\", \"2020/11/12\"]\n",
        "}\n",
        "\n",
        "# Crear DataFrame\n",
        "df = pd.DataFrame(datos)\n",
        "\n",
        "# Guardar DataFrame en un archivo CSV\n",
        "csv_path = \"datos_casos_legales.csv\"\n",
        "df.to_csv(csv_path, index=False)"
      ],
      "metadata": {
        "id": "3dm207B6EYFD"
      },
      "execution_count": null,
      "outputs": []
    },
    {
      "cell_type": "code",
      "source": [
        "# Utiliza pandas para cargar un DataFrame con datos de casos legales, filtra aquellos\n",
        "# que excedan un cierto valor disputado y guarda el resultado en un nuevo CSV.\n",
        "\n",
        "def analizar_datos_casos(archivo_csv, umbral_valor):\n",
        "\n",
        "\n",
        "casos = analizar_datos_casos('datos_casos_legales.csv', 100000)\n",
        "print(casos)"
      ],
      "metadata": {
        "id": "oeTyIGYI6awH"
      },
      "execution_count": null,
      "outputs": []
    },
    {
      "cell_type": "code",
      "source": [
        "# Usa numpy para calcular el valor medio de las compensaciones pagadas en una\n",
        "# serie de casos legales proporcionados en un arreglo de numpy.\n",
        "\n",
        "def calcular_promedio_compensaciones(compensaciones):\n",
        "\n",
        "\n",
        "print(calcular_promedio_compensaciones([20000, 30000, 25000]))"
      ],
      "metadata": {
        "id": "HXMiNDUT6aol"
      },
      "execution_count": null,
      "outputs": []
    },
    {
      "cell_type": "code",
      "source": [
        "# Crea un gráfico de barras que muestre la cantidad de casos por cada tipo de\n",
        "# derecho (civil, penal, etc.) usando matplotlib.\n",
        "\n",
        "def grafico_barras_casos(tipos_casos):\n",
        "\n",
        "\n",
        "grafico_barras_casos(pd.Series(['Civil', 'Penal', 'Civil', 'Civil', 'Penal']))"
      ],
      "metadata": {
        "id": "_sE_t3vu6ajH"
      },
      "execution_count": null,
      "outputs": []
    },
    {
      "cell_type": "code",
      "source": [
        "# Carga un conjunto de datos de casos usando pandas, calcula el total de casos\n",
        "# por mes y luego visualiza esta información con un gráfico de líneas usando matplotlib y pandas.\n",
        "\n",
        "def visualizar_casos_por_mes(datos_csv):\n",
        "\n",
        "\n",
        "visualizar_casos_por_mes('datos_casos_legales.csv')"
      ],
      "metadata": {
        "id": "LNTFHc7G6abT"
      },
      "execution_count": null,
      "outputs": []
    },
    {
      "cell_type": "markdown",
      "source": [
        "### 3.4 Ejercicios sobre manejo de datos"
      ],
      "metadata": {
        "id": "IpPE8C4O6zJG"
      }
    },
    {
      "cell_type": "code",
      "source": [
        "import pandas as pd\n",
        "import numpy as np"
      ],
      "metadata": {
        "id": "_jntZBrIEjlE"
      },
      "execution_count": null,
      "outputs": []
    },
    {
      "cell_type": "code",
      "source": [
        "datos = {\n",
        "    'CasoID': [1, 2, 3, 4, 5],\n",
        "    'TipoCaso': ['Civil', 'Penal', 'Civil', 'Penal', 'Civil'],\n",
        "    'ValorDisputa': [50000, 200000, 75000, 50000, -120000],\n",
        "    'Resuelto': [False, True, False, None, False],\n",
        "    'FechaCaso': [\"2022/01/12\", None, None, None, None]\n",
        "}\n",
        "\n",
        "# Crear DataFrame\n",
        "df = pd.DataFrame(datos)\n",
        "\n",
        "# Guardar DataFrame en un archivo CSV\n",
        "csv_path = \"casos_legales.csv\"\n",
        "df.to_csv(csv_path, index=False)"
      ],
      "metadata": {
        "id": "HUtBuPEe94zg"
      },
      "execution_count": null,
      "outputs": []
    },
    {
      "cell_type": "code",
      "source": [
        "# Implementa un script en Python que cargue un conjunto de datos de casos legales\n",
        "# desde un CSV, identifique y corrija errores e inconsistencias (como fechas faltantes o formatos incorrectos).\n",
        "\n",
        "def limpiar_datos(nombre_archivo):\n",
        "\n",
        "\n",
        "datos_limpio = limpiar_datos('casos_legales.csv')\n",
        "print(datos_limpio.head())"
      ],
      "metadata": {
        "id": "F3NpnwOG63cG"
      },
      "execution_count": null,
      "outputs": []
    },
    {
      "cell_type": "code",
      "source": [
        "# Escribe un programa que use diccionarios y listas para organizar información\n",
        "# detallada de casos legales, permitiendo búsquedas rápidas por tipo de caso\n",
        "\n",
        "def organizar_casos(datos, tipo = None):\n",
        "\n",
        "\n",
        "# Ejemplo de uso\n",
        "datos_ejemplo = [\n",
        "    {'CasoID': 1, 'TipoCaso': 'Civil', 'Detalle': 'Disputa contractual'},\n",
        "    {'CasoID': 2, 'TipoCaso': 'Penal', 'Detalle': 'Fraude'}\n",
        "]\n",
        "casos_organizados = organizar_casos(datos_ejemplo, \"Civil\")\n",
        "print(casos_organizados)"
      ],
      "metadata": {
        "id": "El1mTWim63Pm"
      },
      "execution_count": null,
      "outputs": []
    },
    {
      "cell_type": "markdown",
      "source": [
        "### 3.5 Ejercicio combinado con todos los conceptos"
      ],
      "metadata": {
        "id": "lBaJHE81En4Y"
      }
    },
    {
      "cell_type": "markdown",
      "source": [
        "#### **Sistema de gestión de documentación legal**\n",
        "\n",
        "* **Contexto:**\n",
        "\n",
        "Eres el encargado de desarrollar un sistema de gestión para un bufete de abogados que automatice el proceso de análisis y categorización de documentos legales. El sistema debe ser capaz de cargar múltiples archivos que contienen casos legales, procesar la información relevante, y producir un informe consolidado que resuma los datos clave para revisión rápida por parte de los abogados.\n",
        "\n",
        "* **Requisitos del ejercicio:**\n",
        "\n",
        "  * Carga y lectura de datos: Desarrolla una función que cargue datos desde varios archivos CSV y JSON. Estos archivos contienen información sobre diferentes casos legales, incluyendo el tipo de caso, la fecha del caso, el monto en disputa, y el estado del caso (ej: ganado, perdido, pendiente).\n",
        "  \n",
        "  * Procesamiento de Datos: Utiliza funciones y bucles para filtrar casos que excedan una cierta cantidad en disputa y que estén aún pendientes, aplicando operadores lógicos y aritméticos para determinar qué casos requieren acción inmediata.\n",
        "\n",
        "  * Análisis de Datos: Implementa cálculos para determinar el número total de casos, la cantidad promedio en disputa, y la tasa de éxito (porcentaje de casos ganados). Usa bibliotecas como pandas y numpy para mostrar los cálculos y la manipulación de datos.\n",
        "\n",
        "* **Visualización de Datos:**\n",
        "\n",
        "  Crea visualizaciones de los datos analizados utilizando matplotlib, como gráficos que muestren la distribución de casos por tipo de derecho y el historial de resultados de casos a lo largo del tiempo.\n",
        "\n",
        "  * Generación de Informes: Escribe una función que genere un informe en formato de texto o CSV que resuma los análisis realizados. Bonus: genera un PDF incluyendo estadísticas clave y gráficos.\n",
        "\n",
        "  * Manejo de Excepciones y Validaciones: Asegúrate de que tu código maneje excepciones adecuadamente para evitar interrupciones en la ejecución, como errores de lectura de archivos o cálculos incorrectos.\n",
        "\n",
        "**Salida Esperada:**\n",
        "\n",
        "Un informe automatizado que pueda ser revisado cada mes por el bufete de abogados, proporcionando una visión clara de los casos más urgentes y una evaluación del desempeño general del bufete."
      ],
      "metadata": {
        "id": "ZD5P_4zvHNXp"
      }
    },
    {
      "cell_type": "code",
      "source": [
        "# Descargar el listado de archivos y descomprimirlo\n",
        "\n",
        "!wget https://github.com/marsanla/C4L/raw/main/casos_legales.zip -O casos_legales.zip\n",
        "\n",
        "!unzip /content/casos_legales.zip"
      ],
      "metadata": {
        "id": "Mqg9wc3gEuvT"
      },
      "execution_count": null,
      "outputs": []
    },
    {
      "cell_type": "code",
      "source": [
        "# Importar librerias\n",
        "\n",
        "import pandas as pd\n",
        "import numpy as np\n",
        "import matplotlib.pyplot as plt\n",
        "import json\n",
        "import os\n"
      ],
      "metadata": {
        "id": "eelzSsqEMMC8"
      },
      "execution_count": null,
      "outputs": []
    },
    {
      "cell_type": "code",
      "source": [
        "# Función para cargar los datos de todos los archivos y unirlos en el mismo dataframe\n",
        "def cargar_datos(fuentes_datos):\n",
        ""
      ],
      "metadata": {
        "id": "ohxHhwewMSbK"
      },
      "execution_count": null,
      "outputs": []
    },
    {
      "cell_type": "code",
      "source": [
        "# Analizar los casos urgentes\n",
        "def analizar_datos(datos):\n",
        ""
      ],
      "metadata": {
        "id": "GUSSHXwVMXOd"
      },
      "execution_count": null,
      "outputs": []
    },
    {
      "cell_type": "code",
      "source": [
        "def procesar_datos(datos):\n",
        ""
      ],
      "metadata": {
        "id": "LoRu0iPXMVcO"
      },
      "execution_count": null,
      "outputs": []
    },
    {
      "cell_type": "code",
      "source": [
        "# Visualizar los datos de los casos\n",
        "def visualizar_datos(datos):\n",
        ""
      ],
      "metadata": {
        "id": "a3byV5olMZ_1"
      },
      "execution_count": null,
      "outputs": []
    },
    {
      "cell_type": "code",
      "source": [
        "def generar_informe(datos, filename='informe_casos.csv'):\n",
        ""
      ],
      "metadata": {
        "id": "wTApeUFJMcNU"
      },
      "execution_count": null,
      "outputs": []
    },
    {
      "cell_type": "code",
      "source": [
        "from matplotlib.backends.backend_pdf import PdfPages\n",
        "\n",
        "def generar_informe_pdf(datos, filename='informe_casos.pdf'):\n",
        "    total_casos, promedio_disputa, tasa_exito = analizar_datos(datos)\n",
        "    casos_urgentes = procesar_datos(datos)\n",
        "\n",
        "    # Crear el PDF\n",
        "    with PdfPages(filename) as pdf:\n",
        "        # Crear un DataFrame con el resumen para mostrar en una tabla\n",
        "        resumen = pd.DataFrame({\n",
        "            'Total de casos': [total_casos],\n",
        "            'Promedio de valor en disputa': [promedio_disputa],\n",
        "            'Tasa de éxito': [tasa_exito],\n",
        "            'Casos urgentes': [len(casos_urgentes)]\n",
        "        })\n",
        "\n",
        "        # Crear una figura para el resumen estadístico\n",
        "        fig, ax = plt.subplots()\n",
        "        ax.axis('tight')\n",
        "        ax.axis('off')\n",
        "        table = ax.table(cellText=resumen.values, colLabels=resumen.columns, loc='center')\n",
        "        plt.title('Resumen de Casos Legales')\n",
        "        pdf.savefig(fig)\n",
        "        plt.close()\n",
        "\n",
        "        # Gráfico: Distribución de casos por tipo\n",
        "        fig, ax = plt.subplots()\n",
        "        estado_por_tipo = datos.groupby(['TipoCaso', 'EstadoCaso']).size().unstack().fillna(0)\n",
        "        estado_por_tipo.plot(kind='bar', stacked=True, ax=ax)\n",
        "        plt.title('Distribución de casos por tipo de derecho')\n",
        "        plt.xlabel('Tipo de derecho')\n",
        "        plt.ylabel('Número de casos')\n",
        "        pdf.savefig(fig)\n",
        "        plt.close()\n",
        "\n",
        "        print(f\"Informe generado en PDF: {filename}\")\n"
      ],
      "metadata": {
        "id": "nwGCdCXgVJVb"
      },
      "execution_count": null,
      "outputs": []
    },
    {
      "cell_type": "code",
      "source": [
        "# Creamos la principal funcion para ejecutar la aplicación\n",
        "\n",
        "def main(archivos):\n",
        "\n",
        "\n",
        "# Ejecutar el sistema de gestión\n",
        "lista_archivos = [\"/content/casos_legales_1.csv\", \"/content/casos_legales_1.json\", \"/content/casos_legales_2.csv\", \"/content/casos_legales_2.json\"]\n",
        "main(lista_archivos)\n"
      ],
      "metadata": {
        "id": "s9nUk-7WLtIO"
      },
      "execution_count": null,
      "outputs": []
    }
  ]
}