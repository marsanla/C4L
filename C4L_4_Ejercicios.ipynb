{
  "nbformat": 4,
  "nbformat_minor": 0,
  "metadata": {
    "colab": {
      "provenance": [],
      "authorship_tag": "ABX9TyNLby7SU1YdSoslm8RCADQE",
      "include_colab_link": true
    },
    "kernelspec": {
      "name": "python3",
      "display_name": "Python 3"
    },
    "language_info": {
      "name": "python"
    }
  },
  "cells": [
    {
      "cell_type": "markdown",
      "metadata": {
        "id": "view-in-github",
        "colab_type": "text"
      },
      "source": [
        "<a href=\"https://colab.research.google.com/github/marsanla/C4L/blob/main/C4L_4_Ejercicios.ipynb\" target=\"_parent\"><img src=\"https://colab.research.google.com/assets/colab-badge.svg\" alt=\"Open In Colab\"/></a>"
      ]
    },
    {
      "cell_type": "markdown",
      "source": [
        "# Sección de Ejercicios"
      ],
      "metadata": {
        "id": "s988MAhCW0X2"
      }
    },
    {
      "cell_type": "markdown",
      "source": [
        "Seguimos con ejercicios. Vamos a practicar los siguientes temas:\n",
        "\n",
        "* Conceptos básicos de programación\n",
        "* Expresiones y operadores\n",
        "* Estructuras de Control\n",
        "* Control de Flujo con Bucles\n",
        "* Funciones\n",
        "* Manejo de Archivos\n",
        "* Bibliotecas Útiles\n",
        "* Manejo de Datos"
      ],
      "metadata": {
        "id": "-uwaTdn1W26F"
      }
    },
    {
      "cell_type": "code",
      "source": [
        "# Preparación de archivos\n",
        "\n",
        "import pandas as pd\n",
        "\n",
        "# Crear datos para el archivo CSV de contratos\n",
        "data = {\n",
        "    'ContratoID': [101, 102, 103, 104, 105],\n",
        "    'TipoContrato': ['Arrendamiento', 'Servicio', 'Compra', 'Consultoría', 'Licencia'],\n",
        "    'FechaInicio': ['2021-01-01', '2021-03-15', '2021-05-20', '2021-07-01', '2021-09-05'],\n",
        "    'FechaVencimiento': ['2024-01-01', '2023-03-15', '2023-05-20', '2024-07-01', '2026-09-05'],\n",
        "    'MontoContrato': [1500, 3000, 25000, 8500, 12000],  # Valores ejemplo en USD\n",
        "    'Estado': ['Activo', 'Activo', 'Pendiente', 'Activo', 'Expirado']\n",
        "}\n",
        "\n",
        "# Convertir el diccionario a DataFrame\n",
        "\n",
        "\n",
        "# Guardar el DataFrame en un archivo CSV\n",
        "\n",
        "\n",
        "# Mostrar el DataFrame para revisión\n"
      ],
      "metadata": {
        "id": "cP0unf-2bavy"
      },
      "execution_count": null,
      "outputs": []
    },
    {
      "cell_type": "code",
      "source": [
        "# Definiremos dos cadenas de texto que simulan el contenido de legislaciones para España y Francia\n",
        "# y luego guardaremos estas cadenas en dos archivos de texto distintos.\n",
        "\n",
        "texto_legislacion_spain = \"\"\"\n",
        "Artículo 1. El propósito de esta ley es asegurar los derechos de los trabajadores.\n",
        "Artículo 2. Todos los empleadores deben seguir las normas de seguridad establecidas en el código laboral.\n",
        "Artículo 3. La jornada laboral máxima sin horas extra no debe exceder de 40 horas semanales.\n",
        "\"\"\"\n",
        "\n",
        "texto_legislacion_france = \"\"\"\n",
        "Artículo 1. El propósito de esta ley es asegurar los derechos de los trabajadores.\n",
        "Artículo 2. Todos los empleadores deben seguir las normas de seguridad establecidas en el código laboral.\n",
        "Artículo 3. La durée maximale du travail sans heures supplémentaires ne doit pas dépasser 35 heures par semaine.\n",
        "\"\"\"\n",
        "\n",
        "# Guardar los textos en archivos .txt\n"
      ],
      "metadata": {
        "id": "oPXzv-_4gRO4"
      },
      "execution_count": null,
      "outputs": []
    },
    {
      "cell_type": "code",
      "source": [
        "# Crear un archivo de casos de ejemplo\n",
        "\n",
        "casos = {\n",
        "  'CasoID': [1, 2, 3, 4, 5],\n",
        "  'TipoCaso': ['Civil', 'Penal', 'Comercial', 'Familia', 'Laboral'],\n",
        "  'TotalDisputa': [50000, 150000, 75000, 30000, 60000],\n",
        "  'Estado': ['Ganado', 'Perdido', 'Pendiente', 'Ganado', 'Perdido'],\n",
        "  'FechaProceso': ['2023-04-15', '2023-04-18', '2023-04-20', '2023-03-22', '2023-04-25']\n",
        "  'FechaInicio': ['2021-01-10', '2021-02-20', '2021-03-15', '2021-04-22', '2021-05-30'],\n",
        "  'FechaResolucion': ['2022-01-15', '2022-02-25', 'Pendiente', '2022-05-05', '2022-06-10']\n",
        "}\n",
        "\n",
        "# Guardar los casos en un archivo"
      ],
      "metadata": {
        "id": "xsGW0Qi_hqdC"
      },
      "execution_count": null,
      "outputs": []
    },
    {
      "cell_type": "markdown",
      "source": [
        "## Ejecicios I"
      ],
      "metadata": {
        "id": "ljOdClvbaCq9"
      }
    },
    {
      "cell_type": "code",
      "source": [
        "# Calculadora de Indemnizaciones: Escribe una función que calcule la indemnización por despido\n",
        "# injustificado basándose en el número de años trabajados y el salario mensual.\n",
        "# Supongamos que la indemnización es un mes de salario por cada año trabajado\n",
        "\n",
        "print(calcular_indemnizacion(5, 3000))"
      ],
      "metadata": {
        "id": "1BQjGJb3W0BA"
      },
      "execution_count": null,
      "outputs": []
    },
    {
      "cell_type": "code",
      "source": [
        "# Verificador de Fechas de Vencimiento: Desarrolla un script que lea una lista de fechas\n",
        "# de vencimiento de contratos desde un archivo CSV y determine cuáles contratos vencen en\n",
        "# los próximos 30 días.\n",
        "\n",
        "\n",
        "print(verificar_fechas_vencimiento('contratos.csv'))"
      ],
      "metadata": {
        "id": "oY47kmhVY6Ym"
      },
      "execution_count": null,
      "outputs": []
    },
    {
      "cell_type": "code",
      "source": [
        "# Clasificador de Documentos Legales: Crea una función que clasifique documentos legales\n",
        "# en categorías como \"Contratos\", \"Demandas\" y \"Otros\", basándose en palabras clave encontradas en el texto.\n",
        "\n",
        "def clasificar_documentos(texto):\n",
        "    if \"contrato\" in texto.lower():\n",
        "        return \"Contratos\"\n",
        "    elif \"demanda\" in texto.lower():\n",
        "        return \"Demandas\"\n",
        "    else:\n",
        "        return \"Otros\"\n",
        "\n",
        "print(clasificar_documentos(\"Este documento es un contrato de servicio.\"))"
      ],
      "metadata": {
        "id": "cm48pEI1Y_N9"
      },
      "execution_count": null,
      "outputs": []
    },
    {
      "cell_type": "code",
      "source": [
        "# Registro de Horas de Casos: Implementa un sistema que permita a los abogados registrar\n",
        "# las horas trabajadas en cada caso usando bucles y almacenar los datos en un archivo JSON.\n",
        "\n",
        "# Podemos pedir input al usuario usando por ejemplo: abogado_id = input(\"Ingrese el ID del abogado: \")\n",
        "\n",
        "import json\n",
        "\n",
        "def registrar_horas():\n",
        "\n",
        "\n",
        "# Llamar a la función para iniciar el registro\n",
        "registrar_horas()\n",
        "\n",
        "with open('registro_horas.json', 'r') as file:\n",
        "  datos = json.load(file)\n",
        "  print(datos)"
      ],
      "metadata": {
        "id": "qCkGZWENZCMB"
      },
      "execution_count": null,
      "outputs": []
    },
    {
      "cell_type": "code",
      "source": [
        "# Calculadora de Tasas Judiciales: Escribe un script que calcule las tasas judiciales\n",
        "# que deben pagarse por un caso, basado en el total en disputa y el tipo de procedimiento legal.\n",
        "\n",
        "# 2% para procedimientos civiles\n",
        "# 3% para procedimientos comerciales\n",
        "# 1.5% para procedimientos penales\n",
        "# 1% para procedimientos de familia\n",
        "\n",
        "def calcular_tasas_judiciales(total_disputa, tipo_procedimiento):\n",
        "\n",
        "\n",
        "# Ejemplos de uso de la función\n",
        "print(calcular_tasas_judiciales(10000, 'civil'))  # Total en disputa de 10,000 en procedimiento civil\n",
        "print(calcular_tasas_judiciales(20000, 'comercial'))  # Total en disputa de 20,000 en procedimiento comercial\n",
        "print(calcular_tasas_judiciales(5000, 'penal'))  # Total en disputa de 5,000 en procedimiento penal\n",
        "print(calcular_tasas_judiciales(15000, 'familia'))  # Total en disputa de 15,000 en procedimiento de familia"
      ],
      "metadata": {
        "id": "2Mq0dct0ZHhT"
      },
      "execution_count": null,
      "outputs": []
    },
    {
      "cell_type": "code",
      "source": [
        "# Analizador de Riesgos Legales: Desarrolla una función que evalúe el riesgo legal de\n",
        "# ciertos casos basándose en factores como la naturaleza del caso (civil, comercial, penal, familia)\n",
        "# y la jurisdicción (local, estatal, nacional), y devuelve un nivel de riesgo.\n",
        "\n",
        "def evaluar_riesgo_legal(naturaleza_caso, jurisdiccion):\n",
        "\n",
        "\n",
        "# Ejemplos de uso de la función\n",
        "print(evaluar_riesgo_legal('civil', 'local'))  # Debería devolver 'Bajo'\n",
        "print(evaluar_riesgo_legal('comercial', 'nacional'))  # Debería devolver 'Alto'\n",
        "print(evaluar_riesgo_legal('penal', 'estatal'))  # Debería devolver 'Alto'\n",
        "print(evaluar_riesgo_legal('familia', 'nacional'))  # Debería devolver 'Medio'"
      ],
      "metadata": {
        "id": "M8zVFcvyZKn8"
      },
      "execution_count": null,
      "outputs": []
    },
    {
      "cell_type": "code",
      "source": [
        "# Generador de Informes de Casos: Crea un script que genere un informe en formato CSV de\n",
        "# todos los casos legales procesados en el mes, incluyendo detalles como el tipo de caso, estado y total en disputa.\n",
        "\n",
        "import pandas as pd\n",
        "from datetime import datetime\n",
        "\n",
        "def generar_informe_casos(datos_casos, mes, anio, archivo_salida):\n",
        "\n",
        "\n",
        "\n",
        "datos = {\n",
        "    'TipoCaso': ['Civil', 'Comercial', 'Penal', 'Civil', 'Comercial'],\n",
        "    'Estado': ['Resuelto', 'Pendiente', 'Resuelto', 'Resuelto', 'Pendiente'],\n",
        "    'TotalDisputa': [5000, 20000, 15000, 7500, 10000],\n",
        "    'FechaProceso': ['2023-04-15', '2023-04-18', '2023-04-20', '2023-03-22', '2023-04-25']\n",
        "}\n",
        "casos_df = pd.DataFrame(datos)\n",
        "casos_df['FechaProceso'] = pd.to_datetime(casos_df['FechaProceso'])\n",
        "\n",
        "# Generar el informe para abril de 2023\n",
        "generar_informe_casos(casos_df, 4, 2023, 'informe_casos_abril_2023.csv')\n"
      ],
      "metadata": {
        "id": "-TrsBUe4ZOm6"
      },
      "execution_count": null,
      "outputs": []
    },
    {
      "cell_type": "code",
      "source": [
        "# Comparador de Legislaciones: Implementa un programa que compare cláusulas específicas de\n",
        "# legislaciones de diferentes estados o países a partir de archivos de texto, y resalte las diferencias.\n",
        "\n",
        "# Usar la libreria: difflib\n",
        "\n",
        "\n",
        "\n",
        "\n",
        "comparar_legislaciones('legislacion_1.txt', 'legislacion_2.txt')\n"
      ],
      "metadata": {
        "id": "T-xUp0u_ZRpI"
      },
      "execution_count": null,
      "outputs": []
    },
    {
      "cell_type": "code",
      "source": [
        "# Contador de Casos Ganados y Perdidos: Escribe una función que cuente el número\n",
        "# de casos ganados, perdidos y pendientes de una lista de casos cargada desde un archivo CSV.\n",
        "\n",
        "print(contar_casos_ganados_perdidos('casos.csv'))"
      ],
      "metadata": {
        "id": "JL9X7fshZXJU"
      },
      "execution_count": null,
      "outputs": []
    },
    {
      "cell_type": "code",
      "source": [
        "# Simulador de Resultados de Casos: Desarrolla un pequeño simulador que use probabilidades\n",
        "# para predecir el resultado de un caso basado en factores como la experiencia del abogado,\n",
        "# la complejidad del caso y un numero aleatorio.\n",
        "\n",
        "# Probabilidad de ganar = 50%\n",
        "# le valor que decide es aleatorio\n",
        "\n",
        "import random\n",
        "\n",
        "\n",
        "resultado = simular_resultado_caso(experiencia_abogado=10, complejidad_caso=5)\n",
        "print(f\"El resultado del caso simulado es: {resultado}\")"
      ],
      "metadata": {
        "id": "FBgrOOkSZbts"
      },
      "execution_count": null,
      "outputs": []
    }
  ]
}