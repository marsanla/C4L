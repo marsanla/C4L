{
  "nbformat": 4,
  "nbformat_minor": 0,
  "metadata": {
    "colab": {
      "provenance": [],
      "authorship_tag": "ABX9TyPEAUmXeAzuhI4Zj/x9MBRY",
      "include_colab_link": true
    },
    "kernelspec": {
      "name": "python3",
      "display_name": "Python 3"
    },
    "language_info": {
      "name": "python"
    }
  },
  "cells": [
    {
      "cell_type": "markdown",
      "metadata": {
        "id": "view-in-github",
        "colab_type": "text"
      },
      "source": [
        "<a href=\"https://colab.research.google.com/github/marsanla/C4L/blob/main/C4L_5_Ejercicio_final.ipynb\" target=\"_parent\"><img src=\"https://colab.research.google.com/assets/colab-badge.svg\" alt=\"Open In Colab\"/></a>"
      ]
    },
    {
      "cell_type": "markdown",
      "source": [
        "# Ejercicio final"
      ],
      "metadata": {
        "id": "iDU1nlyy9vQ1"
      }
    },
    {
      "cell_type": "markdown",
      "source": [
        "## Objetivo\n",
        "\n",
        "Desarrollar un sistema de alertas que analice y notifique sobre las fechas límite de diferentes fases de casos legales. El sistema debe manejar datos de abogados, fechas de inicio, valores disputados y horas dedicadas al caso. El sistema generará informes, enviará alertas por email o generará archivos PDF, y presentará gráficos de casos vencidos vs. presentados a tiempo, así como gráficos para identificar qué abogado ha fallado más en cumplir los plazos.\n"
      ],
      "metadata": {
        "id": "V6L_txxs9zh-"
      }
    },
    {
      "cell_type": "markdown",
      "source": [
        "## Conceptos de programación aplicados\n",
        "\n",
        "* Manejo de archivos (CSV, JSON)\n",
        "* Estructuras de control (if, else, for)\n",
        "* Funciones y módulos\n",
        "* Manejo de fechas y tiempos\n",
        "* Generación de informes (CSV, PDF)\n",
        "* Envío de emails automatizados\n",
        "* Visualización de datos (gráficos)"
      ],
      "metadata": {
        "id": "DZ_NiYId-LNn"
      }
    },
    {
      "cell_type": "markdown",
      "source": [
        "## Preparación\n",
        "\n",
        "Genera el CSV de ejemplo"
      ],
      "metadata": {
        "id": "yIZtr4IZAB7s"
      }
    },
    {
      "cell_type": "code",
      "source": [
        "import pandas as pd\n",
        "import re\n",
        "import random\n",
        "from datetime import datetime, timedelta\n",
        "\n",
        "def to_snake_case(text):\n",
        "    # Convertir el texto a minúsculas\n",
        "    text = text.lower()\n",
        "    # Reemplazar los espacios y otros caracteres especiales con un guion bajo\n",
        "    text = re.sub(r'[^a-z0-9]+', '_', text)\n",
        "    # Eliminar los guiones bajos al principio y al final\n",
        "    text = text.strip('_')\n",
        "    return text\n",
        "\n",
        "def generar_datos_casos(num_casos=60):\n",
        "    \"\"\"Genera un DataFrame con datos simulados para casos legales.\"\"\"\n",
        "    # Listas de nombres, tipos de casos y estados\n",
        "    nombres = ['Juan Perez', 'Ana Gomez', 'Carlos Ruiz', 'Laura Martínez', 'Roberto Díaz']\n",
        "    tipos_caso = ['Civil', 'Penal', 'Comercial', 'Laboral', 'Familia']\n",
        "    estados = ['Ganado', 'Perdido', 'Pendiente']\n",
        "\n",
        "    # Diccionario para almacenar los datos\n",
        "    datos = {\n",
        "        'caso_id': [],\n",
        "        'abogado': [],\n",
        "        'email': [],\n",
        "        'fecha_inicio': [],\n",
        "        'fecha_finalizacion': [],\n",
        "        'valor_disputado': [],\n",
        "        'horas_dedicadas': [],\n",
        "        'tipo_caso': [],\n",
        "        'estado': [],\n",
        "        'fecha_limite_fase1': [],\n",
        "        'fecha_limite_fase2': []\n",
        "    }\n",
        "\n",
        "    # Fecha base para el inicio de los casos\n",
        "    fecha_inicio_base = datetime(2024, 1, 1)\n",
        "\n",
        "    # Generar datos simulados para cada caso\n",
        "    for i in range(1, num_casos + 1):\n",
        "        abogado = random.choice(nombres)\n",
        "        fecha_inicio = fecha_inicio_base + timedelta(days=random.randint(0, 365))\n",
        "        valor_disputado = random.randint(5, 100) * 1000  # Valores entre 5,000 y 100,000\n",
        "        horas_dedicadas = random.randint(5, 40)  # Horas entre 5 y 40\n",
        "        tipo_caso = random.choice(tipos_caso)\n",
        "        estado = random.choice(estados)\n",
        "        fase1_delta = timedelta(days=random.randint(30, 90))  # 30 a 90 días después del inicio\n",
        "        fase2_delta = timedelta(days=random.randint(120, 180))  # 120 a 180 días después del inicio\n",
        "        caso_id = f\"C-{i:04d}\"  # Generar un ID único para el caso con formato C-0001, C-0002, ...\n",
        "\n",
        "        # Calcular fechas límite de las fases\n",
        "        fecha_limite_fase1 = fecha_inicio + fase1_delta\n",
        "        fecha_limite_fase2 = fecha_inicio + fase2_delta\n",
        "\n",
        "        # Determinar la fecha de finalización solo si el estado no es \"Pendiente\"\n",
        "        fecha_finalizacion = None\n",
        "        if estado != 'Pendiente':\n",
        "            fecha_finalizacion_min = fecha_inicio\n",
        "            fecha_finalizacion_max = fecha_limite_fase2 + timedelta(days=10)\n",
        "            rango_dias = (fecha_finalizacion_max - fecha_finalizacion_min).days\n",
        "            fecha_finalizacion = fecha_finalizacion_min + timedelta(days=random.randint(0, rango_dias))\n",
        "\n",
        "        # Añadir datos generados al diccionario\n",
        "        datos['caso_id'].append(caso_id)\n",
        "        datos['abogado'].append(abogado)\n",
        "        datos['email'].append(f\"{to_snake_case(abogado)}@mycoollawfirm.com\")\n",
        "        datos['fecha_inicio'].append(fecha_inicio.strftime('%Y-%m-%d'))\n",
        "        datos['fecha_finalizacion'].append(fecha_finalizacion.strftime('%Y-%m-%d') if fecha_finalizacion else None)\n",
        "        datos['valor_disputado'].append(valor_disputado)\n",
        "        datos['horas_dedicadas'].append(horas_dedicadas)\n",
        "        datos['tipo_caso'].append(tipo_caso)\n",
        "        datos['estado'].append(estado)\n",
        "        datos['fecha_limite_fase1'].append(fecha_limite_fase1.strftime('%Y-%m-%d'))\n",
        "        datos['fecha_limite_fase2'].append(fecha_limite_fase2.strftime('%Y-%m-%d'))\n",
        "\n",
        "    # Convertir el diccionario en un DataFrame de pandas\n",
        "    return pd.DataFrame(datos)\n",
        "\n",
        "# Generar el DataFrame con los datos de casos\n",
        "datos_casos = generar_datos_casos()\n",
        "\n",
        "# Guardar el DataFrame en un archivo CSV\n",
        "datos_casos.to_csv('casos.csv', index=False)\n",
        "\n",
        "# Mostrar algunos de los datos generados\n",
        "print(datos_casos.head())\n"
      ],
      "metadata": {
        "id": "bucGdLi5AH9I"
      },
      "execution_count": null,
      "outputs": []
    },
    {
      "cell_type": "markdown",
      "source": [
        "## Código"
      ],
      "metadata": {
        "id": "sERXEGfJ-byy"
      }
    },
    {
      "cell_type": "markdown",
      "source": [
        "### 1. Carga y Análisis de Datos\n",
        "\n",
        "En esta sección del ejercicio, nos enfocaremos en gestionar y procesar datos legales a partir de archivos CSV. El objetivo es obtener una visión clara de la carga de trabajo actual y los plazos inminentes para cada caso. Realizaremos lo siguiente:\n",
        "\n",
        "* **Importar datos desde archivos CSV:** Cargaremos los datos desde un archivo CSV, que incluirá información esencial sobre cada caso legal, tales como el nombre del abogado responsable, la fecha de inicio del caso, el valor disputado, las horas dedicadas y el tipo de caso.\n",
        "\n",
        "* **Análisis de fechas límite:** Una vez importados los datos, procederemos a calcular los días restantes hasta las fechas límite de las diferentes fases de los casos. Esto nos permitirá identificar los casos que requieren atención inmediata y planificar adecuadamente las acciones a seguir para cumplir con los plazos establecidos.\n",
        "\n",
        "Este análisis ayudará a optimizar la gestión de los casos y a mejorar la eficiencia operativa del equipo legal, asegurando que se respeten todos los plazos críticos."
      ],
      "metadata": {
        "id": "jb6WVhK0-qBw"
      }
    },
    {
      "cell_type": "markdown",
      "source": [],
      "metadata": {
        "id": "KJgtwy9OCXSN"
      }
    },
    {
      "cell_type": "code",
      "source": [
        "# Importar las librerias necesarias\n",
        "\n",
        "import pandas as pd\n",
        "from datetime import datetime\n",
        "import matplotlib.pyplot as plt"
      ],
      "metadata": {
        "id": "6sroFmBUiHcj"
      },
      "execution_count": null,
      "outputs": []
    },
    {
      "cell_type": "code",
      "source": [
        "# Cargar los datos del CSV y arreglar los tipos\n",
        "def cargar_datos(archivo_csv):\n",
        "    # Leer los datos del archivo CSV\n",
        "\n",
        "    # Convertir las columnas de fechas a tipo datetime\n",
        "\n",
        "    return datos"
      ],
      "metadata": {
        "id": "AU_jyCgziKG6"
      },
      "execution_count": null,
      "outputs": []
    },
    {
      "cell_type": "code",
      "source": [
        "# Calcular los días restantes para las fechas límite (crear columnas nuevas dias_restantes_fase1, dias_restantes_fase2)\n",
        "def calcular_fechas_limite(datos):\n",
        "    # Obtener la fecha y hora actual\n",
        "\n",
        "    # Calcular los días restantes para la fecha límite de la fase 1\n",
        "\n",
        "    # Calcular los días restantes para la fecha límite de la fase 2\n",
        "\n",
        "    # Ordenar los datos por los días restantes de la fase 1 y luego por los de la fase 2\n",
        "\n",
        "    return datos"
      ],
      "metadata": {
        "id": "2XiSwqThiNAT"
      },
      "execution_count": null,
      "outputs": []
    },
    {
      "cell_type": "code",
      "source": [
        "# Genera una gráfica que muestre los días restantes comparados entre sí, y categorizados por tipo y abogado\n",
        "def analizar_fechas(datos):\n",
        "    # Mapa de colores para los tipos de caso\n",
        "    color_map = {\n",
        "        'Civil': 'blue',\n",
        "        'Penal': 'red',\n",
        "        'Comercial': 'green',\n",
        "        'Laboral': 'purple',\n",
        "        'Familia': 'orange'\n",
        "    }\n",
        "    # Mapa de marcadores para los abogados\n",
        "    marker_map = {\n",
        "        'Juan Perez': 'o',  # Círculo\n",
        "        'Ana Gomez': 's',   # Cuadrado\n",
        "        'Carlos Ruiz': '^',  # Triángulo\n",
        "        'Laura Martínez': 'p',  # Pentágono\n",
        "        'Roberto Díaz': 'D'   # Diamante\n",
        "    }\n",
        "\n",
        "    # Crear una nueva figura para la gráfica\n",
        "\n",
        "    # Agrupar los datos por tipo de caso y abogado, y generar un scatter plot para cada grupo\n",
        "    # for (tipo_caso, abogado), group in datos.groupby(['tipo_caso', 'abogado']):\n",
        "\n",
        "\n",
        "    # Configuración del título y etiquetas de los ejes\n",
        "\n",
        "    # Mostrar la cuadrícula\n",
        "\n",
        "    # Mostrar la leyenda fuera de la gráfica\n",
        "\n",
        "    # Ajustar el layout para evitar recortes\n",
        "\n",
        "    # Mostrar la gráfica\n",
        ""
      ],
      "metadata": {
        "id": "RJPRDejYiRop"
      },
      "execution_count": null,
      "outputs": []
    },
    {
      "cell_type": "code",
      "execution_count": null,
      "metadata": {
        "id": "xrvKhsrB9ehM"
      },
      "outputs": [],
      "source": [
        "# Cargar los datos desde el archivo CSV\n",
        "datos = cargar_datos('casos.csv')\n",
        "\n",
        "# Calcular las fechas límite y ordenar los datos\n",
        "datos_analizados = calcular_fechas_limite(datos)\n",
        "\n",
        "# Filtrar los datos para solo incluir casos pendientes\n",
        "\n",
        "# Generar la gráfica con los datos analizados y pendientes\n",
        "analizar_fechas(datos_pendientes)"
      ]
    },
    {
      "cell_type": "markdown",
      "source": [
        "### 2. Sistema de alertas\n",
        "\n",
        "En esta parte del ejercicio, nos enfocaremos en desarrollar un sistema automatizado de alertas que servirá para monitorizar los plazos de los casos legales. Este sistema deberá realizar las siguientes funciones esenciales:\n",
        "\n",
        "#### Generación de alertas\n",
        "- **Monitoreo diario de fechas límite**: Implementar una función que revise diariamente las fechas límite de cada caso legal almacenado en la base de datos. La función identificará aquellos casos cuyas fechas de vencimiento de alguna de sus fases estén próximas a cumplirse o ya se hayan superado. (por ejemplo 7 días)\n",
        "  \n",
        "- **Notificación de alertas**: La función debe generar alertas específicas para los casos que requieran atención inmediata, ya sea porque se acercan a la fecha límite o porque la han excedido. Estas alertas deberán incluir información detallada sobre el caso, como el tipo de caso, el abogado a cargo, y los días restantes hasta la fecha límite.\n",
        "\n",
        "#### Envío de alertas por email\n",
        "- **Automatización del envío de emails**: Desarrollar un mecanismo automático que envíe emails a los abogados responsables de los casos que se encuentran en estado crítico. El email debe proporcionar todos los detalles necesarios para que el abogado pueda actuar rápidamente.\n",
        "\n",
        "- **Personalización de mensajes**: Los emails deben ser claros y concisos, incluyendo un resumen del caso, la fecha límite próxima o vencida, y cualquier acción recomendada o necesaria.\n",
        "\n",
        "Este sistema de alertas no solo optimizará la gestión de los casos legales dentro de la firma, sino que también mejorará la eficiencia en la respuesta y el seguimiento de los mismos, asegurando que se cumplan todos los plazos legales y se mitiguen posibles riesgos o penalizaciones."
      ],
      "metadata": {
        "id": "S2xCxzF0_AZd"
      }
    },
    {
      "cell_type": "markdown",
      "source": [
        "Para obtener los datos de configuración del email accedemos a [https://mailtrap.io/](https://mailtrap.io/) y creamos una cuenta. Seguimos las instrucciones y nos dará el código en python a utilizar (smtplib).\n",
        "\n"
      ],
      "metadata": {
        "id": "x9tw62RnT5wu"
      }
    },
    {
      "cell_type": "code",
      "source": [
        "# Importar las librerias necesarias\n",
        "\n",
        "# import pandas as pd --> Ya importada\n",
        "# from datetime import datetime --> Ya importada\n",
        "import smtplib\n",
        "from email.mime.text import MIMEText\n",
        "from email.mime.multipart import MIMEMultipart\n",
        "from email.mime.base import MIMEBase\n",
        "from email import encoders\n",
        "import os"
      ],
      "metadata": {
        "id": "7Wro_fUnh2qF"
      },
      "execution_count": null,
      "outputs": []
    },
    {
      "cell_type": "code",
      "source": [
        "# Función para enviar un email\n",
        "def enviar_email(emisor, destinatario, asunto, mensaje, mensaje_html, archivos_adjuntos=None):\n",
        "    # Crear un objeto MIMEMultipart para el mensaje\n",
        "    message = MIMEMultipart()\n",
        "    message['From'] = emisor\n",
        "    message['To'] = destinatario\n",
        "    message['Subject'] = asunto\n",
        "\n",
        "    # Adjuntar el mensaje en formato de texto plano\n",
        "    message.attach(MIMEText(mensaje, 'plain', 'utf-8'))\n",
        "    # Adjuntar el mensaje en formato HTML\n",
        "    message.attach(MIMEText(mensaje_html, 'html', 'utf-8'))\n",
        "\n",
        "    # Adjuntar archivos si se proporcionan\n",
        "    if archivos_adjuntos:\n",
        "        for archivo in archivos_adjuntos:\n",
        "            # Asegurarse de que el archivo exista\n",
        "            if os.path.isfile(archivo):\n",
        "                # Leer el contenido del archivo\n",
        "                with open(archivo, 'rb') as adjunto:\n",
        "                    mime_base = MIMEBase('application', 'octet-stream')\n",
        "                    mime_base.set_payload(adjunto.read())\n",
        "                    encoders.encode_base64(mime_base)\n",
        "                    mime_base.add_header('Content-Disposition', f'attachment; filename={os.path.basename(archivo)}')\n",
        "                    message.attach(mime_base)\n",
        "\n",
        "    # Configurar el servidor SMTP y enviar el email\n",
        "    with smtplib.SMTP(\"sandbox.smtp.mailtrap.io\", 2525) as server:\n",
        "        server.starttls()  # Iniciar TLS para la seguridad\n",
        "        server.login(\"user\", \"key\")  # Iniciar sesión en el servidor\n",
        "        server.sendmail(emisor, destinatario, message.as_string())  # Enviar el email\n",
        "        print(f\"Envio de email a: {destinatario}\")  # Imprimir confirmación de envío"
      ],
      "metadata": {
        "id": "SCiGuJ3bh-1S"
      },
      "execution_count": null,
      "outputs": []
    },
    {
      "cell_type": "code",
      "source": [
        "# Función para generar y enviar los emails de las alertas\n",
        "def revisar_fechas_y_enviar_alertas(datos, emisor):\n",
        "    for index, caso in datos.iterrows():\n",
        "        # Comprobar si alguna fecha límite está próxima (7 días o menos)\n",
        "\n",
        "            # Crear el mensaje en formato de texto plano\n",
        "\n",
        "            # Crear el mensaje en formato HTML\n",
        "            mensaje_html = f\"\"\"\n",
        "            <html>\n",
        "            <body>\n",
        "\n",
        "            </body>\n",
        "            </html>\n",
        "            \"\"\"\n",
        "\n",
        "            # Enviar el email con ambos formatos de mensaje\n",
        "            enviar_email(emisor, caso['email'], \"🚨 Alerta de Caso Inminente\", mensaje, mensaje_html)"
      ],
      "metadata": {
        "id": "inrt8HruivQR"
      },
      "execution_count": null,
      "outputs": []
    },
    {
      "cell_type": "code",
      "source": [
        "# Dirección de email del emisor\n",
        "emisor = \"info@mycoollawfirm.com\"\n",
        "\n",
        "# Revisar las fechas y enviar alertas basadas en los datos proporcionados\n",
        "revisar_fechas_y_enviar_alertas(datos_pendientes, emisor)"
      ],
      "metadata": {
        "id": "ZPD7dmQsHPAZ"
      },
      "execution_count": null,
      "outputs": []
    },
    {
      "cell_type": "markdown",
      "source": [
        "### 3. Generación de informes\n",
        "\n",
        "En este componente del ejercicio, nos enfocaremos en la creación y distribución de informes estructurados que reflejen el estado actual de los casos legales gestionados. Este proceso involucra dos tareas principales:\n",
        "\n",
        "#### Creación de informes detallados\n",
        "- **Elaboración de informes en formatos utilizables**: Desarrollar una función capaz de compilar y estructurar la información de los casos legales en informes detallados. Estos informes deben incluir elementos clave como el tipo de caso, el abogado encargado, las fechas de inicio y límite, y el estado actual del caso (si está 'a tiempo' o 'vencido'). El informe deberá ser generados en formato CVS y opcionalmente en formato PDF (libreria fpdf).\n",
        "\n",
        "#### Distribución de informes\n",
        "- **Envío automatizado de informes por email**: Implementar un mecanismo que automatice el envío de estos informes a los abogados o responsables de los casos. Este paso asegura que todas las partes relevantes estén informadas sobre el estado de los casos que manejan, permitiéndoles tomar medidas proactivas si un caso está cerca de su fecha límite o ya la ha superado."
      ],
      "metadata": {
        "id": "kOsUWHk9bxuI"
      }
    },
    {
      "cell_type": "code",
      "source": [
        "# Instalar la libreria fpdf"
      ],
      "metadata": {
        "id": "xflEd0wogLHk"
      },
      "execution_count": null,
      "outputs": []
    },
    {
      "cell_type": "code",
      "source": [
        "# Importar las librerias necesarias\n",
        "\n",
        "# import pandas as pd --> Ya importada\n",
        "# from datetime import datetime --> Ya importada"
      ],
      "metadata": {
        "id": "SLTzfjCBjG7m"
      },
      "execution_count": null,
      "outputs": []
    },
    {
      "cell_type": "code",
      "source": [
        "# Función para generar informe CSV\n",
        "def generar_informe_csv(datos, archivo_csv):\n",
        "    # Guardar el DataFrame como un archivo CSV\n",
        "\n",
        "    # Imprimir confirmación de que el informe CSV ha sido generado\n",
        ""
      ],
      "metadata": {
        "id": "avRAu8YLjgOF"
      },
      "execution_count": null,
      "outputs": []
    },
    {
      "cell_type": "code",
      "source": [
        "# Función para generar informe PDF\n",
        "def generar_informe_pdf(datos, archivo_pdf):\n",
        "    # Crear un objeto FPDF para el PDF\n",
        "\n",
        "    # Añadir una página al PDF\n",
        "\n",
        "    # Establecer la fuente del PDF\n",
        "\n",
        "    # Añadir un título al PDF\n",
        "\n",
        "    # Iterar sobre cada fila del DataFrame\n",
        "    for _, row in datos.iterrows():\n",
        "        # Añadir una línea al PDF con la información del caso\n",
        "\n",
        "    # Guardar el PDF en el archivo especificado\n",
        "\n",
        "    # Imprimir confirmación de que el informe PDF ha sido generado\n",
        ""
      ],
      "metadata": {
        "id": "GptaVrqXpGjF"
      },
      "execution_count": null,
      "outputs": []
    },
    {
      "cell_type": "code",
      "source": [
        "# Función para generar y enviar informe de casos pendientes\n",
        "def generar_y_enviar_informe_pendientes(datos, emisor, receptor):\n",
        "    # Obtener el mes y año actuales\n",
        "\n",
        "    # Generar los nombres de archivo base usando el mes y año actuales\n",
        "\n",
        "    # Generar y guardar el informe CSV\n",
        "\n",
        "    # Generar y guardar el informe PDF\n",
        "\n",
        "    # Crear el mensaje en formato de texto plano\n",
        "\n",
        "    # Crear el mensaje en formato HTML\n",
        "    mensaje_html = f\"\"\"\n",
        "    <html>\n",
        "    <body>\n",
        "\n",
        "    </body>\n",
        "    </html>\n",
        "    \"\"\"\n",
        "\n",
        "    # Enviar el email con ambos formatos de mensaje y los archivos adjuntos\n",
        "    enviar_email(emisor, receptor, \"📄 Reporte mensual de casos\", mensaje, mensaje_html, [informe_csv, informe_pdf])"
      ],
      "metadata": {
        "id": "dZKrOrWbpPyx"
      },
      "execution_count": null,
      "outputs": []
    },
    {
      "cell_type": "code",
      "source": [
        "# Dirección de email del emisor\n",
        "emisor = \"info@mycoollawfirm.com\"\n",
        "\n",
        "# Dirección de email del receptor\n",
        "receptor = \"reporting@mycoollawfirm.com\"\n",
        "\n",
        "# Generar y enviar el informe de casos pendientes\n",
        "generar_y_enviar_informe_pendientes(datos_pendientes, emisor, receptor)"
      ],
      "metadata": {
        "id": "IWoFVKbVg4y9"
      },
      "execution_count": null,
      "outputs": []
    },
    {
      "cell_type": "markdown",
      "source": [
        "### 4. Visualización de datos\n",
        "\n",
        "Nos centraremos en la elaboración de visualizaciones efectivas que permitan un análisis rápido y comprensible del rendimiento de la gestión de casos legales. Utilizaremos dos tipos de gráficos para evaluar y presentar visualmente la información sobre los casos y el rendimiento de los abogados.\n",
        "\n",
        "#### Gráfico de casos vencidos vs. presentados a tiempo\n",
        "- **Objetivo del gráfico**: Desarrollar un gráfico que ilustre claramente la proporción de casos que han sido gestionados y finalizados dentro de los plazos establecidos en comparación con aquellos que han excedido las fechas límite. Este gráfico ayudará a identificar visualmente la eficacia en la gestión de tiempo para todos los casos gestionados.\n",
        "  \n",
        "- **Tipo de gráfico recomendado**: Se recomienda utilizar un gráfico de barras para comparar de manera efectiva las cantidades de casos presentados a tiempo frente a los vencidos, proporcionando una representación visual clara de la distribución y estado actual de los casos.\n",
        "\n",
        "#### Gráfico de rendimiento de abogados\n",
        "- **Objetivo del gráfico**: Crear una visualización que muestre que abogado ha tenido más dificultades para cumplir con los plazos establecidos, destacando la cantidad de casos vencidos gestionados por cada abogado. Este análisis es crucial para la evaluación del desempeño y la planificación de capacitaciones o ajustes en las asignaciones de casos.\n",
        "\n",
        "- **Tipo de gráfico recomendado**: Un gráfico de barras apiladas o un gráfico de líneas podría ser adecuado para este propósito, donde cada barra o línea represente un abogado y los diferentes segmentos o puntos muestren el número de casos cumplidos y vencidos respectivamente."
      ],
      "metadata": {
        "id": "iUJddQDCp3gp"
      }
    },
    {
      "cell_type": "code",
      "source": [
        "# Importar las librerias necesarias\n",
        "\n",
        "# import pandas as pd --> Ya importada\n",
        "# from datetime import datetime --> Ya importada\n",
        "# import matplotlib.pyplot as plt --> Ya importada"
      ],
      "metadata": {
        "id": "ba9M-U-xsPGF"
      },
      "execution_count": null,
      "outputs": []
    },
    {
      "cell_type": "code",
      "source": [
        "# Función para generar la gráfica de casos presentados a tiempo vs. vencidos y pendientes\n",
        "def grafico_casos_presentados_vs_vencidos_y_pendientes(datos):\n",
        "    # Convertir las columnas de fechas a tipo datetime para facilitar las comparaciones\n",
        "\n",
        "    # Filtrar los datos para obtener los casos presentados a tiempo (antes o en la fecha límite de la fase 2)\n",
        "\n",
        "    # Filtrar los datos para obtener los casos vencidos (después de la fecha límite de la fase 2)\n",
        "\n",
        "    # Filtrar los datos para obtener los casos pendientes (aquellos que están en estado \"Pendiente\")\n",
        "\n",
        "    # Contar el número de casos en cada categoría\n",
        "    # Número de casos presentados a tiempo\n",
        "\n",
        "    # Número de casos vencidos\n",
        "\n",
        "    # Número de casos pendientes\n",
        "\n",
        "    # Crear el gráfico de barras\n",
        "\n",
        "    # Configurar el título y etiquetas del gráfico\n",
        "\n",
        "    # Mostrar el gráfico\n",
        "\n",
        "# Llamada a la función para generar el gráfico con los datos analizados\n",
        "grafico_casos_presentados_vs_vencidos_y_pendientes(datos_casos)\n"
      ],
      "metadata": {
        "id": "gN7qPkS25qUc"
      },
      "execution_count": null,
      "outputs": []
    },
    {
      "cell_type": "code",
      "source": [
        "# Función para generar la gráfica de rendimiento de abogados\n",
        "def grafico_rendimiento_abogados(datos):\n",
        "    # Convertir las columnas de fechas a tipo datetime para facilitar las comparaciones\n",
        "\n",
        "    # Filtrar los datos para obtener los casos presentados a tiempo (antes o en la fecha límite de la fase 2)\n",
        "\n",
        "    # Filtrar los datos para obtener los casos vencidos (después de la fecha límite de la fase 2)\n",
        "\n",
        "    # Obtener la lista única de abogados en los datos\n",
        "\n",
        "    # Crear un diccionario para contar los casos presentados a tiempo y los vencidos por cada abogado\n",
        "\n",
        "    # Contar los casos presentados a tiempo y vencidos para cada abogado\n",
        "\n",
        "    # Crear listas para el gráfico con los nombres de los abogados y los números de casos a tiempo y vencidos\n",
        "\n",
        "    # Configurar el ancho de las barras\n",
        "\n",
        "    # Crear una nueva figura y un conjunto de ejes\n",
        "\n",
        "    # Crear las barras apiladas para los casos presentados a tiempo y los casos vencidos\n",
        "\n",
        "    # Configurar el título y etiquetas del gráfico\n",
        "\n",
        "    # Rotar las etiquetas del eje X para mejor legibilidad\n",
        "\n",
        "    # Ajustar el diseño para evitar recortes\n",
        "\n",
        "    # Mostrar el gráfico\n",
        "\n",
        "# Llamada a la función para generar el gráfico con los datos analizados\n",
        "grafico_rendimiento_abogados(datos_casos)\n"
      ],
      "metadata": {
        "id": "JPW-FS5_6KIX"
      },
      "execution_count": null,
      "outputs": []
    }
  ]
}