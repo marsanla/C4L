{
  "nbformat": 4,
  "nbformat_minor": 0,
  "metadata": {
    "colab": {
      "provenance": [],
      "collapsed_sections": [
        "AQVGk2uf4GZX",
        "CBYu96EC4T8w",
        "0_bAkZxxxhmV",
        "pySmlcNk1O-8",
        "RAFlxBRTxmZJ",
        "JVqtWIDWxp3i",
        "-4RIbc-U8q52",
        "VEgYCvrt8xiF",
        "BiNkvkGC8UkI",
        "1aS2iLyD8nud",
        "y7PSTxqY8ENd",
        "7TvpRUUtA5iX",
        "5twpgG2f9kI4",
        "_g0ty3KS-AGV",
        "PbF5tg9K_pmy"
      ],
      "authorship_tag": "ABX9TyOUeAW4Ae+GF/CEgEdg0Ce7",
      "include_colab_link": true
    },
    "kernelspec": {
      "name": "python3",
      "display_name": "Python 3"
    },
    "language_info": {
      "name": "python"
    }
  },
  "cells": [
    {
      "cell_type": "markdown",
      "metadata": {
        "id": "view-in-github",
        "colab_type": "text"
      },
      "source": [
        "<a href=\"https://colab.research.google.com/github/marsanla/C4L/blob/main/SOL_C4L_2_Estructuras_de_control%2C_expresiones%2C_operadores_y_control_de_flujo.ipynb\" target=\"_parent\"><img src=\"https://colab.research.google.com/assets/colab-badge.svg\" alt=\"Open In Colab\"/></a>"
      ]
    },
    {
      "cell_type": "markdown",
      "source": [
        "# Estructuras de control, expresiones, operadores y control de flujo\n",
        "\n"
      ],
      "metadata": {
        "id": "K1KlQoOs2EvZ"
      }
    },
    {
      "cell_type": "markdown",
      "source": [
        "\n",
        "\n",
        "## 1.   Objetivos del día\n",
        "\n"
      ],
      "metadata": {
        "id": "AQVGk2uf4GZX"
      }
    },
    {
      "cell_type": "markdown",
      "source": [
        "### ¿Qué esperar hoy?\n",
        "\n",
        "Profundizaremos en cómo Python puede ser utilizado para manejar decisiones lógicas y repetición de tareas, elementos cruciales en la automatización de procesos legales. El objetivo de hoy es dotaros con las herramientas necesarias para escribir programas que puedan tomar decisiones y ejecutar operaciones repetitivas de forma eficiente.\n",
        "\n",
        "### ¿Qué cubriremos?\n",
        "\n",
        "- **Expresiones y operadores**: Exploraremos los diferentes tipos de operadores en Python, incluyendo aritméticos, de comparación, lógicos, y de asignación. Comprenderemos cómo estas herramientas permiten realizar cálculos y evaluar condiciones dentro del código.\n",
        "\n",
        "- **Estructuras de Control**: Aprenderemos a usar estructuras de control como `if`, `else`, y `elif` para tomar decisiones en nuestros programas. Estas estructuras son fundamentales para desarrollar scripts que puedan adaptarse a diferentes condiciones y datos.\n",
        "\n",
        "- **Control de Flujo con Bucles**: Nos enfocaremos en los bucles `for` y `while`, que son esenciales para automatizar tareas repetitivas, como procesar listas de casos, documentos, o realizar cálculos legales que requieren iteración.\n",
        "\n",
        "¡Empecemos!"
      ],
      "metadata": {
        "id": "qiiRFF9C42cw"
      }
    },
    {
      "cell_type": "markdown",
      "source": [
        "## 2.   Sección de teoría\n"
      ],
      "metadata": {
        "id": "CBYu96EC4T8w"
      }
    },
    {
      "cell_type": "markdown",
      "source": [
        "### 2.1 Expresiones y operadores"
      ],
      "metadata": {
        "id": "0_bAkZxxxhmV"
      }
    },
    {
      "cell_type": "markdown",
      "source": [
        "En el ámbito de la programación, una **expresión** es una combinación de valores, variables y operadores que, al ser evaluada, produce otro valor. De manera similar a como los sustantivos forman la base de las oraciones en el lenguaje humano, **las expresiones son los componentes fundamentales de las instrucciones en un programa de ordenador**.\n",
        "\n",
        "| Ejemplo de Larry | Ejemplo real |\n",
        "| ---------------- | ------------ |\n",
        "| mover **derecha**    | **4 + 1**    |\n",
        "| mover **derecha**    | **x / 2**    |\n",
        "| mover **abajo**      |              |\n",
        "\n",
        "**Un operador es un símbolo que le dice al compilador o al intérprete que realice una operación específica**, como matemática, comparación o lógica. Los operadores permiten modificar los valores de las variables y dirigir el flujo del programa basándose en condiciones.\n",
        "\n",
        "| Ejemplo de Larry | Ejemplo real |\n",
        "| ---------------- | ------------ |\n",
        "| **mover derecha**    | **x = 4 + 1**    |\n",
        "| **mover derecha**    | **if( ( x / 2 ) > 15 )**    |\n",
        "| **mover abajo**      |              |\n"
      ],
      "metadata": {
        "id": "n2F7mbVxoieY"
      }
    },
    {
      "cell_type": "markdown",
      "source": [
        "\n",
        "En programación el orden es importante. Usamos “(“ o “)” para gestionar conflictos y expresiones ambiguas.\n",
        "\n",
        "No es lo mismo decir:\n",
        "\n",
        "`mientras ( no esté encima del juzgado ) y ( no esté al lado del sitio de construcción ) .`\n",
        "\n",
        "que\n",
        "\n",
        "`mientras no ( esté encima del juzgado y no esté al lado del sitio de construcción ) .`"
      ],
      "metadata": {
        "id": "Md-qK21wpZD5"
      }
    },
    {
      "cell_type": "markdown",
      "source": [
        "El uso de paréntesis en Python es crucial para controlar el orden de las operaciones dentro de las expresiones, asegurando que operaciones prioritarias se ejecuten primero. Esto es especialmente importante cuando se combinan diferentes tipos de operadores que podrían llevar a ambigüedades o errores en los cálculos."
      ],
      "metadata": {
        "id": "ex4ABlRu1jZt"
      }
    },
    {
      "cell_type": "code",
      "source": [
        "# Cálculo de una compensación con varios factores, asegurando la prioridad en las operaciones\n",
        "\n",
        "salario_base = 2500\n",
        "dias_extra_trabajados = 5\n",
        "tarifa_por_dia_extra = 200\n",
        "deducciones = 300\n",
        "\n",
        "# Uso de paréntesis para asegurar el cálculo correcto de la compensación\n",
        "\n",
        "compensacion_total = (salario_base + (dias_extra_trabajados * tarifa_por_dia_extra)) - deducciones\n",
        "print(f\"Compensación total calculada: {compensacion_total}€\")\n"
      ],
      "metadata": {
        "colab": {
          "base_uri": "https://localhost:8080/"
        },
        "id": "_HoQRhNE1lsY",
        "outputId": "c1faf133-79a9-41dd-daf5-24540dd2c38a"
      },
      "execution_count": null,
      "outputs": [
        {
          "output_type": "stream",
          "name": "stdout",
          "text": [
            "Compensación total calculada: 3200€\n"
          ]
        }
      ]
    },
    {
      "cell_type": "markdown",
      "source": [
        "### 2.2 Operadores aritméticos"
      ],
      "metadata": {
        "id": "pySmlcNk1O-8"
      }
    },
    {
      "cell_type": "markdown",
      "source": [
        "Los operadores aritméticos permiten realizar operaciones matemáticas básicas, esenciales en casi cualquier programa, incluyendo aquellos utilizados en aplicaciones legales:\n",
        "\n",
        "- `+`: Suma dos operandos. Ejemplo: `total = precio + impuesto`.\n",
        "- `-`: Resta el segundo operando del primero. Ejemplo: `diferencia = ingresos - gastos`.\n",
        "- `*`: Multiplica ambos operandos. Ejemplo: `total_multa = dias * tarifa_diaria`.\n",
        "- `/`: Divide el numerador por el denominador. Ejemplo: `promedio = total / cantidad`.\n",
        "- `%`: Devuelve el resto de una división entera. Ejemplo: `resto = total_dias % 365`.\n"
      ],
      "metadata": {
        "id": "SOw9Cu7H1V_r"
      }
    },
    {
      "cell_type": "code",
      "source": [
        "# Calculando un interés simple para una suma de dinero en un caso legal\n",
        "\n",
        "principal = 1000  # capital\n",
        "tasa_interes = 5  # tasa de interés anual en porcentaje\n",
        "tiempo = 3        # tiempo en años\n",
        "interes_simple = (principal * tasa_interes * tiempo) / 100\n",
        "print(\"El interés simple es:\", interes_simple)"
      ],
      "metadata": {
        "colab": {
          "base_uri": "https://localhost:8080/"
        },
        "id": "KB5nXfp9s2Vv",
        "outputId": "f8ba2285-303c-40bf-be59-bcee4947b660"
      },
      "execution_count": null,
      "outputs": [
        {
          "output_type": "stream",
          "name": "stdout",
          "text": [
            "El interés simple es: 150.0\n"
          ]
        }
      ]
    },
    {
      "cell_type": "markdown",
      "source": [
        "### 2.3 Operadores de comparación\n",
        "\n",
        "\n"
      ],
      "metadata": {
        "id": "RAFlxBRTxmZJ"
      }
    },
    {
      "cell_type": "markdown",
      "source": [
        "Estos operadores son utilizados para comparar valores, fundamental para tomar decisiones lógicas en el flujo del programa:\n",
        "\n",
        "* **==** Verifica si dos valores son iguales.\n",
        "* **!=** Verifica si dos valores no son iguales.\n",
        "* **>** Mayor que.\n",
        "* **>=** Mayor o igual que.\n",
        "* **<** Menor que.\n",
        "* **<=** Menor o igual que.\n"
      ],
      "metadata": {
        "id": "NOTmuMDU7Sbj"
      }
    },
    {
      "cell_type": "code",
      "source": [
        "edad_minima = 18\n",
        "edad_cliente = 20\n",
        "\n",
        "print('==', edad_cliente == edad_minima)\n",
        "print('!=', edad_cliente != edad_minima)\n",
        "print('>', edad_cliente > edad_minima)\n",
        "print('>=', edad_cliente >= edad_minima)\n",
        "print('<', edad_cliente < edad_minima)\n",
        "print('<=', edad_cliente <= edad_minima)"
      ],
      "metadata": {
        "colab": {
          "base_uri": "https://localhost:8080/"
        },
        "id": "3cTZBaxMt_Xd",
        "outputId": "482365dd-9847-4dda-9688-eac8c4fdfa8c"
      },
      "execution_count": null,
      "outputs": [
        {
          "output_type": "stream",
          "name": "stdout",
          "text": [
            "== False\n",
            "!= True\n",
            "> True\n",
            ">= True\n",
            "< False\n",
            "<= False\n"
          ]
        }
      ]
    },
    {
      "cell_type": "markdown",
      "source": [
        "### 2.4 Operadores lógicos y de concatenación\n"
      ],
      "metadata": {
        "id": "JVqtWIDWxp3i"
      }
    },
    {
      "cell_type": "markdown",
      "source": [
        "Operador lógico NOT, que invierte el estado lógico de su operando.\n",
        "\n",
        "`not`\n",
        "\n",
        "| Expresión | Resultado |\n",
        "| ---------------- | ------------ |\n",
        "| true    | false   |\n",
        "| false    | true      |"
      ],
      "metadata": {
        "id": "X2nNzg6ouwpV"
      }
    },
    {
      "cell_type": "code",
      "source": [
        "# Uso del operador lógico NOT\n",
        "\n",
        "condicion = True\n",
        "print(\"El valor original de la condición es:\", condicion)\n",
        "print(\"El valor invertido de la condición es:\", not condicion)"
      ],
      "metadata": {
        "colab": {
          "base_uri": "https://localhost:8080/"
        },
        "id": "h7cNC6Ivxkat",
        "outputId": "ce1bbb9a-b1fb-470e-d21e-3452830325d4"
      },
      "execution_count": null,
      "outputs": [
        {
          "output_type": "stream",
          "name": "stdout",
          "text": [
            "El valor original de la condición es: True\n",
            "El valor invertido de la condición es: False\n"
          ]
        }
      ]
    },
    {
      "cell_type": "markdown",
      "source": [
        "Operador lógico AND, verdadero si ambos operandos son verdaderos.\n",
        "\n",
        "`and`\n",
        "\n",
        "| Expresión 1 | Expresión 2 | Resultado |\n",
        "| ---------------- | ---------------- | ------------ |\n",
        "| true    | true    | true   |\n",
        "| true  | false    | false      |\n",
        "| false  | true    | false      |\n",
        "| false  | false    | false      |"
      ],
      "metadata": {
        "id": "SZjuYLEgvUWn"
      }
    },
    {
      "cell_type": "code",
      "source": [
        "# Uso del operador lógico AND\n",
        "\n",
        "condicion1 = True\n",
        "condicion2 = False\n",
        "print(\"El resultado de condicion1 AND condicion2 es:\", condicion1 and condicion2)"
      ],
      "metadata": {
        "colab": {
          "base_uri": "https://localhost:8080/"
        },
        "id": "aqGDRYnWxwzK",
        "outputId": "5842550a-5a71-4737-9622-f7ac51598338"
      },
      "execution_count": null,
      "outputs": [
        {
          "output_type": "stream",
          "name": "stdout",
          "text": [
            "El resultado de condicion1 AND condicion2 es: False\n"
          ]
        }
      ]
    },
    {
      "cell_type": "markdown",
      "source": [
        "Operador lógico OR, verdadero si al menos uno de los operandos es verdadero.\n",
        "\n",
        "`or`\n",
        "\n",
        "| Expresión 1 | Expresión 2 | Resultado |\n",
        "| ---------------- | ---------------- | ------------ |\n",
        "| true    | true    | true   |\n",
        "| true  | false    | true      |\n",
        "| false  | true    | true      |\n",
        "| false  | false    | false      |"
      ],
      "metadata": {
        "id": "MKL6oJryv5Qe"
      }
    },
    {
      "cell_type": "code",
      "source": [
        "# Uso del operador lógico OR\n",
        "\n",
        "condicion1 = True\n",
        "condicion2 = False\n",
        "print(\"El resultado de condicion1 OR condicion2 es:\", condicion1 or condicion2)"
      ],
      "metadata": {
        "colab": {
          "base_uri": "https://localhost:8080/"
        },
        "id": "WfgTyZVrx3Dq",
        "outputId": "958a6470-4603-4cc3-895b-d50897bd3e5f"
      },
      "execution_count": null,
      "outputs": [
        {
          "output_type": "stream",
          "name": "stdout",
          "text": [
            "El resultado de condicion1 OR condicion2 es: True\n"
          ]
        }
      ]
    },
    {
      "cell_type": "markdown",
      "source": [
        "Operadores de incremento y decremento que ajustan el valor de una variable en uno.\n",
        "\n",
        "`+=`, `-=`\n",
        "\n",
        "| Expresión |  Resultado |\n",
        "| ---------------- |  ------------ |\n",
        "| variable += 1    |  variable = variable + 1    |\n",
        "| variable -= 1  |  variable = variable - 1      |"
      ],
      "metadata": {
        "id": "xdEpgPOawQRw"
      }
    },
    {
      "cell_type": "code",
      "source": [
        "# Incrementando un valor\n",
        "\n",
        "contador = 0\n",
        "contador += 1  # Equivalente a contador = contador + 1\n",
        "print(\"El valor incrementado de contador es:\", contador)\n",
        "\n",
        "# Decrementando un valor\n",
        "\n",
        "contador -= 1  # Equivalente a contador = contador - 1\n",
        "print(\"El valor decrementado de contador es:\", contador)"
      ],
      "metadata": {
        "colab": {
          "base_uri": "https://localhost:8080/"
        },
        "id": "462C3Ivfx_ed",
        "outputId": "a4a06cbb-e308-4bf7-8756-a19cdbcedb89"
      },
      "execution_count": null,
      "outputs": [
        {
          "output_type": "stream",
          "name": "stdout",
          "text": [
            "El valor incrementado de contador es: 1\n",
            "El valor decrementado de contador es: 0\n"
          ]
        }
      ]
    },
    {
      "cell_type": "markdown",
      "source": [
        "### 2.5 Control de flujo\n",
        "\n",
        "\n"
      ],
      "metadata": {
        "id": "-4RIbc-U8q52"
      }
    },
    {
      "cell_type": "markdown",
      "source": [
        "El control de flujo en la programación se refiere al orden en el que se ejecutan las instrucciones dentro de un programa. Este orden puede ser manipulado utilizando operadores de comparación, lógicos y estructuras de control como condicionales y bucles.\n",
        "\n",
        "En el ámbito legal, por ejemplo, el control de flujo puede ser esencial para automatizar decisiones que dependen de múltiples factores y criterios definidos, permitiendo ejecutar diferentes acciones basadas en diversas condiciones legales."
      ],
      "metadata": {
        "id": "iTscB4KqzqjG"
      }
    },
    {
      "cell_type": "markdown",
      "source": [
        "Por ejemplo, un sistema automatizado puede evaluar si un caso debe proceder a juicio basándose en la comparación de costes legales frente a potenciales beneficios, riesgos asociados y precedentes legales."
      ],
      "metadata": {
        "id": "2VbgSjWu0Pdp"
      }
    },
    {
      "cell_type": "code",
      "source": [
        "def decidir_ir_a_juicio(costos_legales, beneficio_potencial, riesgo_asociado, hay_precedentes):\n",
        "    # Evaluar los precedentes legales\n",
        "    if hay_precedentes:\n",
        "        print(\"Hay precedentes favorables, considerar otros factores.\")\n",
        "    else:\n",
        "        print(\"No hay precedentes favorables, riesgo elevado.\")\n",
        "        return False\n",
        "\n",
        "    # Comparar los costes legales frente a los beneficios potenciales\n",
        "    if costos_legales >= beneficio_potencial:\n",
        "        print(\"Los costes legales superan o igualan los beneficios potenciales.\")\n",
        "        return False\n",
        "    else:\n",
        "        print(\"Los beneficios potenciales superan los costes legales.\")\n",
        "\n",
        "    # Evaluar los riesgos asociados\n",
        "    if riesgo_asociado > 50:  # Supongamos que el riesgo está en una escala de 0 a 100\n",
        "        print(\"El riesgo asociado es alto, no proceder a juicio.\")\n",
        "        return False\n",
        "    else:\n",
        "        print(\"El riesgo asociado es manejable.\")\n",
        "\n",
        "    # Si todas las condiciones son favorables, proceder a juicio\n",
        "    return True\n",
        "\n",
        "# Ejemplo de uso de la función\n",
        "costes_legales = 1000\n",
        "beneficio_potencial = 5000\n",
        "riesgo_asociado = 30\n",
        "hay_precedentes = True\n",
        "\n",
        "decision = decidir_ir_a_juicio(costes_legales, beneficio_potencial, riesgo_asociado, hay_precedentes)\n",
        "print(\"Decisión final: Proceder a juicio\" if decision else \"Decisión final: No proceder a juicio\")\n"
      ],
      "metadata": {
        "colab": {
          "base_uri": "https://localhost:8080/"
        },
        "id": "aIdrvMs_0Uy9",
        "outputId": "9d43c75b-2e48-4db2-fa68-cdffd55600cd"
      },
      "execution_count": null,
      "outputs": [
        {
          "output_type": "stream",
          "name": "stdout",
          "text": [
            "Hay precedentes favorables, considerar otros factores.\n",
            "Los beneficios potenciales superan los costes legales.\n",
            "El riesgo asociado es manejable.\n",
            "Decisión final: Proceder a juicio\n"
          ]
        }
      ]
    },
    {
      "cell_type": "markdown",
      "source": [
        "#### Condicionales: if, elif, y else\n",
        "\n",
        "Los condicionales permiten que un programa ejecute diferentes acciones según si una condición específica es verdadera o falsa. Estos son esenciales para la toma de decisiones en el código."
      ],
      "metadata": {
        "id": "VEgYCvrt8xiF"
      }
    },
    {
      "cell_type": "markdown",
      "source": [
        "* **if**: La declaración `if` evalúa una condición. Si la condición es verdadera, el bloque de código que sigue se ejecuta. Si la condición es falsa, se salta el bloque de código.\n",
        "* **elif**: Abreviatura de `elif`. Se usa después de un if inicial para evaluar condiciones adicionales si las anteriores no eran verdaderas.\n",
        "* **else**: Se usa después de un if o elif para definir un bloque de código que se ejecuta si todas las condiciones anteriores son falsas."
      ],
      "metadata": {
        "id": "ErNtOfAA3Anj"
      }
    },
    {
      "cell_type": "code",
      "source": [
        "edad = 20\n",
        "\n",
        "if edad < 18:\n",
        "    print(\"Menor de edad\")\n",
        "elif edad >= 18 and edad < 65:\n",
        "    print(\"Adulto\")\n",
        "else:\n",
        "    print(\"Senior\")\n"
      ],
      "metadata": {
        "colab": {
          "base_uri": "https://localhost:8080/"
        },
        "id": "jL2Mj5Zf3gKk",
        "outputId": "d71b5dc9-136e-4b41-c768-af48d2896b7b"
      },
      "execution_count": null,
      "outputs": [
        {
          "output_type": "stream",
          "name": "stdout",
          "text": [
            "Adulto\n"
          ]
        }
      ]
    },
    {
      "cell_type": "markdown",
      "source": [
        "#### Bucles: for y while\n",
        "\n",
        "Los bucles permiten ejecutar un bloque de código repetidamente bajo ciertas condiciones, facilitando la realización de tareas repetitivas sin necesidad de escribir el mismo código muchas veces."
      ],
      "metadata": {
        "id": "sq7g0ov99hB-"
      }
    },
    {
      "cell_type": "markdown",
      "source": [
        "* **for**: Este bucle itera sobre una secuencia (que puede ser una lista, una tupla, un diccionario, un conjunto o una cadena). Con cada iteración, la variable definida en el bucle `for` toma el valor del siguiente elemento en la secuencia."
      ],
      "metadata": {
        "id": "3VIJaH9F36fK"
      }
    },
    {
      "cell_type": "code",
      "source": [
        "# Iteración sobre una lista\n",
        "\n",
        "nombres = [\"Ana\", \"Juan\", \"Diana\"]\n",
        "\n",
        "for nombre in nombres:\n",
        "    print(f\"Hola, {nombre}\")\n"
      ],
      "metadata": {
        "colab": {
          "base_uri": "https://localhost:8080/"
        },
        "id": "96xWKqpq4FtI",
        "outputId": "51897839-8418-42d5-bab4-b6e9bc2ffc36"
      },
      "execution_count": null,
      "outputs": [
        {
          "output_type": "stream",
          "name": "stdout",
          "text": [
            "Hola, Ana\n",
            "Hola, Juan\n",
            "Hola, Diana\n"
          ]
        }
      ]
    },
    {
      "cell_type": "code",
      "source": [
        "# Iteración sobre una tupla\n",
        "\n",
        "dimensiones = (200, 50, 100)  # dimensiones de una caja en cm\n",
        "for dimension in dimensiones:\n",
        "    print(f\"La dimensión es: {dimension} cm\")\n"
      ],
      "metadata": {
        "colab": {
          "base_uri": "https://localhost:8080/"
        },
        "id": "qK_NtPBq49ng",
        "outputId": "53cde717-32f5-4866-f180-abd73d1f06f8"
      },
      "execution_count": null,
      "outputs": [
        {
          "output_type": "stream",
          "name": "stdout",
          "text": [
            "La dimensión es: 200 cm\n",
            "La dimensión es: 50 cm\n",
            "La dimensión es: 100 cm\n"
          ]
        }
      ]
    },
    {
      "cell_type": "code",
      "source": [
        "# Iteración sobre un diccionario\n",
        "\n",
        "usuario = {\n",
        "    \"nombre\": \"Elena\",\n",
        "    \"edad\": 32,\n",
        "    \"profesion\": \"Ingeniera\"\n",
        "}\n",
        "for clave, valor in usuario.items():\n",
        "    print(f\"{clave}: {valor}\")\n"
      ],
      "metadata": {
        "colab": {
          "base_uri": "https://localhost:8080/"
        },
        "id": "528Fs5gT5CLc",
        "outputId": "d049f2ab-c2c8-42d9-b972-8b4db98d40e6"
      },
      "execution_count": null,
      "outputs": [
        {
          "output_type": "stream",
          "name": "stdout",
          "text": [
            "nombre: Elena\n",
            "edad: 32\n",
            "profesion: Ingeniera\n"
          ]
        }
      ]
    },
    {
      "cell_type": "code",
      "source": [
        "# Iteración sobre un conjunto\n",
        "\n",
        "numeros = {1, 2, 3, 4, 5}\n",
        "for numero in numeros:\n",
        "    print(numero)\n"
      ],
      "metadata": {
        "colab": {
          "base_uri": "https://localhost:8080/"
        },
        "id": "4hNqKDPs5gLT",
        "outputId": "f170ff5f-711e-42b1-9be7-1f18d0a2dcb9"
      },
      "execution_count": null,
      "outputs": [
        {
          "output_type": "stream",
          "name": "stdout",
          "text": [
            "1\n",
            "2\n",
            "3\n",
            "4\n",
            "5\n"
          ]
        }
      ]
    },
    {
      "cell_type": "code",
      "source": [
        "# Iteración sobre una cadena de texto\n",
        "\n",
        "saludo = \"Hola mundo\"\n",
        "for caracter in saludo:\n",
        "    print(caracter)\n"
      ],
      "metadata": {
        "colab": {
          "base_uri": "https://localhost:8080/"
        },
        "id": "jf3Ux0en5miX",
        "outputId": "630e808f-4bf8-4ca2-ccdb-ea8d2b194e42"
      },
      "execution_count": null,
      "outputs": [
        {
          "output_type": "stream",
          "name": "stdout",
          "text": [
            "H\n",
            "o\n",
            "l\n",
            "a\n",
            " \n",
            "m\n",
            "u\n",
            "n\n",
            "d\n",
            "o\n"
          ]
        }
      ]
    },
    {
      "cell_type": "markdown",
      "source": [
        "* **while**: Ejecuta un bloque de código mientras una condición específica es verdadera. Es útil cuando no se sabe cuántas veces será necesario ejecutar el bucle."
      ],
      "metadata": {
        "id": "75N2OsL44N2e"
      }
    },
    {
      "cell_type": "code",
      "source": [
        "contador = 0\n",
        "\n",
        "while contador < 5:\n",
        "    print(f\"El contador es {contador}\")\n",
        "    contador += 1\n"
      ],
      "metadata": {
        "colab": {
          "base_uri": "https://localhost:8080/"
        },
        "id": "RjJ3DMx74SQP",
        "outputId": "7c8b6912-e246-42f6-b182-e739e45d7f40"
      },
      "execution_count": null,
      "outputs": [
        {
          "output_type": "stream",
          "name": "stdout",
          "text": [
            "El contador es 0\n",
            "El contador es 1\n",
            "El contador es 2\n",
            "El contador es 3\n",
            "El contador es 4\n"
          ]
        }
      ]
    },
    {
      "cell_type": "markdown",
      "source": [
        "#### Otros elementos"
      ],
      "metadata": {
        "id": "xI5yAS-G4nXk"
      }
    },
    {
      "cell_type": "markdown",
      "source": [
        "* **break**: Se utiliza para salir de un bucle antes de que se haya completado naturalmente.\n",
        "* **continue**: Omite el resto del código dentro de un bucle para esta iteración y pasa directamente a la siguiente iteración.\n",
        "* **pass**: Es una operación nula; nada sucede cuando se ejecuta. Se utiliza cuando una declaración es requerida sintácticamente pero no se desea ejecutar ningún código."
      ],
      "metadata": {
        "id": "PEaOY3un56yI"
      }
    },
    {
      "cell_type": "code",
      "source": [
        "# Ejemplo con break\n",
        "\n",
        "casos_legales = [\n",
        "    {\"nombre\": \"Caso A\", \"tiempo_en_meses\": 10},\n",
        "    {\"nombre\": \"Caso B\", \"tiempo_en_meses\": 24},\n",
        "    {\"nombre\": \"Caso C\", \"tiempo_en_meses\": 18}\n",
        "]\n",
        "\n",
        "limite_tiempo = 20  # Límite de tiempo en meses\n",
        "\n",
        "for caso in casos_legales:\n",
        "    if caso[\"tiempo_en_meses\"] > limite_tiempo:\n",
        "        print(f\"Alerta: {caso['nombre']} ha excedido el límite de tiempo.\")\n",
        "        break  # Salir del bucle después de encontrar el primer caso que excede el límite\n"
      ],
      "metadata": {
        "colab": {
          "base_uri": "https://localhost:8080/"
        },
        "id": "sEtj0LRC4yLf",
        "outputId": "c5289bb8-78b3-4cef-ed67-2ab658b679bc"
      },
      "execution_count": null,
      "outputs": [
        {
          "output_type": "stream",
          "name": "stdout",
          "text": [
            "Alerta: Caso B ha excedido el límite de tiempo.\n"
          ]
        }
      ]
    },
    {
      "cell_type": "code",
      "source": [
        "# Ejemplo con continue\n",
        "\n",
        "documentos = [\n",
        "    {\"nombre\": \"Documento 1\", \"revisado\": False},\n",
        "    {\"nombre\": \"Documento 2\", \"revisado\": True},\n",
        "    {\"nombre\": \"Documento 3\", \"revisado\": False}\n",
        "]\n",
        "\n",
        "for documento in documentos:\n",
        "    if documento[\"revisado\"]:\n",
        "        continue  # Omite los documentos ya revisados\n",
        "    print(f\"Revisando {documento['nombre']}...\")\n",
        "    # Código para procesar el documento\n"
      ],
      "metadata": {
        "colab": {
          "base_uri": "https://localhost:8080/"
        },
        "id": "DBbRC0Rh6zHU",
        "outputId": "582f00ab-99c9-4ac3-867a-397d381e67ef"
      },
      "execution_count": null,
      "outputs": [
        {
          "output_type": "stream",
          "name": "stdout",
          "text": [
            "Revisando Documento 1...\n",
            "Revisando Documento 3...\n"
          ]
        }
      ]
    },
    {
      "cell_type": "code",
      "source": [
        "# Ejemplo con pass\n",
        "\n",
        "alertas = [\n",
        "    {\"tipo\": \"Infracción de marca\", \"activa\": True},\n",
        "    {\"tipo\": \"Violación de patente\", \"activa\": False},\n",
        "    {\"tipo\": \"Incumplimiento de contrato\", \"activa\": True}\n",
        "]\n",
        "\n",
        "for alerta in alertas:\n",
        "    if alerta[\"tipo\"] == \"Violación de patente\":\n",
        "        pass  # No hacer nada por ahora\n",
        "    elif alerta[\"activa\"]:\n",
        "        print(f\"Generando alerta para: {alerta['tipo']}\")\n",
        "        # Código para manejar la generación de la alerta\n"
      ],
      "metadata": {
        "colab": {
          "base_uri": "https://localhost:8080/"
        },
        "id": "JhgkgDJ267oe",
        "outputId": "80444fd4-26f5-4252-f9a7-658c0a5b924e"
      },
      "execution_count": null,
      "outputs": [
        {
          "output_type": "stream",
          "name": "stdout",
          "text": [
            "Generando alerta para: Infracción de marca\n",
            "Generando alerta para: Incumplimiento de contrato\n"
          ]
        }
      ]
    },
    {
      "cell_type": "markdown",
      "source": [
        "## 3. Sección de ejercicios prácticos"
      ],
      "metadata": {
        "id": "uZYTTE3_7zpU"
      }
    },
    {
      "cell_type": "markdown",
      "source": [
        "### 3.1 Ejercicios de expresiones y operadores"
      ],
      "metadata": {
        "id": "BiNkvkGC8UkI"
      }
    },
    {
      "cell_type": "code",
      "source": [
        "# Calcula el resultado de sumar dos números.\n",
        "\n",
        "def sumar(a, b):\n",
        "    return a + b\n",
        "\n",
        "sumar(2, 4)"
      ],
      "metadata": {
        "id": "3Fly5Rrd80Cx",
        "colab": {
          "base_uri": "https://localhost:8080/"
        },
        "outputId": "68990a11-431d-4dfa-bf81-e97337c1d2f5"
      },
      "execution_count": null,
      "outputs": [
        {
          "output_type": "execute_result",
          "data": {
            "text/plain": [
              "6"
            ]
          },
          "metadata": {},
          "execution_count": 24
        }
      ]
    },
    {
      "cell_type": "code",
      "source": [
        "# Multiplica dos números y muestra el resultado.\n",
        "\n",
        "def multiplicar(a, b):\n",
        "    return a * b\n",
        "\n",
        "multiplicar(2, 3)"
      ],
      "metadata": {
        "id": "28fXttI-8346",
        "colab": {
          "base_uri": "https://localhost:8080/"
        },
        "outputId": "dca0cffb-fec1-40f3-97a2-9bd07d97fbd7"
      },
      "execution_count": null,
      "outputs": [
        {
          "output_type": "execute_result",
          "data": {
            "text/plain": [
              "6"
            ]
          },
          "metadata": {},
          "execution_count": 34
        }
      ]
    },
    {
      "cell_type": "code",
      "source": [
        "# Divide dos números y maneja la situación donde el divisor es cero usando condicionales.\n",
        "\n",
        "def dividir(a, b):\n",
        "    if b == 0:\n",
        "        return \"Error: No se puede dividir por cero\"\n",
        "    else:\n",
        "        return a / b\n",
        "\n",
        "dividir(3, 4)"
      ],
      "metadata": {
        "id": "hn3H-Hu088tv",
        "colab": {
          "base_uri": "https://localhost:8080/"
        },
        "outputId": "d130d724-6252-44d0-f983-d37d912a99f3"
      },
      "execution_count": null,
      "outputs": [
        {
          "output_type": "execute_result",
          "data": {
            "text/plain": [
              "0.75"
            ]
          },
          "metadata": {},
          "execution_count": 33
        }
      ]
    },
    {
      "cell_type": "code",
      "source": [
        "# Usa operadores de comparación para determinar si dos nombres son iguales.\n",
        "\n",
        "def son_nombres_iguales(nombre1, nombre2):\n",
        "    return nombre1 == nombre2\n",
        "\n",
        "son_nombres_iguales(\"Marcos\", \"marcos\")"
      ],
      "metadata": {
        "id": "lMHMGDpF9Adm",
        "colab": {
          "base_uri": "https://localhost:8080/"
        },
        "outputId": "569949c3-d3a7-436b-871d-d72bedcb1ac1"
      },
      "execution_count": null,
      "outputs": [
        {
          "output_type": "execute_result",
          "data": {
            "text/plain": [
              "False"
            ]
          },
          "metadata": {},
          "execution_count": 32
        }
      ]
    },
    {
      "cell_type": "code",
      "source": [
        "# Determina si un número es par o impar utilizando el operador módulo.\n",
        "\n",
        "def es_par(num):\n",
        "    return num % 2 == 0\n",
        "\n",
        "es_par(5)"
      ],
      "metadata": {
        "id": "XzP2n3Of9GAB",
        "colab": {
          "base_uri": "https://localhost:8080/"
        },
        "outputId": "41b64565-2b83-4a1f-c997-4a3b87a1e113"
      },
      "execution_count": null,
      "outputs": [
        {
          "output_type": "execute_result",
          "data": {
            "text/plain": [
              "False"
            ]
          },
          "metadata": {},
          "execution_count": 31
        }
      ]
    },
    {
      "cell_type": "code",
      "source": [
        "# Utiliza operadores lógicos para determinar si un número está entre 10 y 20.\n",
        "\n",
        "def esta_entre_10_y_20(num):\n",
        "    return (10 <= num) and (num <= 20)\n",
        "\n",
        "esta_entre_10_y_20(13)"
      ],
      "metadata": {
        "id": "En69xohn9MYF",
        "colab": {
          "base_uri": "https://localhost:8080/"
        },
        "outputId": "ad873714-c018-4e04-b5c7-3a670efc3cc2"
      },
      "execution_count": null,
      "outputs": [
        {
          "output_type": "execute_result",
          "data": {
            "text/plain": [
              "True"
            ]
          },
          "metadata": {},
          "execution_count": 1
        }
      ]
    },
    {
      "cell_type": "code",
      "source": [
        "# Incrementa un valor de deuda en un 10% usando operadores de asignación.\n",
        "\n",
        "def incrementar_deuda(deuda):\n",
        "    return deuda * 1.10\n",
        "\n",
        "deuda = incrementar_deuda(1000)\n",
        "print(deuda)"
      ],
      "metadata": {
        "id": "827Imuq09QTZ",
        "colab": {
          "base_uri": "https://localhost:8080/"
        },
        "outputId": "f4af3ffe-19db-4174-a981-4cc4aa8a52a7"
      },
      "execution_count": null,
      "outputs": [
        {
          "output_type": "stream",
          "name": "stdout",
          "text": [
            "1100.0\n"
          ]
        }
      ]
    },
    {
      "cell_type": "code",
      "source": [
        "# Calcula el resultado de una operación aritmética compleja con uso correcto de paréntesis.\n",
        "\n",
        "def operacion_compleja(a, b, c, d):\n",
        "    return (a + b) * (c - d)\n",
        "\n",
        "operacion_compleja(1, 2, 3, 4)"
      ],
      "metadata": {
        "id": "vZOYfrqR9Vdm",
        "colab": {
          "base_uri": "https://localhost:8080/"
        },
        "outputId": "250b7f7e-b13c-4236-8743-dd1c1867e39c"
      },
      "execution_count": null,
      "outputs": [
        {
          "output_type": "execute_result",
          "data": {
            "text/plain": [
              "-3"
            ]
          },
          "metadata": {},
          "execution_count": 28
        }
      ]
    },
    {
      "cell_type": "code",
      "source": [
        "# Compara dos cadenas para ver si son iguales, ignorando mayúsculas y minúsculas.\n",
        "\n",
        "def comparar_cadenas(cadena1, cadena2):\n",
        "    return cadena1.lower() == cadena2.lower()\n",
        "\n",
        "comparar_cadenas(\"leagl\", \"legaltech\")"
      ],
      "metadata": {
        "id": "3HBeH3Mg9hUw",
        "colab": {
          "base_uri": "https://localhost:8080/"
        },
        "outputId": "b9e79e09-5844-4c6d-f0a4-a989943c4bcd"
      },
      "execution_count": null,
      "outputs": [
        {
          "output_type": "execute_result",
          "data": {
            "text/plain": [
              "False"
            ]
          },
          "metadata": {},
          "execution_count": 25
        }
      ]
    },
    {
      "cell_type": "code",
      "source": [
        "# Evalúa la verdad de \"si un número es positivo y par al mismo tiempo\".\n",
        "\n",
        "def es_positivo_y_par(num):\n",
        "    return num > 0 and num % 2 == 0\n",
        "\n",
        "es_positivo_y_par(4)"
      ],
      "metadata": {
        "id": "Zg000fjV9jUn",
        "colab": {
          "base_uri": "https://localhost:8080/"
        },
        "outputId": "634b8e81-96b0-41ff-fb7e-efc9654a2d3d"
      },
      "execution_count": null,
      "outputs": [
        {
          "output_type": "execute_result",
          "data": {
            "text/plain": [
              "True"
            ]
          },
          "metadata": {},
          "execution_count": 27
        }
      ]
    },
    {
      "cell_type": "markdown",
      "source": [
        "### 3.2 Ejercicios estructuras de control"
      ],
      "metadata": {
        "id": "1aS2iLyD8nud"
      }
    },
    {
      "cell_type": "code",
      "source": [
        "# Escribe un programa que imprima \"Adulto\" si la edad es mayor o igual a 18, de lo contrario imprima \"Menor\".\n",
        "\n",
        "def clasificar_por_edad(edad):\n",
        "    if edad >= 18:\n",
        "        return \"Adulto\"\n",
        "    else:\n",
        "        return \"Menor\"\n",
        "\n",
        "clasificar_por_edad(14)"
      ],
      "metadata": {
        "colab": {
          "base_uri": "https://localhost:8080/",
          "height": 35
        },
        "id": "Z38dGjsz8wR4",
        "outputId": "d7d32643-a448-4fec-e3f9-e954484e341e"
      },
      "execution_count": null,
      "outputs": [
        {
          "output_type": "execute_result",
          "data": {
            "text/plain": [
              "'Menor'"
            ],
            "application/vnd.google.colaboratory.intrinsic+json": {
              "type": "string"
            }
          },
          "metadata": {},
          "execution_count": 37
        }
      ]
    },
    {
      "cell_type": "code",
      "source": [
        "# Usa if, elif, y else para imprimir la clasificación de una película basada en la edad.\n",
        "\n",
        "def clasificar_pelicula(edad):\n",
        "    if edad < 13:\n",
        "        return \"Película para niños\"\n",
        "    elif edad < 18:\n",
        "        return \"Película para adolescentes\"\n",
        "    else:\n",
        "        return \"Película para adultos\"\n",
        "\n",
        "clasificar_pelicula(18)"
      ],
      "metadata": {
        "colab": {
          "base_uri": "https://localhost:8080/",
          "height": 35
        },
        "id": "wztqGq6h85oI",
        "outputId": "985dc682-60d8-449d-e6f0-f68f138c29ef"
      },
      "execution_count": null,
      "outputs": [
        {
          "output_type": "execute_result",
          "data": {
            "text/plain": [
              "'Película para adultos'"
            ],
            "application/vnd.google.colaboratory.intrinsic+json": {
              "type": "string"
            }
          },
          "metadata": {},
          "execution_count": 35
        }
      ]
    },
    {
      "cell_type": "code",
      "source": [
        "# Determina el mayor de tres números usando condicionales.\n",
        "\n",
        "def mayor_de_tres(a, b, c):\n",
        "    if a >= b and a >= c:\n",
        "        return a\n",
        "    elif b >= a and b >= c:\n",
        "        return b\n",
        "    else:\n",
        "        return c\n",
        "\n",
        "mayor_de_tres(5,4,8)"
      ],
      "metadata": {
        "colab": {
          "base_uri": "https://localhost:8080/"
        },
        "id": "-TDNG97089p2",
        "outputId": "1db144ad-49b7-473e-d0b5-fed3070d1274"
      },
      "execution_count": null,
      "outputs": [
        {
          "output_type": "execute_result",
          "data": {
            "text/plain": [
              "8"
            ]
          },
          "metadata": {},
          "execution_count": 36
        }
      ]
    },
    {
      "cell_type": "code",
      "source": [
        "# Escribe un programa que verifique si un número es positivo, negativo o cero.\n",
        "\n",
        "def clasificar_numero(num):\n",
        "    if num > 0:\n",
        "        return \"Positivo\"\n",
        "    elif num < 0:\n",
        "        return \"Negativo\"\n",
        "    else:\n",
        "        return \"Cero\"\n",
        "\n",
        "clasificar_numero(39)"
      ],
      "metadata": {
        "colab": {
          "base_uri": "https://localhost:8080/",
          "height": 35
        },
        "id": "XbCFYU2V9dZM",
        "outputId": "2b892399-bc56-4ea5-d9da-53702a91aca0"
      },
      "execution_count": null,
      "outputs": [
        {
          "output_type": "execute_result",
          "data": {
            "text/plain": [
              "'Positivo'"
            ],
            "application/vnd.google.colaboratory.intrinsic+json": {
              "type": "string"
            }
          },
          "metadata": {},
          "execution_count": 38
        }
      ]
    },
    {
      "cell_type": "markdown",
      "source": [
        "##### BONUS: Ejercicio 1 - Clasificación de Riesgo Legal\n",
        "\n",
        "Descripción:\n",
        "Desarrolla un programa que evalúe y clasifique el nivel de riesgo legal de un caso basado en múltiples factores. Los factores incluyen el tipo de caso, el valor disputado, y si hay precedentes legales relevantes.\n",
        "\n",
        "El programa debe usar estructuras if-else anidadas para determinar y imprimir la clasificación de riesgo: bajo, medio, o alto.\n",
        "\n",
        "Criterios:\n",
        "\n",
        "* Riesgo bajo: casos civiles con valor disputado menor a 10,000 EUR o cualquier caso con precedentes favorables.\n",
        "* Riesgo medio: casos civiles con valor disputado entre 10,000 y 50,000 EUR, o casos penales con precedentes neutrales.\n",
        "* Riesgo alto: cualquier caso penal con valor disputado mayor a 50,000 EUR o casos sin precedentes legales."
      ],
      "metadata": {
        "id": "te5GZPH57nsI"
      }
    },
    {
      "cell_type": "code",
      "source": [
        "def clasificar_riesgo(tipo_caso, valor_disputado, precedentes_favorables):\n",
        "\n",
        "\n",
        "# Ejemplo de uso\n",
        "tipo_caso = \"civil\"\n",
        "valor_disputado = 30000\n",
        "precedentes_favorables = False\n",
        "print(clasificar_riesgo(tipo_caso, valor_disputado, precedentes_favorables))\n"
      ],
      "metadata": {
        "id": "1fKxZsrH7mYy"
      },
      "execution_count": null,
      "outputs": []
    },
    {
      "cell_type": "code",
      "source": [
        "def clasificar_riesgo(tipo_caso, valor_disputado, precedentes_favorables):\n",
        "    if precedentes_favorables:\n",
        "        return \"Riesgo bajo\"\n",
        "    elif tipo_caso == \"civil\":\n",
        "        if valor_disputado < 10000:\n",
        "            return \"Riesgo bajo\"\n",
        "        elif 10000 <= valor_disputado <= 50000:\n",
        "            return \"Riesgo medio\"\n",
        "        else:\n",
        "            return \"Riesgo alto\"\n",
        "    elif tipo_caso == \"penal\":\n",
        "        if valor_disputado > 50000:\n",
        "            return \"Riesgo alto\"\n",
        "        else:\n",
        "            return \"Riesgo medio\"\n",
        "    return \"Riesgo no determinado\"\n",
        "\n",
        "# Ejemplo de uso\n",
        "tipo_caso = \"civil\"\n",
        "valor_disputado = 30000\n",
        "precedentes_favorables = False\n",
        "print(clasificar_riesgo(tipo_caso, valor_disputado, precedentes_favorables))\n"
      ],
      "metadata": {
        "colab": {
          "base_uri": "https://localhost:8080/"
        },
        "id": "Rd4aeM6174wH",
        "outputId": "96e5fe48-515c-4cf1-eb9e-5b1bd10f4f25"
      },
      "execution_count": null,
      "outputs": [
        {
          "output_type": "stream",
          "name": "stdout",
          "text": [
            "Riesgo medio\n"
          ]
        }
      ]
    },
    {
      "cell_type": "markdown",
      "source": [
        "#####  BONUS: Ejercicio 2 - Simulador de Asignación de Recursos Legales\n",
        "\n",
        "Descripción:\n",
        "Crea un simulador que determine cómo asignar recursos legales a diferentes departamentos dentro de una firma de abogados. El programa debe decidir cuántos abogados asignar a cada departamento basado en la carga de trabajo actual, utilizando if-else para asignar recursos de manera efectiva.\n",
        "\n",
        "Criterios:\n",
        "\n",
        "* Departamento de litigios: Si hay más de 50 casos pendientes, asigna 10 abogados; si hay entre 20 y 50 casos, asigna 5 abogados; de lo contrario, asigna 2 abogados.\n",
        "* Departamento de propiedad intelectual: Si hay más de 30 casos pendientes, asigna 8 abogados; si hay entre 10 y 30 casos, asigna 4 abogados; de lo contrario, asigna 1 abogado.\n",
        "* Departamento de regulación y cumplimiento: Asigna 1 abogado por cada 10 casos, pero no más de 7 abogados en total."
      ],
      "metadata": {
        "id": "y7PSTxqY8ENd"
      }
    },
    {
      "cell_type": "code",
      "source": [
        "def asignar_abogados(departamento, casos_pendientes):\n",
        "\n",
        "\n",
        "# Ejemplo de uso\n",
        "departamento = \"litigios\"\n",
        "casos_pendientes = 35\n",
        "print(\"Abogados asignados:\", asignar_abogados(departamento, casos_pendientes))\n"
      ],
      "metadata": {
        "id": "W1wFT0sN8OZg"
      },
      "execution_count": null,
      "outputs": []
    },
    {
      "cell_type": "code",
      "source": [
        "def asignar_abogados(departamento, casos_pendientes):\n",
        "    if departamento == \"litigios\":\n",
        "        if casos_pendientes > 50:\n",
        "            return 10\n",
        "        elif 20 <= casos_pendientes <= 50:\n",
        "            return 5\n",
        "        else:\n",
        "            return 2\n",
        "    elif departamento == \"propiedad intelectual\":\n",
        "        if casos_pendientes > 30:\n",
        "            return 8\n",
        "        elif 10 <= casos_pendientes <= 30:\n",
        "            return 4\n",
        "        else:\n",
        "            return 1\n",
        "    elif departamento == \"regulación y cumplimiento\":\n",
        "        abogados = min(casos_pendientes // 10, 7)\n",
        "        return abogados\n",
        "    return 0\n",
        "\n",
        "# Ejemplo de uso\n",
        "departamento = \"litigios\"\n",
        "casos_pendientes = 35\n",
        "print(\"Abogados asignados:\", asignar_abogados(departamento, casos_pendientes))\n"
      ],
      "metadata": {
        "colab": {
          "base_uri": "https://localhost:8080/"
        },
        "id": "msdCX71p8Q_c",
        "outputId": "b1a7a6b0-accb-4e69-bbca-52a884554a35"
      },
      "execution_count": null,
      "outputs": [
        {
          "output_type": "stream",
          "name": "stdout",
          "text": [
            "Abogados asignados: 5\n"
          ]
        }
      ]
    },
    {
      "cell_type": "markdown",
      "source": [
        "### 3.3 Ejercicios de bucles"
      ],
      "metadata": {
        "id": "7TvpRUUtA5iX"
      }
    },
    {
      "cell_type": "code",
      "source": [
        "# Utiliza un bucle for para imprimir los números del 1 al 10.\n",
        "\n",
        "for i in range(1, 11):\n",
        "    print(i)"
      ],
      "metadata": {
        "colab": {
          "base_uri": "https://localhost:8080/"
        },
        "id": "Q7z8pN5UA9kk",
        "outputId": "07cece5a-8b6e-40f7-d3ee-f99e91a395fe"
      },
      "execution_count": null,
      "outputs": [
        {
          "output_type": "stream",
          "name": "stdout",
          "text": [
            "1\n",
            "2\n",
            "3\n",
            "4\n",
            "5\n",
            "6\n",
            "7\n",
            "8\n",
            "9\n",
            "10\n"
          ]
        }
      ]
    },
    {
      "cell_type": "code",
      "source": [
        "# Utiliza un bucle while para encontrar el primer múltiplo de 5 en una lista.\n",
        "\n",
        "numeros = [3, 7, 12, 18, 20, 25, 30]\n",
        "indice = 0\n",
        "primer_multiplo_5 = None\n",
        "\n",
        "for num in numeros:\n",
        "  if num % 5 == 0:\n",
        "    primer_multiplo_5 = num\n",
        "    break\n",
        "\n",
        "while indice < len(numeros):\n",
        "    if numeros[indice] % 5 == 0:\n",
        "        primer_multiplo_5 = numeros[indice]\n",
        "        break  # Salir del bucle una vez que se encuentra el primer múltiplo de 5\n",
        "    indice += 1\n",
        "\n",
        "print(\"El primer múltiplo de 5 en la lista es:\", primer_multiplo_5)\n"
      ],
      "metadata": {
        "colab": {
          "base_uri": "https://localhost:8080/"
        },
        "id": "8H988v2EBFrn",
        "outputId": "b003c316-88ec-41f2-fd95-1b1a3b74a117"
      },
      "execution_count": null,
      "outputs": [
        {
          "output_type": "stream",
          "name": "stdout",
          "text": [
            "El primer múltiplo de 5 en la lista es: 20\n"
          ]
        }
      ]
    },
    {
      "cell_type": "code",
      "source": [
        "# Escribe un bucle for que itere sobre una lista de clientes y muestre sus nombres.\n",
        "\n",
        "clientes = [\"Ana\", \"Pedro\", \"Lucía\"]\n",
        "for cliente in clientes:\n",
        "    print(cliente)"
      ],
      "metadata": {
        "colab": {
          "base_uri": "https://localhost:8080/"
        },
        "id": "5Rwc9slvBHzA",
        "outputId": "c5bb3c65-6856-43b3-ef77-adaf465dd5c2"
      },
      "execution_count": null,
      "outputs": [
        {
          "output_type": "stream",
          "name": "stdout",
          "text": [
            "Ana\n",
            "Pedro\n",
            "Lucía\n"
          ]
        }
      ]
    },
    {
      "cell_type": "code",
      "source": [
        "# Usa un bucle for para sumar todos los números en una lista.\n",
        "\n",
        "numeros = [1, 2, 3, 4, 5]\n",
        "suma_total = 0\n",
        "for numero in numeros:\n",
        "    suma_total += numero\n",
        "print(\"La suma total es:\", suma_total)\n"
      ],
      "metadata": {
        "colab": {
          "base_uri": "https://localhost:8080/"
        },
        "id": "qk_nxHBNBJvO",
        "outputId": "51cc71c8-5492-490e-e19d-8ef755d9fc1f"
      },
      "execution_count": null,
      "outputs": [
        {
          "output_type": "stream",
          "name": "stdout",
          "text": [
            "La suma total es: 15\n"
          ]
        }
      ]
    },
    {
      "cell_type": "markdown",
      "source": [
        "### 3.3 Ejercicios de combinaciones de estructuras de control y bucles"
      ],
      "metadata": {
        "id": "5twpgG2f9kI4"
      }
    },
    {
      "cell_type": "code",
      "source": [
        "# Encontrar el mínimo de facturas pendientes:\n",
        "# Crea un programa que use un bucle y condicionales para encontrar la factura\n",
        "# con el menor importe pendiente de una lista.\n",
        "\n",
        "def minimo_facturas_pendientes(facturas):\n",
        "    min_factura = float('inf')\n",
        "    for factura in facturas:\n",
        "        if factura < min_factura:\n",
        "            min_factura = factura\n",
        "    return min_factura\n",
        "\n",
        "facturas = [450, 1200, 890, 350, 780]\n",
        "minimo_facturas_pendientes(facturas)"
      ],
      "metadata": {
        "colab": {
          "base_uri": "https://localhost:8080/"
        },
        "id": "zZ0Eqwau9x_E",
        "outputId": "06cad699-f9a0-4c91-985f-764ac1cb06e4"
      },
      "execution_count": null,
      "outputs": [
        {
          "output_type": "execute_result",
          "data": {
            "text/plain": [
              "350"
            ]
          },
          "metadata": {},
          "execution_count": 46
        }
      ]
    },
    {
      "cell_type": "code",
      "source": [
        "# Filtrar y mostrar casos mayores a un valor específico:\n",
        "# Utiliza un bucle for con un if para imprimir todos los casos cuyo valor de\n",
        "# disputa sea mayor que 10,000 EUR.\n",
        "\n",
        "def mostrar_casos_mayores(casos, valor_especifico=10000):\n",
        "    casos_filtrados = [caso for caso in casos if caso[\"valor\"] > valor_especifico]\n",
        "    return casos_filtrados\n",
        "\n",
        "casos = [{\"nombre\": \"Caso A\", \"valor\": 5000}, {\"nombre\": \"Caso B\", \"valor\": 15000}, {\"nombre\": \"Caso C\", \"valor\": 8000}]\n",
        "mostrar_casos_mayores(casos)"
      ],
      "metadata": {
        "colab": {
          "base_uri": "https://localhost:8080/"
        },
        "id": "J0nhwdzA-WYx",
        "outputId": "aa0f7688-6133-4957-d144-64d8b74fc076"
      },
      "execution_count": null,
      "outputs": [
        {
          "output_type": "execute_result",
          "data": {
            "text/plain": [
              "[{'nombre': 'Caso B', 'valor': 15000}]"
            ]
          },
          "metadata": {},
          "execution_count": 47
        }
      ]
    },
    {
      "cell_type": "code",
      "source": [
        "# Detección temprana de casos negativos:\n",
        "# Implementa un bucle while con break para detener la ejecución cuando se\n",
        "# encuentre el primer caso con resultado negativo en una lista de casos pasados.\n",
        "\n",
        "def detectar_caso_negativo(resultados_casos):\n",
        "  indice = 0\n",
        "  encontrado = False\n",
        "\n",
        "  while indice <= len(resultados_casos):\n",
        "    if resultados_casos[indice] == \"negativo\":\n",
        "      encontrado = True\n",
        "      break;\n",
        "\n",
        "    indice += 1\n",
        "\n",
        "  if encontrado:\n",
        "    print(\"Se detectó un caso negativo, deteniendo el proceso.\")\n",
        "  else:\n",
        "    print(\"No se encontraron casos negativos.\")\n",
        "\n",
        "resultados_casos = [\"positivo\", \"positivo\", \"negativo\", \"positivo\"]\n",
        "detectar_caso_negativo(resultados_casos)"
      ],
      "metadata": {
        "colab": {
          "base_uri": "https://localhost:8080/"
        },
        "id": "xlJJ5-2L-eXM",
        "outputId": "3629cf5a-f40e-4164-f843-5b229c2a66d4"
      },
      "execution_count": null,
      "outputs": [
        {
          "output_type": "stream",
          "name": "stdout",
          "text": [
            "Se detectó un caso negativo, deteniendo el proceso.\n"
          ]
        }
      ]
    },
    {
      "cell_type": "code",
      "source": [
        "# Omitir archivos revisados:\n",
        "# Escribe un programa que utilice continue para omitir documentos ya revisados\n",
        "# durante un bucle de procesamiento.\n",
        "\n",
        "def procesar_documentos_no_revisados(documentos):\n",
        "    documentos_no_revisados = []\n",
        "    for documento in documentos:\n",
        "        if documento[\"revisado\"]:\n",
        "            continue\n",
        "        documentos_no_revisados.append(documento[\"nombre\"])\n",
        "    return documentos_no_revisados\n",
        "\n",
        "documentos = [{\"nombre\": \"doc1\", \"revisado\": True}, {\"nombre\": \"doc2\", \"revisado\": False}]\n",
        "procesar_documentos_no_revisados(documentos)"
      ],
      "metadata": {
        "colab": {
          "base_uri": "https://localhost:8080/"
        },
        "id": "eW7pIsnl-kxP",
        "outputId": "018a0b2e-cb99-4695-fbdf-1399e43b5ac6"
      },
      "execution_count": null,
      "outputs": [
        {
          "output_type": "execute_result",
          "data": {
            "text/plain": [
              "['doc2']"
            ]
          },
          "metadata": {},
          "execution_count": 51
        }
      ]
    },
    {
      "cell_type": "code",
      "source": [
        "# Suma condicional de sanciones:\n",
        "# Usa un bucle for para calcular la suma de todas las sanciones impuestas,\n",
        "# excepto aquellas que fueron revocadas.\n",
        "\n",
        "def suma_sanciones_no_revocadas(sanciones):\n",
        "    total_sanciones = sum(sancion[\"total\"] for sancion in sanciones if not sancion[\"revocada\"])\n",
        "    return total_sanciones\n",
        "\n",
        "\n",
        "sanciones = [{\"total\": 100, \"revocada\": False}, {\"total\": 200, \"revocada\": True}, {\"total\": 50, \"revocada\": False}]\n",
        "suma_sanciones_no_revocadas(sanciones)"
      ],
      "metadata": {
        "colab": {
          "base_uri": "https://localhost:8080/"
        },
        "id": "0f61p2BK-o9y",
        "outputId": "97e7fc11-88f4-4904-e0e0-6499d9865803"
      },
      "execution_count": null,
      "outputs": [
        {
          "output_type": "execute_result",
          "data": {
            "text/plain": [
              "150"
            ]
          },
          "metadata": {},
          "execution_count": 50
        }
      ]
    },
    {
      "cell_type": "markdown",
      "source": [
        "### 3.4 Uso avanzado de bucles y condicionales"
      ],
      "metadata": {
        "id": "_g0ty3KS-AGV"
      }
    },
    {
      "cell_type": "code",
      "source": [
        "# Contador de términos legales en documentos:\n",
        "# Implementa un contador de frecuencia de términos legales específicos en una\n",
        "# serie de documentos usando un bucle for.\n",
        "\n",
        "def contar_terminos_legales(documentos, termino_busqueda):\n",
        "    contador = 0\n",
        "    for documento in documentos:\n",
        "        contador += documento.count(termino_busqueda)\n",
        "    return contador\n",
        "\n",
        "documentos = [\"Este es un contrato legal.\", \"Legalmente dicho, el término legal es ambiguo.\"]\n",
        "termino_busqueda = \"legal\"\n",
        "contador_terminos = contar_terminos_legales(documentos, termino_busqueda)\n",
        "print(\"Número de veces que aparece el término:\", contador_terminos)"
      ],
      "metadata": {
        "colab": {
          "base_uri": "https://localhost:8080/"
        },
        "id": "-RFxY_FH_Biu",
        "outputId": "3e5be058-8861-4b55-8cfa-ce7879c5ee96"
      },
      "execution_count": null,
      "outputs": [
        {
          "output_type": "stream",
          "name": "stdout",
          "text": [
            "Número de veces que aparece el término: 2\n"
          ]
        }
      ]
    },
    {
      "cell_type": "code",
      "source": [
        "# Potencias de interés:\n",
        "# Escribe un programa que calcule y muestre las primeras 10 potencias de una\n",
        "# tasa de interés del 2%.\n",
        "\n",
        "def potencias_interes(tasa_interes, n):\n",
        "    # Inicializa una lista vacía para almacenar las potencias\n",
        "    potencias = []\n",
        "    # Calcula cada potencia de (1 + tasa_interes) desde 1 hasta n y añádelas a la lista\n",
        "    for i in range(1, n + 1):\n",
        "        potencia = (1 + tasa_interes) ** i\n",
        "        potencias.append(potencia)\n",
        "    return potencias\n",
        "\n",
        "tasa_interes = 0.02\n",
        "potencias = potencias_interes(tasa_interes, 10)\n",
        "print(\"Las primeras 10 potencias de la tasa de interés del 2% son:\", potencias)"
      ],
      "metadata": {
        "colab": {
          "base_uri": "https://localhost:8080/"
        },
        "id": "ojscP4oX_FFT",
        "outputId": "5aabd97e-47ae-489d-dd77-3d6ec4d2acb9"
      },
      "execution_count": null,
      "outputs": [
        {
          "output_type": "stream",
          "name": "stdout",
          "text": [
            "Las primeras 10 potencias de la tasa de interés del 2% son: [1.02, 1.0404, 1.0612080000000002, 1.08243216, 1.1040808032, 1.126162419264, 1.14868566764928, 1.1716593810022657, 1.195092568622311, 1.2189944199947573]\n"
          ]
        }
      ]
    },
    {
      "cell_type": "code",
      "source": [
        "# Duplicados en registros de casos:\n",
        "# Crea un programa que detecte si un número de caso se ha registrado más de una\n",
        "# vez en la base de datos (lista).\n",
        "\n",
        "def detectar_duplicados(casos):\n",
        "    vistos = set()\n",
        "    duplicados = set()\n",
        "    for caso in casos:\n",
        "        if caso in vistos:\n",
        "            duplicados.add(caso)\n",
        "        vistos.add(caso)\n",
        "    return duplicados\n",
        "\n",
        "casos = [1, 2, 3, 2, 4]\n",
        "duplicados = detectar_duplicados(casos)\n",
        "print(\"Casos duplicados en los registros:\", duplicados)"
      ],
      "metadata": {
        "colab": {
          "base_uri": "https://localhost:8080/"
        },
        "id": "H3rT2vfN_eNt",
        "outputId": "023f0319-86c5-4801-a600-039425751b0c"
      },
      "execution_count": null,
      "outputs": [
        {
          "output_type": "stream",
          "name": "stdout",
          "text": [
            "Casos duplicados en los registros: {2}\n"
          ]
        }
      ]
    },
    {
      "cell_type": "code",
      "source": [
        "# Simulación de negociación de un acuerdo:\n",
        "# Desarrolla una simulación de un juego de adivinar un número, representando la\n",
        "# negociación de un acuerdo, en el que un \"agente automático\" tiene un número\n",
        "# limitado de intentos para llegar al número objetivo a través de ofertas\n",
        "# generadas aleatoriamente.\n",
        "\n",
        "import random\n",
        "\n",
        "def juego_negociacion(numero_objetivo, intentos_maximos, rango_min, rango_max):\n",
        "    intentos = 0\n",
        "    while intentos < intentos_maximos:\n",
        "        intentos += 1\n",
        "        # Genera una oferta aleatoria dentro del rango especificado\n",
        "        oferta = random.randint(rango_min, rango_max)\n",
        "        print(f\"Intento {intentos}/{intentos_maximos} - Oferta: {oferta}\")\n",
        "\n",
        "        if oferta == numero_objetivo:\n",
        "            return f\"Felicitaciones! El agente ha acertado el número en {intentos} intentos.\"\n",
        "        elif oferta < numero_objetivo:\n",
        "            print(\"La oferta del agente es demasiado baja.\")\n",
        "        else:\n",
        "            print(\"La oferta del agente es demasiado alta.\")\n",
        "        # Ajustar el rango basado en la oferta para hacer más inteligente al agente\n",
        "        if oferta < numero_objetivo:\n",
        "            rango_min = oferta + 1\n",
        "        else:\n",
        "            rango_max = oferta - 1\n",
        "\n",
        "    return \"Lo siento, el agente no ha acertado el número. Juego terminado.\"\n",
        "\n",
        "numero_objetivo = 50\n",
        "intentos_maximos = 10\n",
        "rango_min = 1\n",
        "rango_max = 100\n",
        "resultado = juego_negociacion(numero_objetivo, intentos_maximos, rango_min, rango_max)\n",
        "print(resultado)"
      ],
      "metadata": {
        "colab": {
          "base_uri": "https://localhost:8080/"
        },
        "id": "DSfUhxpJ_h3h",
        "outputId": "97914758-9976-4652-fac0-768a61798e9b"
      },
      "execution_count": null,
      "outputs": [
        {
          "output_type": "stream",
          "name": "stdout",
          "text": [
            "Intento 1/10 - Oferta: 59\n",
            "La oferta del agente es demasiado alta.\n",
            "Intento 2/10 - Oferta: 44\n",
            "La oferta del agente es demasiado baja.\n",
            "Intento 3/10 - Oferta: 53\n",
            "La oferta del agente es demasiado alta.\n",
            "Intento 4/10 - Oferta: 51\n",
            "La oferta del agente es demasiado alta.\n",
            "Intento 5/10 - Oferta: 45\n",
            "La oferta del agente es demasiado baja.\n",
            "Intento 6/10 - Oferta: 50\n",
            "Felicitaciones! El agente ha acertado el número en 6 intentos.\n"
          ]
        }
      ]
    },
    {
      "cell_type": "markdown",
      "source": [
        "### 3.5 Proyectos de integración"
      ],
      "metadata": {
        "id": "PbF5tg9K_pmy"
      }
    },
    {
      "cell_type": "code",
      "source": [
        "# Cálculo de interés compuesto para indemnizaciones:\n",
        "# Diseña un programa que calcule el interés compuesto para una indemnización\n",
        "# con entradas del usuario para cantidad inicial, tasa de interés anual y años.\n",
        "\n",
        "def calcular_interes_compuesto(principal, tasa_interes, anos):\n",
        "    # Calcula el total final usando la fórmula de interés compuesto\n",
        "    total_final = principal * (1 + tasa_interes) ** anos\n",
        "    return total_final\n",
        "\n",
        "principal = 1000  # cantidad inicial en euros\n",
        "tasa_interes = 0.05  # tasa de interés anual\n",
        "anos = 3  # número de años\n",
        "total_final = calcular_interes_compuesto(principal, tasa_interes, anos)\n",
        "print(f\"El coste total final después de {anos} años es: {total_final:.2f} EUR\")"
      ],
      "metadata": {
        "colab": {
          "base_uri": "https://localhost:8080/"
        },
        "id": "DyQYJz_H_xF_",
        "outputId": "c60d8092-8a8a-4759-fc82-ebb0a63fc48b"
      },
      "execution_count": null,
      "outputs": [
        {
          "output_type": "stream",
          "name": "stdout",
          "text": [
            "El coste total final después de 3 años es: 1157.63 EUR\n"
          ]
        }
      ]
    },
    {
      "cell_type": "code",
      "source": [
        "# Registro de elegibilidad para representación gratuita:\n",
        "# Implementa un sistema de registro donde los abogados pueden ingresar si sus\n",
        "# clientes son elegibles para representación legal gratuita basada en su ingreso anual.\n",
        "\n",
        "def verificar_elegibilidad(ingreso_anual):\n",
        "    limite_ingreso = 30000  # límite de ingresos para elegibilidad en EUR\n",
        "    if ingreso_anual <= limite_ingreso:\n",
        "        return True\n",
        "    return False\n",
        "\n",
        "ingreso_anual = 25000\n",
        "es_elegible = verificar_elegibilidad(ingreso_anual)\n",
        "print(\"El cliente es elegible para representación gratuita:\", es_elegible)"
      ],
      "metadata": {
        "colab": {
          "base_uri": "https://localhost:8080/"
        },
        "id": "y4V0kxjy_xC3",
        "outputId": "1370f6b2-8427-447f-8d74-0696e2770cfb"
      },
      "execution_count": null,
      "outputs": [
        {
          "output_type": "stream",
          "name": "stdout",
          "text": [
            "El cliente es elegible para representación gratuita: True\n"
          ]
        }
      ]
    },
    {
      "cell_type": "code",
      "source": [
        "# Gestión de tiempos de audiencias en un tribunal:\n",
        "# Crea un programa que gestione los tiempos de las audiencias en un tribunal,\n",
        "# asegurándose de que ninguna audiencia se solape con otra.\n",
        "\n",
        "def gestionar_audiencias(audiencias):\n",
        "    audiencias.sort(key=lambda x: x['inicio'])  # Ordena las audiencias por hora de inicio\n",
        "    for i in range(len(audiencias) - 1):\n",
        "        if audiencias[i]['fin'] > audiencias[i+1]['inicio']:\n",
        "            return False  # Existe un solape\n",
        "    return True\n",
        "\n",
        "audiencias = [{'inicio': 9, 'fin': 11}, {'inicio': 11, 'fin': 13}, {'inicio': 13, 'fin': 15}]\n",
        "es_valido = gestionar_audiencias(audiencias)\n",
        "print(\"No hay solapamientos en las audiencias:\", es_valido)"
      ],
      "metadata": {
        "colab": {
          "base_uri": "https://localhost:8080/"
        },
        "id": "3O2lEgIo_wmv",
        "outputId": "6869ae36-aed7-44dd-f15c-8aff13a560d8"
      },
      "execution_count": null,
      "outputs": [
        {
          "output_type": "stream",
          "name": "stdout",
          "text": [
            "No hay solapamientos en las audiencias: True\n"
          ]
        }
      ]
    },
    {
      "cell_type": "code",
      "source": [
        "# Cálculo de costes legales totales:\n",
        "# Desarrolla un sistema para calcular el coste total de servicios legales\n",
        "# consumidos por un cliente, incluyendo impuestos y tarifas adicionales.\n",
        "\n",
        "def calcular_costes(servicios, impuesto):\n",
        "    total = sum(servicio['coste'] for servicio in servicios)\n",
        "    total_incluido_impuesto = total + total * impuesto\n",
        "    return total_incluido_impuesto\n",
        "\n",
        "servicios = [{'coste': 200}, {'coste': 300}, {'coste': 400}]\n",
        "impuesto = 0.21  # 21% de impuesto\n",
        "total = calcular_costes(servicios, impuesto)\n",
        "print(f\"El coste total de los servicios legales es: {total:.2f} EUR\")\n"
      ],
      "metadata": {
        "colab": {
          "base_uri": "https://localhost:8080/"
        },
        "id": "Qw8IbhUjACY2",
        "outputId": "06661c1d-e103-42b8-820d-146f264bb991"
      },
      "execution_count": null,
      "outputs": [
        {
          "output_type": "stream",
          "name": "stdout",
          "text": [
            "El coste total de los servicios legales es: 1089.00 EUR\n"
          ]
        }
      ]
    },
    {
      "cell_type": "code",
      "source": [
        "# Cálculo de días desde la presentación de casos:\n",
        "# Desarrolla un sistema que permita al usuario introducir fechas de presentación\n",
        "# de casos y determine cuántos días han pasado desde entonces.\n",
        "\n",
        "from datetime import datetime\n",
        "\n",
        "def dias_desde_presentacion(fecha_presentacion):\n",
        "    fecha_presentacion = datetime.strptime(fecha_presentacion, \"%Y-%m-%d\")\n",
        "    hoy = datetime.now()\n",
        "    diferencia = hoy - fecha_presentacion\n",
        "    return diferencia.days\n",
        "\n",
        "fecha_presentacion = \"2020-01-01\"\n",
        "dias = dias_desde_presentacion(fecha_presentacion)\n",
        "print(f\"Han pasado {dias} días desde la presentación del caso.\")\n"
      ],
      "metadata": {
        "colab": {
          "base_uri": "https://localhost:8080/"
        },
        "id": "Az6wr-1mAJSs",
        "outputId": "7077e5bf-7ac7-4ea1-9243-3c094f0f5483"
      },
      "execution_count": null,
      "outputs": [
        {
          "output_type": "stream",
          "name": "stdout",
          "text": [
            "Han pasado 1573 días desde la presentación del caso.\n"
          ]
        }
      ]
    },
    {
      "cell_type": "code",
      "source": [
        "# Simulación de evaluación de estrategias legales:\n",
        "# Desarrolla un sistema que permita a los usuarios evaluar diferentes estrategias\n",
        "# legales basadas en variables de entrada como tipo de caso, jurisdicción y valor disputado.\n",
        "\n",
        "def evaluar_estrategia(tipo_caso, jurisdiccion, valor_disputado):\n",
        "    # Este es un ejemplo simplificado que podría basarse en reglas o modelos más complejos\n",
        "    if tipo_caso == \"civil\" and jurisdiccion == \"internacional\" and valor_disputado > 100000:\n",
        "        return \"Estrategia A\"\n",
        "    elif tipo_caso == \"penal\" and valor_disputado < 50000:\n",
        "        return \"Estrategia B\"\n",
        "    else:\n",
        "        return \"Estrategia C\"\n",
        "\n",
        "tipo_caso = \"civil\"\n",
        "jurisdiccion = \"internacional\"\n",
        "valor_disputado = 150000\n",
        "estrategia = evaluar_estrategia(tipo_caso, jurisdiccion, valor_disputado)\n",
        "print(\"La estrategia recomendada es:\", estrategia)\n"
      ],
      "metadata": {
        "colab": {
          "base_uri": "https://localhost:8080/"
        },
        "id": "YBgay82LAQyc",
        "outputId": "268fbdd3-df39-4eb1-a022-b451cb5dcad2"
      },
      "execution_count": null,
      "outputs": [
        {
          "output_type": "stream",
          "name": "stdout",
          "text": [
            "La estrategia recomendada es: Estrategia A\n"
          ]
        }
      ]
    }
  ]
}